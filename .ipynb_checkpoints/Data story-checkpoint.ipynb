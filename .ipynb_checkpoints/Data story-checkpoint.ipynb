{
 "cells": [
  {
   "cell_type": "markdown",
   "metadata": {
    "collapsed": true
   },
   "source": [
    "## A data approach to start-ups\n",
    "***"
   ]
  },
  {
   "cell_type": "markdown",
   "metadata": {},
   "source": [
    "<b><u>Idea:</u></b> Working in the world of M&A data, I am constantly exposed to start-ups and their evolution. What always surprises me is how some start-ups manage to get acquired at lofty valuations, sometimes in the billions of dollars, while other start-ups disappear entirely. Take Snapchat – now known as Snap Inc – for example. This messaging app has recently undergone the biggest tech IPO of the year at a valuation of USD 25bn. By contrast, Barnes & Noble, probably the most well-known bookstore chain in the US, with its 130-year history and close to 640 brick-and-mortar stores around the country, has a market cap of USD 760m, 30x times less than the expected market cap of Snapchat! Snapchat’s idea was original to some degree but not unique. There had been start-ups alongside Snapchat that had proposed similar ideas: Wickr, Hash, Ansa, Secret. Wickr still exists, but the other three have disappeared. The million-dollar question is: who could have predicted Snapchat's success early on and who could have predicted Secret's failure? This question has always been of huge interest to me, and I am hoping to answer it with this capstone project. <br></br><br></br>\n",
    "<b><u>Target audience:</u></b> This project is intended for <b>anyone looking to start a business</b>. Which factors should they consider when looking for financing? How many funding rounds are optimal for success? Which investors have a track record of helping companies succeed? Most importantly, is it even possible to forecast success given some observable parameters at an early stage?<br></br>\n",
    "\n",
    "At the same time, this is an important question for <b>investors</b> as well. The goal for any investor is to maximize returns, so the better they can predit success of an investment, they more successful they will be themselves. If only they had a tool to reveal all potential investments that are likely to succeed. "
   ]
  },
  {
   "cell_type": "markdown",
   "metadata": {},
   "source": [
    "<b><u>References:</u></b> This study question is interesting, but it is not new. Several studies have been done in the past assessing factors influencing start-up growth. Previous studies have focused on education vs. experience of entrepreneurs, management style, cash-burn-rate in the first year, and even the name of a start-up. Most of the studies are based on surveys or on data focusing on specific geographies. However, no expansive, <i>predictive</i> study using historical, comprehensive dataset is known to date. "
   ]
  },
  {
   "cell_type": "markdown",
   "metadata": {},
   "source": [
    "<b><u>Data:</u></b> The data for the project came from crunchbase, a data company: https://www.crunchbase.com/\n",
    "Crunchbase data on start-ups is broken down into three separate datasets: <b>companies</b> (with specific information on companies), <b>acquisitions</b> (which includes information on acquisitions by start-ups and of start-ups), and <b>investments</b> (which focuses on VC funding rounds).\n",
    "\n",
    "The three datasets used in the project were downloaded on <b>December 4th 2015</b> and were made available on github by a different user. \n",
    "\n",
    "Use of this data is governed by the [CrunchBase Terms of Service and Licensing Policy](https://about.crunchbase.com/docs/terms-of-service/). \n",
    "***"
   ]
  },
  {
   "cell_type": "markdown",
   "metadata": {},
   "source": [
    "Let's start by loading different packages that will help us explore all three datasets"
   ]
  },
  {
   "cell_type": "code",
   "execution_count": 1,
   "metadata": {
    "collapsed": false
   },
   "outputs": [],
   "source": [
    "import pandas as pd\n",
    "import numpy as np\n",
    "import matplotlib.pyplot as plt\n",
    "import scipy as scp\n",
    "import seaborn as sb"
   ]
  },
  {
   "cell_type": "markdown",
   "metadata": {},
   "source": [
    "### Data exploration"
   ]
  },
  {
   "cell_type": "markdown",
   "metadata": {},
   "source": [
    "<b>Companies dataset </b>\n",
    "\n",
    "Next, we will begin by exploring the first dataset, companies.csv, which is supposed to be an overview of available start-ups. "
   ]
  },
  {
   "cell_type": "code",
   "execution_count": 2,
   "metadata": {
    "collapsed": false
   },
   "outputs": [],
   "source": [
    "companies = pd.DataFrame.from_csv('companies.csv', index_col = None)"
   ]
  },
  {
   "cell_type": "code",
   "execution_count": 3,
   "metadata": {
    "collapsed": false
   },
   "outputs": [
    {
     "name": "stdout",
     "output_type": "stream",
     "text": [
      "There are 27327.000000 start-ups with data on Crunchbase.\n"
     ]
    }
   ],
   "source": [
    "print(\"There are {:2f}\".format(len(companies)) + \" start-ups with data on Crunchbase.\")"
   ]
  },
  {
   "cell_type": "code",
   "execution_count": 4,
   "metadata": {
    "collapsed": false
   },
   "outputs": [
    {
     "data": {
      "text/html": [
       "<div>\n",
       "<style>\n",
       "    .dataframe thead tr:only-child th {\n",
       "        text-align: right;\n",
       "    }\n",
       "\n",
       "    .dataframe thead th {\n",
       "        text-align: left;\n",
       "    }\n",
       "\n",
       "    .dataframe tbody tr th {\n",
       "        vertical-align: top;\n",
       "    }\n",
       "</style>\n",
       "<table border=\"1\" class=\"dataframe\">\n",
       "  <thead>\n",
       "    <tr style=\"text-align: right;\">\n",
       "      <th></th>\n",
       "      <th>permalink</th>\n",
       "      <th>name</th>\n",
       "      <th>homepage_url</th>\n",
       "      <th>category_code</th>\n",
       "      <th>funding_total_usd</th>\n",
       "      <th>status</th>\n",
       "      <th>country_code</th>\n",
       "      <th>state_code</th>\n",
       "      <th>region</th>\n",
       "      <th>city</th>\n",
       "      <th>funding_rounds</th>\n",
       "      <th>founded_at</th>\n",
       "      <th>founded_month</th>\n",
       "      <th>founded_quarter</th>\n",
       "      <th>founded_year</th>\n",
       "      <th>first_funding_at</th>\n",
       "      <th>last_funding_at</th>\n",
       "      <th>last_milestone_at</th>\n",
       "      <th>id</th>\n",
       "    </tr>\n",
       "  </thead>\n",
       "  <tbody>\n",
       "    <tr>\n",
       "      <th>0</th>\n",
       "      <td>/company/8868</td>\n",
       "      <td>8868</td>\n",
       "      <td>http://www.8868.cn</td>\n",
       "      <td>NaN</td>\n",
       "      <td>NaN</td>\n",
       "      <td>operating</td>\n",
       "      <td>NaN</td>\n",
       "      <td>NaN</td>\n",
       "      <td>unknown</td>\n",
       "      <td>NaN</td>\n",
       "      <td>1</td>\n",
       "      <td>NaN</td>\n",
       "      <td>NaN</td>\n",
       "      <td>NaN</td>\n",
       "      <td>NaN</td>\n",
       "      <td>12/1/2013</td>\n",
       "      <td>12/1/2013</td>\n",
       "      <td>NaN</td>\n",
       "      <td>1</td>\n",
       "    </tr>\n",
       "    <tr>\n",
       "      <th>1</th>\n",
       "      <td>/company/21e6</td>\n",
       "      <td>2.10E+07</td>\n",
       "      <td>NaN</td>\n",
       "      <td>NaN</td>\n",
       "      <td>5050000.0</td>\n",
       "      <td>operating</td>\n",
       "      <td>USA</td>\n",
       "      <td>CA</td>\n",
       "      <td>SF Bay</td>\n",
       "      <td>San Francisco</td>\n",
       "      <td>1</td>\n",
       "      <td>1/1/2013</td>\n",
       "      <td>2013-01</td>\n",
       "      <td>2013-Q1</td>\n",
       "      <td>2013.0</td>\n",
       "      <td>11/17/2013</td>\n",
       "      <td>11/17/2013</td>\n",
       "      <td>NaN</td>\n",
       "      <td>2</td>\n",
       "    </tr>\n",
       "    <tr>\n",
       "      <th>2</th>\n",
       "      <td>/company/club-domains</td>\n",
       "      <td>.Club Domains</td>\n",
       "      <td>http://dotclub.com</td>\n",
       "      <td>software</td>\n",
       "      <td>7000000.0</td>\n",
       "      <td>operating</td>\n",
       "      <td>USA</td>\n",
       "      <td>FL</td>\n",
       "      <td>Fort Lauderdale</td>\n",
       "      <td>Oakland Park</td>\n",
       "      <td>1</td>\n",
       "      <td>10/10/2011</td>\n",
       "      <td>2011-10</td>\n",
       "      <td>2011-Q4</td>\n",
       "      <td>2011.0</td>\n",
       "      <td>5/31/2013</td>\n",
       "      <td>5/31/2013</td>\n",
       "      <td>NaN</td>\n",
       "      <td>3</td>\n",
       "    </tr>\n",
       "    <tr>\n",
       "      <th>3</th>\n",
       "      <td>/company/fox-networks</td>\n",
       "      <td>.Fox Networks</td>\n",
       "      <td>http://www.dotfox.com</td>\n",
       "      <td>advertising</td>\n",
       "      <td>4912394.0</td>\n",
       "      <td>closed</td>\n",
       "      <td>ARG</td>\n",
       "      <td>NaN</td>\n",
       "      <td>Buenos Aires</td>\n",
       "      <td>Buenos Aires</td>\n",
       "      <td>1</td>\n",
       "      <td>NaN</td>\n",
       "      <td>NaN</td>\n",
       "      <td>NaN</td>\n",
       "      <td>NaN</td>\n",
       "      <td>1/16/2007</td>\n",
       "      <td>1/16/2007</td>\n",
       "      <td>7/1/2008</td>\n",
       "      <td>4</td>\n",
       "    </tr>\n",
       "  </tbody>\n",
       "</table>\n",
       "</div>"
      ],
      "text/plain": [
       "               permalink           name           homepage_url category_code  \\\n",
       "0          /company/8868           8868     http://www.8868.cn           NaN   \n",
       "1          /company/21e6       2.10E+07                    NaN           NaN   \n",
       "2  /company/club-domains  .Club Domains     http://dotclub.com      software   \n",
       "3  /company/fox-networks  .Fox Networks  http://www.dotfox.com   advertising   \n",
       "\n",
       "   funding_total_usd     status country_code state_code           region  \\\n",
       "0                NaN  operating          NaN        NaN          unknown   \n",
       "1          5050000.0  operating          USA         CA           SF Bay   \n",
       "2          7000000.0  operating          USA         FL  Fort Lauderdale   \n",
       "3          4912394.0     closed          ARG        NaN     Buenos Aires   \n",
       "\n",
       "            city  funding_rounds  founded_at founded_month founded_quarter  \\\n",
       "0            NaN               1         NaN           NaN             NaN   \n",
       "1  San Francisco               1    1/1/2013      2013-01          2013-Q1   \n",
       "2   Oakland Park               1  10/10/2011      2011-10          2011-Q4   \n",
       "3   Buenos Aires               1         NaN           NaN             NaN   \n",
       "\n",
       "   founded_year first_funding_at last_funding_at last_milestone_at  id  \n",
       "0           NaN        12/1/2013       12/1/2013               NaN   1  \n",
       "1        2013.0       11/17/2013      11/17/2013               NaN   2  \n",
       "2        2011.0        5/31/2013       5/31/2013               NaN   3  \n",
       "3           NaN        1/16/2007       1/16/2007          7/1/2008   4  "
      ]
     },
     "execution_count": 4,
     "metadata": {},
     "output_type": "execute_result"
    }
   ],
   "source": [
    "companies[0:4]"
   ]
  },
  {
   "cell_type": "markdown",
   "metadata": {},
   "source": [
    "We can also look at one specific company on the list:"
   ]
  },
  {
   "cell_type": "code",
   "execution_count": 5,
   "metadata": {
    "collapsed": false
   },
   "outputs": [
    {
     "data": {
      "text/plain": [
       "permalink            /company/21e6\n",
       "name                      2.10E+07\n",
       "homepage_url                   NaN\n",
       "category_code                  NaN\n",
       "funding_total_usd         5.05e+06\n",
       "status                   operating\n",
       "country_code                   USA\n",
       "state_code                      CA\n",
       "region                      SF Bay\n",
       "city                 San Francisco\n",
       "funding_rounds                   1\n",
       "founded_at                1/1/2013\n",
       "founded_month             2013-01 \n",
       "founded_quarter            2013-Q1\n",
       "founded_year                  2013\n",
       "first_funding_at        11/17/2013\n",
       "last_funding_at         11/17/2013\n",
       "last_milestone_at              NaN\n",
       "id                               2\n",
       "Name: 1, dtype: object"
      ]
     },
     "execution_count": 5,
     "metadata": {},
     "output_type": "execute_result"
    }
   ],
   "source": [
    "companies.loc[1]"
   ]
  },
  {
   "cell_type": "markdown",
   "metadata": {},
   "source": [
    "Even though it might seem that there is something wrong with the company name, the company's real name is in fact 21e6 -- it's a bitcoin startup. \n",
    "\n",
    "Another observation is that several fields for this company have missing information, and we will have to account for that in our future analysis."
   ]
  },
  {
   "cell_type": "markdown",
   "metadata": {},
   "source": [
    "Next, let's check the type of all columns in the dataset to make sure we can use them for our analysis going forward."
   ]
  },
  {
   "cell_type": "code",
   "execution_count": 6,
   "metadata": {
    "collapsed": false
   },
   "outputs": [
    {
     "name": "stdout",
     "output_type": "stream",
     "text": [
      "<class 'pandas.core.frame.DataFrame'>\n",
      "RangeIndex: 27327 entries, 0 to 27326\n",
      "Data columns (total 19 columns):\n",
      "permalink            27327 non-null object\n",
      "name                 27327 non-null object\n",
      "homepage_url         25940 non-null object\n",
      "category_code        26298 non-null object\n",
      "funding_total_usd    24010 non-null float64\n",
      "status               27327 non-null object\n",
      "country_code         25504 non-null object\n",
      "state_code           16872 non-null object\n",
      "region               27327 non-null object\n",
      "city                 24705 non-null object\n",
      "funding_rounds       27327 non-null int64\n",
      "founded_at           21441 non-null object\n",
      "founded_month        21441 non-null object\n",
      "founded_quarter      21441 non-null object\n",
      "founded_year         21441 non-null float64\n",
      "first_funding_at     27176 non-null object\n",
      "last_funding_at      27176 non-null object\n",
      "last_milestone_at    14604 non-null object\n",
      "id                   27327 non-null int64\n",
      "dtypes: float64(2), int64(2), object(15)\n",
      "memory usage: 4.0+ MB\n"
     ]
    }
   ],
   "source": [
    "companies.info()"
   ]
  },
  {
   "cell_type": "markdown",
   "metadata": {},
   "source": [
    "Almost all columns are of type object, including those columns containing dates (first_funding_at, last_funding_at, and last_milestone_at). Two columns are of type float (funding_total_usd and founded_year) and one column is of type int (funding_rounds)."
   ]
  },
  {
   "cell_type": "markdown",
   "metadata": {},
   "source": [
    "Next, let's ask a few questions about the dataset to get to know that data better."
   ]
  },
  {
   "cell_type": "markdown",
   "metadata": {},
   "source": [
    "##### What is the distrubution of start-ups across the globe?"
   ]
  },
  {
   "cell_type": "code",
   "execution_count": 7,
   "metadata": {
    "collapsed": false
   },
   "outputs": [
    {
     "data": {
      "text/plain": [
       "[('USA', 17053),\n",
       " ('GBR', 1629),\n",
       " ('CAN', 852),\n",
       " ('DEU', 622),\n",
       " ('FRA', 589),\n",
       " ('IND', 505),\n",
       " ('ISR', 457),\n",
       " ('ESP', 309),\n",
       " ('CHN', 299),\n",
       " ('SWE', 227),\n",
       " ('ITA', 202),\n",
       " ('AUS', 201),\n",
       " ('IRL', 193),\n",
       " ('NLD', 181)]"
      ]
     },
     "execution_count": 7,
     "metadata": {},
     "output_type": "execute_result"
    }
   ],
   "source": [
    "countries = companies.country_code.dropna()\n",
    "from collections import Counter\n",
    "countries_dict = Counter(countries)\n",
    "sorted_countries = sorted(countries_dict.items(), key = lambda x: x[1], reverse = True)\n",
    "sorted_countries[0:14]"
   ]
  },
  {
   "cell_type": "code",
   "execution_count": 8,
   "metadata": {
    "collapsed": false
   },
   "outputs": [
    {
     "data": {
      "text/plain": [
       "<matplotlib.axes._subplots.AxesSubplot at 0x2036562f0f0>"
      ]
     },
     "execution_count": 8,
     "metadata": {},
     "output_type": "execute_result"
    },
    {
     "data": {
      "image/png": "[encoded data removed]",
      "text/plain": [
       "<matplotlib.figure.Figure at 0x203655ecf60>"
      ]
     },
     "metadata": {},
     "output_type": "display_data"
    }
   ],
   "source": [
    "countries_df = pd.DataFrame(sorted_countries[0:14])\n",
    "countries_df.columns = ['country', 'company_count']\n",
    "\n",
    "%matplotlib inline\n",
    "\n",
    "sb.barplot(x ='country', y ='company_count', color = 'blue', data = countries_df)\n"
   ]
  },
  {
   "cell_type": "markdown",
   "metadata": {},
   "source": [
    "Looking at the chart, we can already tell that most start-ups are based in the US, with UK and Canada being distant second and third. While it is reasonable to suppose that US has the most start-ups, it might also indicate a selection bias due to available data on start-ups (presumably, it might be easier to come across start-up data in the US, or, alternatively, companies in the US might be more inclined to add their data to crunchbase).\n",
    "\n",
    "That's one of the basic questions about the data. Now let's look further into questions that are more closely related to our research problem, which is centered around success and failure of start-ups."
   ]
  },
  {
   "cell_type": "markdown",
   "metadata": {},
   "source": [
    "##### How many companies are operating, were acquired, got listed, or had to close down?"
   ]
  },
  {
   "cell_type": "code",
   "execution_count": 9,
   "metadata": {
    "collapsed": false
   },
   "outputs": [
    {
     "data": {
      "image/png": "[encoded data removed]",
      "text/plain": [
       "<matplotlib.figure.Figure at 0x203655ecb70>"
      ]
     },
     "metadata": {},
     "output_type": "display_data"
    }
   ],
   "source": [
    "operating = companies[companies.status == 'operating'].permalink.count()\n",
    "closed = companies[companies.status == 'closed'].permalink.count()\n",
    "acquired = companies[companies.status == 'acquired'].permalink.count()\n",
    "ipo = companies[companies.status == 'ipo'].permalink.count()\n",
    "oper_closed_dict = {'operating': operating, 'closed': closed, 'acquired': acquired, 'ipo': ipo}\n",
    "oper_closed_df = pd.DataFrame.from_dict(oper_closed_dict, orient = 'index')\n",
    "\n",
    "oper_closed_df.reset_index(inplace = True)\n",
    "oper_closed_df.columns = ['status', 'count']\n",
    "\n",
    "fig, ax = plt.subplots()\n",
    "\n",
    "sb.countplot(data = companies, x = companies.status[companies.status != 'operating'], hue_order = 'status', palette = 'Oranges_d')\n",
    "\n",
    "ax.set_title('Number of start-ups by status')\n",
    "ax.set_frame_on(False)\n",
    "plt.savefig('Status.png', bbox_inches='tight')"
   ]
  },
  {
   "cell_type": "markdown",
   "metadata": {},
   "source": [
    "Here are the more precise numbers:"
   ]
  },
  {
   "cell_type": "code",
   "execution_count": 10,
   "metadata": {
    "collapsed": false
   },
   "outputs": [
    {
     "data": {
      "text/html": [
       "<div>\n",
       "<style>\n",
       "    .dataframe thead tr:only-child th {\n",
       "        text-align: right;\n",
       "    }\n",
       "\n",
       "    .dataframe thead th {\n",
       "        text-align: left;\n",
       "    }\n",
       "\n",
       "    .dataframe tbody tr th {\n",
       "        vertical-align: top;\n",
       "    }\n",
       "</style>\n",
       "<table border=\"1\" class=\"dataframe\">\n",
       "  <thead>\n",
       "    <tr style=\"text-align: right;\">\n",
       "      <th></th>\n",
       "      <th>status</th>\n",
       "      <th>count</th>\n",
       "    </tr>\n",
       "  </thead>\n",
       "  <tbody>\n",
       "    <tr>\n",
       "      <th>0</th>\n",
       "      <td>operating</td>\n",
       "      <td>22523</td>\n",
       "    </tr>\n",
       "    <tr>\n",
       "      <th>1</th>\n",
       "      <td>closed</td>\n",
       "      <td>2153</td>\n",
       "    </tr>\n",
       "    <tr>\n",
       "      <th>2</th>\n",
       "      <td>acquired</td>\n",
       "      <td>2176</td>\n",
       "    </tr>\n",
       "    <tr>\n",
       "      <th>3</th>\n",
       "      <td>ipo</td>\n",
       "      <td>475</td>\n",
       "    </tr>\n",
       "  </tbody>\n",
       "</table>\n",
       "</div>"
      ],
      "text/plain": [
       "      status  count\n",
       "0  operating  22523\n",
       "1     closed   2153\n",
       "2   acquired   2176\n",
       "3        ipo    475"
      ]
     },
     "execution_count": 10,
     "metadata": {},
     "output_type": "execute_result"
    }
   ],
   "source": [
    "oper_closed_df"
   ]
  },
  {
   "cell_type": "markdown",
   "metadata": {},
   "source": [
    "Based on the data, we can see that less than 10% of companies are identified as closed in the database, while a similar number of start-ups have already been acquired.\n",
    "\n",
    "It is those closed (unsuccessful) vs. acquired or listed (successful) companies that we will be particularly interested in later in our analysis."
   ]
  },
  {
   "cell_type": "markdown",
   "metadata": {},
   "source": [
    "##### Year founded and status"
   ]
  },
  {
   "cell_type": "markdown",
   "metadata": {},
   "source": [
    "There might be a correlation between year founded and the status of a company, so let's visualize these two parameters. For example, companies founded during recession or right before recession might have a higher probability of closing down. Let's explore that."
   ]
  },
  {
   "cell_type": "code",
   "execution_count": 11,
   "metadata": {
    "collapsed": false
   },
   "outputs": [
    {
     "data": {
      "text/plain": [
       "<matplotlib.axes._subplots.AxesSubplot at 0x20365adcdd8>"
      ]
     },
     "execution_count": 11,
     "metadata": {},
     "output_type": "execute_result"
    },
    {
     "data": {
      "image/png": "[encoded data removed]",
      "text/plain": [
       "<matplotlib.figure.Figure at 0x20365adcda0>"
      ]
     },
     "metadata": {},
     "output_type": "display_data"
    }
   ],
   "source": [
    "year_founded = companies['founded_year']\n",
    "status = companies['status']\n",
    "year_vs_status = {'year founded': year_founded, 'status': status}\n",
    "year_vs_status_df = pd.DataFrame(year_vs_status)\n",
    "new_dict = year_vs_status_df.groupby('status')['year founded'].value_counts()\n",
    "new_df = pd.DataFrame.from_dict(new_dict)\n",
    "new_df = new_df.unstack()\n",
    "new_df = new_df.transpose()\n",
    "new_df = new_df.reset_index()\n",
    "new_df = new_df.drop('level_0',1)\n",
    "new_df = new_df.tail(20)\n",
    "\n",
    "# let's do a line graph of year_founded vs. status\n",
    "sb.set_style(\"darkgrid\")\n",
    "new_df.plot(x = 'year founded')"
   ]
  },
  {
   "cell_type": "markdown",
   "metadata": {},
   "source": [
    "if we exclude operating companies, most of which were founed after 2010, as expected:"
   ]
  },
  {
   "cell_type": "code",
   "execution_count": 12,
   "metadata": {
    "collapsed": false
   },
   "outputs": [
    {
     "data": {
      "text/plain": [
       "<matplotlib.axes._subplots.AxesSubplot at 0x2036564a3c8>"
      ]
     },
     "execution_count": 12,
     "metadata": {},
     "output_type": "execute_result"
    },
    {
     "data": {
      "image/png": "[encoded data removed]",
      "text/plain": [
       "<matplotlib.figure.Figure at 0x2036563b898>"
      ]
     },
     "metadata": {},
     "output_type": "display_data"
    }
   ],
   "source": [
    "without_oper = new_df.drop('operating', 1)\n",
    "sb.set_style(\"darkgrid\")\n",
    "without_oper.plot(x = 'year founded')"
   ]
  },
  {
   "cell_type": "markdown",
   "metadata": {},
   "source": [
    "What is interesting in this chart is that a lot of companies that got listed were founded between 1995 and 2000, which is actually quite reasonable and might suggest that it takes some time for companies to mature enough to get listed."
   ]
  },
  {
   "cell_type": "markdown",
   "metadata": {},
   "source": [
    "Let's also visualize when all companies in the database got founded, regardless of the status. This will help us compare ipo'ed companies to the 'average' company, for example."
   ]
  },
  {
   "cell_type": "code",
   "execution_count": 13,
   "metadata": {
    "collapsed": false
   },
   "outputs": [
    {
     "data": {
      "text/plain": [
       "<matplotlib.axes._subplots.AxesSubplot at 0x20365be0b38>"
      ]
     },
     "execution_count": 13,
     "metadata": {},
     "output_type": "execute_result"
    },
    {
     "data": {
      "image/png": "[encoded data removed]",
      "text/plain": [
       "<matplotlib.figure.Figure at 0x20365bb9908>"
      ]
     },
     "metadata": {},
     "output_type": "display_data"
    }
   ],
   "source": [
    "new_df['total'] = new_df['acquired'] + new_df['ipo'] + new_df['closed'] + new_df['operating']\n",
    "only_total = new_df.drop(['acquired', 'closed', 'ipo', 'operating'], 1)\n",
    "sb.set_style(\"darkgrid\")\n",
    "only_total.plot(x = 'year founded')"
   ]
  },
  {
   "cell_type": "markdown",
   "metadata": {},
   "source": [
    "More and more start-ups seem to be founded each year, with a sharp increase between 2008 and 2011, the recession years, which is actually quite interesting."
   ]
  },
  {
   "cell_type": "markdown",
   "metadata": {},
   "source": [
    "##### Visualizing total funding vs. status (operating or closed) might also shed some light on our research question."
   ]
  },
  {
   "cell_type": "code",
   "execution_count": 14,
   "metadata": {
    "collapsed": false
   },
   "outputs": [
    {
     "data": {
      "image/png": "[encoded data removed]",
      "text/plain": [
       "<matplotlib.figure.Figure at 0x20365eb56d8>"
      ]
     },
     "metadata": {},
     "output_type": "display_data"
    }
   ],
   "source": [
    "total_funding = companies['funding_total_usd']\n",
    "status = companies['status']\n",
    "funding_vs_status = {'total funding': total_funding, 'status': status}\n",
    "fund_vs_status_df = pd.DataFrame(funding_vs_status)\n",
    "\n",
    "sb.set(style=\"ticks\", color_codes=True)\n",
    "g = sb.FacetGrid(fund_vs_status_df, col=\"status\", sharex = False)\n",
    "g = g.map(sb.violinplot, \"total funding\", color = \"green\")"
   ]
  },
  {
   "cell_type": "markdown",
   "metadata": {},
   "source": [
    "What is interesting here is that, while companies that closed have similar funding size distribution patterns compared to other companies, those that were acquired or got listed are notable for extreme outlier cases. We can have a look at some of those."
   ]
  },
  {
   "cell_type": "code",
   "execution_count": 15,
   "metadata": {
    "collapsed": false
   },
   "outputs": [
    {
     "data": {
      "text/plain": [
       "operating    392\n",
       "ipo          103\n",
       "acquired      52\n",
       "closed        14\n",
       "Name: status, dtype: int64"
      ]
     },
     "execution_count": 15,
     "metadata": {},
     "output_type": "execute_result"
    }
   ],
   "source": [
    "large_funding = companies['funding_total_usd'] > 100000000\n",
    "companies[large_funding][\"status\"].value_counts()"
   ]
  },
  {
   "cell_type": "code",
   "execution_count": 16,
   "metadata": {
    "collapsed": false
   },
   "outputs": [
    {
     "data": {
      "text/plain": [
       "operating    0.698752\n",
       "ipo          0.183601\n",
       "acquired     0.092692\n",
       "closed       0.024955\n",
       "Name: status, dtype: float64"
      ]
     },
     "execution_count": 16,
     "metadata": {},
     "output_type": "execute_result"
    }
   ],
   "source": [
    "#and in proportion form:\n",
    "companies[large_funding][\"status\"].value_counts()/len(companies[large_funding])"
   ]
  },
  {
   "cell_type": "markdown",
   "metadata": {},
   "source": [
    "These numbers show that for the subset of start-ups that received total funding over $100m, most companies ended up being listed (18.4%), with only 14 (2.5%) closing down. For comparison purposes, the proportion of closed companies in the entire dataset is 7.9% compared to 1.7% for listed companies. "
   ]
  },
  {
   "cell_type": "markdown",
   "metadata": {},
   "source": [
    "Let's check the other end of the spectrum and chek those companies that received no funding."
   ]
  },
  {
   "cell_type": "code",
   "execution_count": 17,
   "metadata": {
    "collapsed": false
   },
   "outputs": [
    {
     "data": {
      "text/plain": [
       "operating    2737\n",
       "closed        346\n",
       "acquired      212\n",
       "ipo            22\n",
       "Name: status, dtype: int64"
      ]
     },
     "execution_count": 17,
     "metadata": {},
     "output_type": "execute_result"
    }
   ],
   "source": [
    "no_funding = companies.funding_total_usd.isnull()\n",
    "companies[no_funding][\"status\"].value_counts()"
   ]
  },
  {
   "cell_type": "code",
   "execution_count": 18,
   "metadata": {
    "collapsed": false
   },
   "outputs": [
    {
     "data": {
      "text/plain": [
       "operating    0.825143\n",
       "closed       0.104311\n",
       "acquired     0.063913\n",
       "ipo          0.006632\n",
       "Name: status, dtype: float64"
      ]
     },
     "execution_count": 18,
     "metadata": {},
     "output_type": "execute_result"
    }
   ],
   "source": [
    "companies[no_funding][\"status\"].value_counts()/len(companies[no_funding])"
   ]
  },
  {
   "cell_type": "markdown",
   "metadata": {},
   "source": [
    "Here, as expected, the effect is reversed: only 0.7% of companies with no prior funding got listed, while more than the average number of companies closed down (10.4%). The only problem to be aware of here -- NaN funding might not mean that the company had no funding whatsoever, it might also mean that we don't have enough information on the funding. So for now, we will avoid making any conclusions about 0 funding from the table."
   ]
  },
  {
   "cell_type": "markdown",
   "metadata": {},
   "source": [
    "#### What is the distribution of closed companies vs. operating companies by sector?"
   ]
  },
  {
   "cell_type": "code",
   "execution_count": 19,
   "metadata": {
    "collapsed": false
   },
   "outputs": [],
   "source": [
    "sector_status_acquired = companies[companies.status == 'acquired'].category_code.value_counts()\n",
    "sector_status_operating = companies[companies.status == 'operating'].category_code.value_counts()\n",
    "sector_status_closed = companies[companies.status == 'closed'].category_code.value_counts()\n",
    "sector_status_ipo = companies[companies.status == 'ipo'].category_code.value_counts()\n",
    "\n",
    "sector_status_dict = {'acquired': sector_status_acquired, 'operating': sector_status_operating, 'closed': sector_status_closed, 'ipo': sector_status_ipo}\n",
    "\n",
    "sector_status_df = pd.DataFrame.from_dict(sector_status_dict)\n",
    "sector_status_df = sector_status_df.fillna(value = 0)\n",
    "sector_status_df['proportion_acq'] = sector_status_df['acquired']/(sector_status_df['acquired']+sector_status_df['closed']+sector_status_df['operating']+sector_status_df['ipo'])\n",
    "sector_status_df['proportion_oper'] = sector_status_df['operating']/(sector_status_df['acquired']+sector_status_df['closed']+sector_status_df['operating']+sector_status_df['ipo'])\n",
    "sector_status_df['proportion_ipo'] = sector_status_df['ipo']/(sector_status_df['acquired']+sector_status_df['closed']+sector_status_df['operating']+sector_status_df['ipo'])\n",
    "sector_status_df['proportion_closed'] = sector_status_df['closed']/(sector_status_df['acquired']+sector_status_df['closed']+sector_status_df['operating']+sector_status_df['ipo'])\n"
   ]
  },
  {
   "cell_type": "markdown",
   "metadata": {},
   "source": [
    "##### top sector for acquired companies"
   ]
  },
  {
   "cell_type": "code",
   "execution_count": 20,
   "metadata": {
    "collapsed": false
   },
   "outputs": [
    {
     "data": {
      "text/html": [
       "<div>\n",
       "<style>\n",
       "    .dataframe thead tr:only-child th {\n",
       "        text-align: right;\n",
       "    }\n",
       "\n",
       "    .dataframe thead th {\n",
       "        text-align: left;\n",
       "    }\n",
       "\n",
       "    .dataframe tbody tr th {\n",
       "        vertical-align: top;\n",
       "    }\n",
       "</style>\n",
       "<table border=\"1\" class=\"dataframe\">\n",
       "  <thead>\n",
       "    <tr style=\"text-align: right;\">\n",
       "      <th></th>\n",
       "      <th>acquired</th>\n",
       "      <th>closed</th>\n",
       "      <th>ipo</th>\n",
       "      <th>operating</th>\n",
       "      <th>proportion_acq</th>\n",
       "      <th>proportion_oper</th>\n",
       "      <th>proportion_ipo</th>\n",
       "      <th>proportion_closed</th>\n",
       "    </tr>\n",
       "  </thead>\n",
       "  <tbody>\n",
       "    <tr>\n",
       "      <th>network_hosting</th>\n",
       "      <td>72.0</td>\n",
       "      <td>35.0</td>\n",
       "      <td>14.0</td>\n",
       "      <td>296</td>\n",
       "      <td>0.172662</td>\n",
       "      <td>0.709832</td>\n",
       "      <td>0.033573</td>\n",
       "      <td>0.083933</td>\n",
       "    </tr>\n",
       "  </tbody>\n",
       "</table>\n",
       "</div>"
      ],
      "text/plain": [
       "                 acquired  closed   ipo  operating  proportion_acq  \\\n",
       "network_hosting      72.0    35.0  14.0        296        0.172662   \n",
       "\n",
       "                 proportion_oper  proportion_ipo  proportion_closed  \n",
       "network_hosting         0.709832        0.033573           0.083933  "
      ]
     },
     "execution_count": 20,
     "metadata": {},
     "output_type": "execute_result"
    }
   ],
   "source": [
    "#top sector for acquired (by proportion)\n",
    "sector_status_df[sector_status_df.proportion_acq == sector_status_df.proportion_acq.max()]"
   ]
  },
  {
   "cell_type": "code",
   "execution_count": 21,
   "metadata": {
    "collapsed": false
   },
   "outputs": [
    {
     "data": {
      "text/html": [
       "<div>\n",
       "<style>\n",
       "    .dataframe thead tr:only-child th {\n",
       "        text-align: right;\n",
       "    }\n",
       "\n",
       "    .dataframe thead th {\n",
       "        text-align: left;\n",
       "    }\n",
       "\n",
       "    .dataframe tbody tr th {\n",
       "        vertical-align: top;\n",
       "    }\n",
       "</style>\n",
       "<table border=\"1\" class=\"dataframe\">\n",
       "  <thead>\n",
       "    <tr style=\"text-align: right;\">\n",
       "      <th></th>\n",
       "      <th>acquired</th>\n",
       "      <th>closed</th>\n",
       "      <th>ipo</th>\n",
       "      <th>operating</th>\n",
       "      <th>proportion_acq</th>\n",
       "      <th>proportion_oper</th>\n",
       "      <th>proportion_ipo</th>\n",
       "      <th>proportion_closed</th>\n",
       "    </tr>\n",
       "  </thead>\n",
       "  <tbody>\n",
       "    <tr>\n",
       "      <th>software</th>\n",
       "      <td>384.0</td>\n",
       "      <td>272.0</td>\n",
       "      <td>36.0</td>\n",
       "      <td>3127</td>\n",
       "      <td>0.10055</td>\n",
       "      <td>0.818801</td>\n",
       "      <td>0.009427</td>\n",
       "      <td>0.071223</td>\n",
       "    </tr>\n",
       "  </tbody>\n",
       "</table>\n",
       "</div>"
      ],
      "text/plain": [
       "          acquired  closed   ipo  operating  proportion_acq  proportion_oper  \\\n",
       "software     384.0   272.0  36.0       3127         0.10055         0.818801   \n",
       "\n",
       "          proportion_ipo  proportion_closed  \n",
       "software        0.009427           0.071223  "
      ]
     },
     "execution_count": 21,
     "metadata": {},
     "output_type": "execute_result"
    }
   ],
   "source": [
    "#and by the actual value\n",
    "sector_status_df[sector_status_df.acquired == sector_status_df.acquired.max()]"
   ]
  },
  {
   "cell_type": "markdown",
   "metadata": {},
   "source": [
    "##### top sector for operating companies"
   ]
  },
  {
   "cell_type": "code",
   "execution_count": 22,
   "metadata": {
    "collapsed": false
   },
   "outputs": [
    {
     "data": {
      "text/html": [
       "<div>\n",
       "<style>\n",
       "    .dataframe thead tr:only-child th {\n",
       "        text-align: right;\n",
       "    }\n",
       "\n",
       "    .dataframe thead th {\n",
       "        text-align: left;\n",
       "    }\n",
       "\n",
       "    .dataframe tbody tr th {\n",
       "        vertical-align: top;\n",
       "    }\n",
       "</style>\n",
       "<table border=\"1\" class=\"dataframe\">\n",
       "  <thead>\n",
       "    <tr style=\"text-align: right;\">\n",
       "      <th></th>\n",
       "      <th>acquired</th>\n",
       "      <th>closed</th>\n",
       "      <th>ipo</th>\n",
       "      <th>operating</th>\n",
       "      <th>proportion_acq</th>\n",
       "      <th>proportion_oper</th>\n",
       "      <th>proportion_ipo</th>\n",
       "      <th>proportion_closed</th>\n",
       "    </tr>\n",
       "  </thead>\n",
       "  <tbody>\n",
       "    <tr>\n",
       "      <th>government</th>\n",
       "      <td>0.0</td>\n",
       "      <td>0.0</td>\n",
       "      <td>0.0</td>\n",
       "      <td>11</td>\n",
       "      <td>0.0</td>\n",
       "      <td>1.0</td>\n",
       "      <td>0.0</td>\n",
       "      <td>0.0</td>\n",
       "    </tr>\n",
       "    <tr>\n",
       "      <th>local</th>\n",
       "      <td>0.0</td>\n",
       "      <td>0.0</td>\n",
       "      <td>0.0</td>\n",
       "      <td>43</td>\n",
       "      <td>0.0</td>\n",
       "      <td>1.0</td>\n",
       "      <td>0.0</td>\n",
       "      <td>0.0</td>\n",
       "    </tr>\n",
       "  </tbody>\n",
       "</table>\n",
       "</div>"
      ],
      "text/plain": [
       "            acquired  closed  ipo  operating  proportion_acq  proportion_oper  \\\n",
       "government       0.0     0.0  0.0         11             0.0              1.0   \n",
       "local            0.0     0.0  0.0         43             0.0              1.0   \n",
       "\n",
       "            proportion_ipo  proportion_closed  \n",
       "government             0.0                0.0  \n",
       "local                  0.0                0.0  "
      ]
     },
     "execution_count": 22,
     "metadata": {},
     "output_type": "execute_result"
    }
   ],
   "source": [
    "#top sector for operating by proportion:\n",
    "sector_status_df[sector_status_df.proportion_oper == sector_status_df.proportion_oper.max()]"
   ]
  },
  {
   "cell_type": "code",
   "execution_count": 23,
   "metadata": {
    "collapsed": false
   },
   "outputs": [
    {
     "data": {
      "text/html": [
       "<div>\n",
       "<style>\n",
       "    .dataframe thead tr:only-child th {\n",
       "        text-align: right;\n",
       "    }\n",
       "\n",
       "    .dataframe thead th {\n",
       "        text-align: left;\n",
       "    }\n",
       "\n",
       "    .dataframe tbody tr th {\n",
       "        vertical-align: top;\n",
       "    }\n",
       "</style>\n",
       "<table border=\"1\" class=\"dataframe\">\n",
       "  <thead>\n",
       "    <tr style=\"text-align: right;\">\n",
       "      <th></th>\n",
       "      <th>acquired</th>\n",
       "      <th>closed</th>\n",
       "      <th>ipo</th>\n",
       "      <th>operating</th>\n",
       "      <th>proportion_acq</th>\n",
       "      <th>proportion_oper</th>\n",
       "      <th>proportion_ipo</th>\n",
       "      <th>proportion_closed</th>\n",
       "    </tr>\n",
       "  </thead>\n",
       "  <tbody>\n",
       "    <tr>\n",
       "      <th>software</th>\n",
       "      <td>384.0</td>\n",
       "      <td>272.0</td>\n",
       "      <td>36.0</td>\n",
       "      <td>3127</td>\n",
       "      <td>0.10055</td>\n",
       "      <td>0.818801</td>\n",
       "      <td>0.009427</td>\n",
       "      <td>0.071223</td>\n",
       "    </tr>\n",
       "  </tbody>\n",
       "</table>\n",
       "</div>"
      ],
      "text/plain": [
       "          acquired  closed   ipo  operating  proportion_acq  proportion_oper  \\\n",
       "software     384.0   272.0  36.0       3127         0.10055         0.818801   \n",
       "\n",
       "          proportion_ipo  proportion_closed  \n",
       "software        0.009427           0.071223  "
      ]
     },
     "execution_count": 23,
     "metadata": {},
     "output_type": "execute_result"
    }
   ],
   "source": [
    "#and by the actual value\n",
    "sector_status_df[sector_status_df.operating == sector_status_df.operating.max()]"
   ]
  },
  {
   "cell_type": "markdown",
   "metadata": {},
   "source": [
    "##### top sector for listed companies"
   ]
  },
  {
   "cell_type": "code",
   "execution_count": 24,
   "metadata": {
    "collapsed": false
   },
   "outputs": [
    {
     "data": {
      "text/html": [
       "<div>\n",
       "<style>\n",
       "    .dataframe thead tr:only-child th {\n",
       "        text-align: right;\n",
       "    }\n",
       "\n",
       "    .dataframe thead th {\n",
       "        text-align: left;\n",
       "    }\n",
       "\n",
       "    .dataframe tbody tr th {\n",
       "        vertical-align: top;\n",
       "    }\n",
       "</style>\n",
       "<table border=\"1\" class=\"dataframe\">\n",
       "  <thead>\n",
       "    <tr style=\"text-align: right;\">\n",
       "      <th></th>\n",
       "      <th>acquired</th>\n",
       "      <th>closed</th>\n",
       "      <th>ipo</th>\n",
       "      <th>operating</th>\n",
       "      <th>proportion_acq</th>\n",
       "      <th>proportion_oper</th>\n",
       "      <th>proportion_ipo</th>\n",
       "      <th>proportion_closed</th>\n",
       "    </tr>\n",
       "  </thead>\n",
       "  <tbody>\n",
       "    <tr>\n",
       "      <th>biotech</th>\n",
       "      <td>120.0</td>\n",
       "      <td>112.0</td>\n",
       "      <td>150.0</td>\n",
       "      <td>2360</td>\n",
       "      <td>0.043764</td>\n",
       "      <td>0.860686</td>\n",
       "      <td>0.054705</td>\n",
       "      <td>0.040846</td>\n",
       "    </tr>\n",
       "  </tbody>\n",
       "</table>\n",
       "</div>"
      ],
      "text/plain": [
       "         acquired  closed    ipo  operating  proportion_acq  proportion_oper  \\\n",
       "biotech     120.0   112.0  150.0       2360        0.043764         0.860686   \n",
       "\n",
       "         proportion_ipo  proportion_closed  \n",
       "biotech        0.054705           0.040846  "
      ]
     },
     "execution_count": 24,
     "metadata": {},
     "output_type": "execute_result"
    }
   ],
   "source": [
    "#top sector for operating by proportion:\n",
    "sector_status_df[sector_status_df.proportion_ipo == sector_status_df.proportion_ipo.max()]"
   ]
  },
  {
   "cell_type": "code",
   "execution_count": 25,
   "metadata": {
    "collapsed": false,
    "scrolled": true
   },
   "outputs": [
    {
     "data": {
      "text/html": [
       "<div>\n",
       "<style>\n",
       "    .dataframe thead tr:only-child th {\n",
       "        text-align: right;\n",
       "    }\n",
       "\n",
       "    .dataframe thead th {\n",
       "        text-align: left;\n",
       "    }\n",
       "\n",
       "    .dataframe tbody tr th {\n",
       "        vertical-align: top;\n",
       "    }\n",
       "</style>\n",
       "<table border=\"1\" class=\"dataframe\">\n",
       "  <thead>\n",
       "    <tr style=\"text-align: right;\">\n",
       "      <th></th>\n",
       "      <th>acquired</th>\n",
       "      <th>closed</th>\n",
       "      <th>ipo</th>\n",
       "      <th>operating</th>\n",
       "      <th>proportion_acq</th>\n",
       "      <th>proportion_oper</th>\n",
       "      <th>proportion_ipo</th>\n",
       "      <th>proportion_closed</th>\n",
       "    </tr>\n",
       "  </thead>\n",
       "  <tbody>\n",
       "    <tr>\n",
       "      <th>biotech</th>\n",
       "      <td>120.0</td>\n",
       "      <td>112.0</td>\n",
       "      <td>150.0</td>\n",
       "      <td>2360</td>\n",
       "      <td>0.043764</td>\n",
       "      <td>0.860686</td>\n",
       "      <td>0.054705</td>\n",
       "      <td>0.040846</td>\n",
       "    </tr>\n",
       "  </tbody>\n",
       "</table>\n",
       "</div>"
      ],
      "text/plain": [
       "         acquired  closed    ipo  operating  proportion_acq  proportion_oper  \\\n",
       "biotech     120.0   112.0  150.0       2360        0.043764         0.860686   \n",
       "\n",
       "         proportion_ipo  proportion_closed  \n",
       "biotech        0.054705           0.040846  "
      ]
     },
     "execution_count": 25,
     "metadata": {},
     "output_type": "execute_result"
    }
   ],
   "source": [
    "#by actual value:\n",
    "sector_status_df[sector_status_df.ipo == sector_status_df.ipo.max()]"
   ]
  },
  {
   "cell_type": "markdown",
   "metadata": {},
   "source": [
    "This fact actually confirms what I know about the space from my work -- you are expected to see more biotech and pharma IPO's than IPO's in any other sectors"
   ]
  },
  {
   "cell_type": "markdown",
   "metadata": {},
   "source": [
    "##### top sector for closed companies"
   ]
  },
  {
   "cell_type": "code",
   "execution_count": 26,
   "metadata": {
    "collapsed": false
   },
   "outputs": [
    {
     "data": {
      "text/html": [
       "<div>\n",
       "<style>\n",
       "    .dataframe thead tr:only-child th {\n",
       "        text-align: right;\n",
       "    }\n",
       "\n",
       "    .dataframe thead th {\n",
       "        text-align: left;\n",
       "    }\n",
       "\n",
       "    .dataframe tbody tr th {\n",
       "        vertical-align: top;\n",
       "    }\n",
       "</style>\n",
       "<table border=\"1\" class=\"dataframe\">\n",
       "  <thead>\n",
       "    <tr style=\"text-align: right;\">\n",
       "      <th></th>\n",
       "      <th>acquired</th>\n",
       "      <th>closed</th>\n",
       "      <th>ipo</th>\n",
       "      <th>operating</th>\n",
       "      <th>proportion_acq</th>\n",
       "      <th>proportion_oper</th>\n",
       "      <th>proportion_ipo</th>\n",
       "      <th>proportion_closed</th>\n",
       "    </tr>\n",
       "  </thead>\n",
       "  <tbody>\n",
       "    <tr>\n",
       "      <th>public_relations</th>\n",
       "      <td>23.0</td>\n",
       "      <td>33.0</td>\n",
       "      <td>3.0</td>\n",
       "      <td>83</td>\n",
       "      <td>0.161972</td>\n",
       "      <td>0.584507</td>\n",
       "      <td>0.021127</td>\n",
       "      <td>0.232394</td>\n",
       "    </tr>\n",
       "  </tbody>\n",
       "</table>\n",
       "</div>"
      ],
      "text/plain": [
       "                  acquired  closed  ipo  operating  proportion_acq  \\\n",
       "public_relations      23.0    33.0  3.0         83        0.161972   \n",
       "\n",
       "                  proportion_oper  proportion_ipo  proportion_closed  \n",
       "public_relations         0.584507        0.021127           0.232394  "
      ]
     },
     "execution_count": 26,
     "metadata": {},
     "output_type": "execute_result"
    }
   ],
   "source": [
    "sector_status_df[sector_status_df.proportion_closed == sector_status_df.proportion_closed.max()]"
   ]
  },
  {
   "cell_type": "code",
   "execution_count": 27,
   "metadata": {
    "collapsed": false
   },
   "outputs": [
    {
     "data": {
      "text/html": [
       "<div>\n",
       "<style>\n",
       "    .dataframe thead tr:only-child th {\n",
       "        text-align: right;\n",
       "    }\n",
       "\n",
       "    .dataframe thead th {\n",
       "        text-align: left;\n",
       "    }\n",
       "\n",
       "    .dataframe tbody tr th {\n",
       "        vertical-align: top;\n",
       "    }\n",
       "</style>\n",
       "<table border=\"1\" class=\"dataframe\">\n",
       "  <thead>\n",
       "    <tr style=\"text-align: right;\">\n",
       "      <th></th>\n",
       "      <th>acquired</th>\n",
       "      <th>closed</th>\n",
       "      <th>ipo</th>\n",
       "      <th>operating</th>\n",
       "      <th>proportion_acq</th>\n",
       "      <th>proportion_oper</th>\n",
       "      <th>proportion_ipo</th>\n",
       "      <th>proportion_closed</th>\n",
       "    </tr>\n",
       "  </thead>\n",
       "  <tbody>\n",
       "    <tr>\n",
       "      <th>web</th>\n",
       "      <td>215.0</td>\n",
       "      <td>353.0</td>\n",
       "      <td>18.0</td>\n",
       "      <td>1460</td>\n",
       "      <td>0.105083</td>\n",
       "      <td>0.713587</td>\n",
       "      <td>0.008798</td>\n",
       "      <td>0.172532</td>\n",
       "    </tr>\n",
       "  </tbody>\n",
       "</table>\n",
       "</div>"
      ],
      "text/plain": [
       "     acquired  closed   ipo  operating  proportion_acq  proportion_oper  \\\n",
       "web     215.0   353.0  18.0       1460        0.105083         0.713587   \n",
       "\n",
       "     proportion_ipo  proportion_closed  \n",
       "web        0.008798           0.172532  "
      ]
     },
     "execution_count": 27,
     "metadata": {},
     "output_type": "execute_result"
    }
   ],
   "source": [
    "#by actual value: \n",
    "sector_status_df[sector_status_df.closed == sector_status_df.closed.max()]"
   ]
  },
  {
   "cell_type": "markdown",
   "metadata": {},
   "source": [
    "### Data wrangling"
   ]
  },
  {
   "cell_type": "markdown",
   "metadata": {
    "collapsed": true
   },
   "source": [
    "##### Dealing with duplicates"
   ]
  },
  {
   "cell_type": "markdown",
   "metadata": {
    "collapsed": true
   },
   "source": [
    "One of the big problems when dealing with human-generated data is human error. The existence of duplicates is one such area that must be accounted for when working with company datasets. To ensure that our dataset doesn't have any duplicates, we will rely on the fuzzywuzzy package, which uses Levenshtein Distance to spot potential duplicates."
   ]
  },
  {
   "cell_type": "code",
   "execution_count": 28,
   "metadata": {
    "collapsed": false
   },
   "outputs": [
    {
     "name": "stderr",
     "output_type": "stream",
     "text": [
      "C:\\Users\\Lana\\Anaconda3\\lib\\site-packages\\fuzzywuzzy\\fuzz.py:35: UserWarning: Using slow pure-python SequenceMatcher. Install python-Levenshtein to remove this warning\n",
      "  warnings.warn('Using slow pure-python SequenceMatcher. Install python-Levenshtein to remove this warning')\n"
     ]
    }
   ],
   "source": [
    "from fuzzywuzzy import fuzz"
   ]
  },
  {
   "cell_type": "code",
   "execution_count": 29,
   "metadata": {
    "collapsed": true
   },
   "outputs": [],
   "source": [
    "company_name_list = companies.name"
   ]
  },
  {
   "cell_type": "markdown",
   "metadata": {
    "collapsed": true
   },
   "source": [
    "Let's check if any of the company names are duplicates."
   ]
  },
  {
   "cell_type": "code",
   "execution_count": 30,
   "metadata": {
    "collapsed": false
   },
   "outputs": [
    {
     "data": {
      "text/plain": [
       "False    27326\n",
       "True         1\n",
       "Name: name, dtype: int64"
      ]
     },
     "execution_count": 30,
     "metadata": {},
     "output_type": "execute_result"
    }
   ],
   "source": [
    "company_name_list.duplicated().value_counts()"
   ]
  },
  {
   "cell_type": "markdown",
   "metadata": {},
   "source": [
    "Based on this, it seems that there is one company name that is a duplicate. Let's find out which one."
   ]
  },
  {
   "cell_type": "code",
   "execution_count": 31,
   "metadata": {
    "collapsed": false
   },
   "outputs": [
    {
     "data": {
      "text/plain": [
       "16777    OneMln\n",
       "Name: name, dtype: object"
      ]
     },
     "execution_count": 31,
     "metadata": {},
     "output_type": "execute_result"
    }
   ],
   "source": [
    "company_name_list[company_name_list.duplicated()]"
   ]
  },
  {
   "cell_type": "markdown",
   "metadata": {},
   "source": [
    "And here the lines which have the duplicate. Clearly, this is the same company, and all of the data for it is the same."
   ]
  },
  {
   "cell_type": "code",
   "execution_count": 32,
   "metadata": {
    "collapsed": false
   },
   "outputs": [
    {
     "data": {
      "text/html": [
       "<div>\n",
       "<style>\n",
       "    .dataframe thead tr:only-child th {\n",
       "        text-align: right;\n",
       "    }\n",
       "\n",
       "    .dataframe thead th {\n",
       "        text-align: left;\n",
       "    }\n",
       "\n",
       "    .dataframe tbody tr th {\n",
       "        vertical-align: top;\n",
       "    }\n",
       "</style>\n",
       "<table border=\"1\" class=\"dataframe\">\n",
       "  <thead>\n",
       "    <tr style=\"text-align: right;\">\n",
       "      <th></th>\n",
       "      <th>permalink</th>\n",
       "      <th>name</th>\n",
       "      <th>homepage_url</th>\n",
       "      <th>category_code</th>\n",
       "      <th>funding_total_usd</th>\n",
       "      <th>status</th>\n",
       "      <th>country_code</th>\n",
       "      <th>state_code</th>\n",
       "      <th>region</th>\n",
       "      <th>city</th>\n",
       "      <th>funding_rounds</th>\n",
       "      <th>founded_at</th>\n",
       "      <th>founded_month</th>\n",
       "      <th>founded_quarter</th>\n",
       "      <th>founded_year</th>\n",
       "      <th>first_funding_at</th>\n",
       "      <th>last_funding_at</th>\n",
       "      <th>last_milestone_at</th>\n",
       "      <th>id</th>\n",
       "    </tr>\n",
       "  </thead>\n",
       "  <tbody>\n",
       "    <tr>\n",
       "      <th>16776</th>\n",
       "      <td>/company/onemln</td>\n",
       "      <td>OneMln</td>\n",
       "      <td>http://www.smarttm.co</td>\n",
       "      <td>software</td>\n",
       "      <td>NaN</td>\n",
       "      <td>operating</td>\n",
       "      <td>POL</td>\n",
       "      <td>NaN</td>\n",
       "      <td>Torun</td>\n",
       "      <td>Torun</td>\n",
       "      <td>1</td>\n",
       "      <td>1/1/2012</td>\n",
       "      <td>2012-01</td>\n",
       "      <td>2012-Q1</td>\n",
       "      <td>2012.0</td>\n",
       "      <td>1/1/2013</td>\n",
       "      <td>1/1/2013</td>\n",
       "      <td>1/1/2012</td>\n",
       "      <td>16777</td>\n",
       "    </tr>\n",
       "    <tr>\n",
       "      <th>16777</th>\n",
       "      <td>/company/onemln</td>\n",
       "      <td>OneMln</td>\n",
       "      <td>http://www.smarttm.co</td>\n",
       "      <td>software</td>\n",
       "      <td>NaN</td>\n",
       "      <td>operating</td>\n",
       "      <td>POL</td>\n",
       "      <td>NaN</td>\n",
       "      <td>Torun</td>\n",
       "      <td>Torun</td>\n",
       "      <td>1</td>\n",
       "      <td>1/1/2012</td>\n",
       "      <td>2012-01</td>\n",
       "      <td>2012-Q1</td>\n",
       "      <td>2012.0</td>\n",
       "      <td>1/1/2013</td>\n",
       "      <td>1/1/2013</td>\n",
       "      <td>1/1/2012</td>\n",
       "      <td>16778</td>\n",
       "    </tr>\n",
       "  </tbody>\n",
       "</table>\n",
       "</div>"
      ],
      "text/plain": [
       "             permalink    name           homepage_url category_code  \\\n",
       "16776  /company/onemln  OneMln  http://www.smarttm.co      software   \n",
       "16777  /company/onemln  OneMln  http://www.smarttm.co      software   \n",
       "\n",
       "       funding_total_usd     status country_code state_code region   city  \\\n",
       "16776                NaN  operating          POL        NaN  Torun  Torun   \n",
       "16777                NaN  operating          POL        NaN  Torun  Torun   \n",
       "\n",
       "       funding_rounds founded_at founded_month founded_quarter  founded_year  \\\n",
       "16776               1   1/1/2012      2012-01          2012-Q1        2012.0   \n",
       "16777               1   1/1/2012      2012-01          2012-Q1        2012.0   \n",
       "\n",
       "      first_funding_at last_funding_at last_milestone_at     id  \n",
       "16776         1/1/2013        1/1/2013          1/1/2012  16777  \n",
       "16777         1/1/2013        1/1/2013          1/1/2012  16778  "
      ]
     },
     "execution_count": 32,
     "metadata": {},
     "output_type": "execute_result"
    }
   ],
   "source": [
    "companies[companies.name == 'OneMln']"
   ]
  },
  {
   "cell_type": "markdown",
   "metadata": {},
   "source": [
    "Let's delete this row and check for duplicates again"
   ]
  },
  {
   "cell_type": "code",
   "execution_count": 33,
   "metadata": {
    "collapsed": false
   },
   "outputs": [
    {
     "data": {
      "text/plain": [
       "27326"
      ]
     },
     "execution_count": 33,
     "metadata": {},
     "output_type": "execute_result"
    }
   ],
   "source": [
    "companies = companies[companies.id != 16777]\n",
    "companies['permalink'].count()"
   ]
  },
  {
   "cell_type": "code",
   "execution_count": 34,
   "metadata": {
    "collapsed": false
   },
   "outputs": [
    {
     "data": {
      "text/html": [
       "<div>\n",
       "<style>\n",
       "    .dataframe thead tr:only-child th {\n",
       "        text-align: right;\n",
       "    }\n",
       "\n",
       "    .dataframe thead th {\n",
       "        text-align: left;\n",
       "    }\n",
       "\n",
       "    .dataframe tbody tr th {\n",
       "        vertical-align: top;\n",
       "    }\n",
       "</style>\n",
       "<table border=\"1\" class=\"dataframe\">\n",
       "  <thead>\n",
       "    <tr style=\"text-align: right;\">\n",
       "      <th></th>\n",
       "      <th>permalink</th>\n",
       "      <th>name</th>\n",
       "      <th>homepage_url</th>\n",
       "      <th>category_code</th>\n",
       "      <th>funding_total_usd</th>\n",
       "      <th>status</th>\n",
       "      <th>country_code</th>\n",
       "      <th>state_code</th>\n",
       "      <th>region</th>\n",
       "      <th>city</th>\n",
       "      <th>funding_rounds</th>\n",
       "      <th>founded_at</th>\n",
       "      <th>founded_month</th>\n",
       "      <th>founded_quarter</th>\n",
       "      <th>founded_year</th>\n",
       "      <th>first_funding_at</th>\n",
       "      <th>last_funding_at</th>\n",
       "      <th>last_milestone_at</th>\n",
       "      <th>id</th>\n",
       "    </tr>\n",
       "  </thead>\n",
       "  <tbody>\n",
       "    <tr>\n",
       "      <th>16777</th>\n",
       "      <td>/company/onemln</td>\n",
       "      <td>OneMln</td>\n",
       "      <td>http://www.smarttm.co</td>\n",
       "      <td>software</td>\n",
       "      <td>NaN</td>\n",
       "      <td>operating</td>\n",
       "      <td>POL</td>\n",
       "      <td>NaN</td>\n",
       "      <td>Torun</td>\n",
       "      <td>Torun</td>\n",
       "      <td>1</td>\n",
       "      <td>1/1/2012</td>\n",
       "      <td>2012-01</td>\n",
       "      <td>2012-Q1</td>\n",
       "      <td>2012.0</td>\n",
       "      <td>1/1/2013</td>\n",
       "      <td>1/1/2013</td>\n",
       "      <td>1/1/2012</td>\n",
       "      <td>16778</td>\n",
       "    </tr>\n",
       "  </tbody>\n",
       "</table>\n",
       "</div>"
      ],
      "text/plain": [
       "             permalink    name           homepage_url category_code  \\\n",
       "16777  /company/onemln  OneMln  http://www.smarttm.co      software   \n",
       "\n",
       "       funding_total_usd     status country_code state_code region   city  \\\n",
       "16777                NaN  operating          POL        NaN  Torun  Torun   \n",
       "\n",
       "       funding_rounds founded_at founded_month founded_quarter  founded_year  \\\n",
       "16777               1   1/1/2012      2012-01          2012-Q1        2012.0   \n",
       "\n",
       "      first_funding_at last_funding_at last_milestone_at     id  \n",
       "16777         1/1/2013        1/1/2013          1/1/2012  16778  "
      ]
     },
     "execution_count": 34,
     "metadata": {},
     "output_type": "execute_result"
    }
   ],
   "source": [
    "companies[companies.name == 'OneMln']"
   ]
  },
  {
   "cell_type": "markdown",
   "metadata": {},
   "source": [
    "Whereas company duplicates that match 100% might be easy to spot, it becomes harder if there are typos in company names, so company names don't match 100%. At this point we will employ the fuzzywuzzy partial_ratio function to spot and map out potential duplicates."
   ]
  },
  {
   "cell_type": "code",
   "execution_count": 35,
   "metadata": {
    "collapsed": true
   },
   "outputs": [],
   "source": [
    "def duplicate_cleanup(some_list):\n",
    "    company_name_list =[]\n",
    "    other_companies = []\n",
    "    ratio =[]\n",
    "    count = 0\n",
    "    next_count = 0\n",
    "    length = len(some_list)\n",
    "    for count in range (count, length):\n",
    "        count_entry = some_list[count]\n",
    "        next_count = count + 1\n",
    "        for next_count in range(next_count, length):\n",
    "            next_count_entry = some_list[next_count]\n",
    "            company_name_list.append(count_entry)\n",
    "            other_companies.append(next_count_entry)\n",
    "            ratio_companies = fuzz.partial_ratio(count_entry, next_count_entry)\n",
    "            ratio.append(ratio_companies)\n",
    "    final_dict = {'company names 1': company_name_list, \n",
    "                  'company names 2': other_companies,\n",
    "                  'ratio': ratio}\n",
    "    df = pd.DataFrame(final_dict)\n",
    "    return df"
   ]
  },
  {
   "cell_type": "markdown",
   "metadata": {},
   "source": [
    "The only problem is that, if we have 27326 companies on the list, the function will have to make 373 million comparisons. In this case, it becomes a big data problem, and there is not enough processing power to solve the problem locally. One way around it might be to split the list by letter and search for fuzzy duplicates within each letter. However, even that could not be done with the given resources. So going forward we will have to assume that there are no fuzzy duplicates on the list and will have to wait for a later opportunity to do a more precise analysis. "
   ]
  },
  {
   "cell_type": "markdown",
   "metadata": {},
   "source": [
    "Here is the code to do it letter by letter"
   ]
  },
  {
   "cell_type": "code",
   "execution_count": 36,
   "metadata": {
    "collapsed": false
   },
   "outputs": [],
   "source": [
    "list_of_duplicates_to_be_processed = companies.name.str.lower()"
   ]
  },
  {
   "cell_type": "markdown",
   "metadata": {},
   "source": [
    "Here is an example of the code for letter 'a', commented out because it takes too long to run this cell (20 minutes)"
   ]
  },
  {
   "cell_type": "code",
   "execution_count": 37,
   "metadata": {
    "collapsed": true,
    "raw_mimetype": "text/x-python"
   },
   "outputs": [],
   "source": [
    "#list_of_duplicates_to_process = list_of_duplicates_to_be_processed.str.startswith(\"a\")\n",
    "#list_to_pass_to_function = companies[list_of_duplicates_to_process].name\n",
    "#list_to_pass_to_function = list_to_pass_to_function.reset_index(drop=True)\n",
    "#ratios = duplicate_cleanup(list_to_pass_to_function)\n",
    "#ratios[ratios.ratio > 90]"
   ]
  },
  {
   "cell_type": "markdown",
   "metadata": {},
   "source": [
    "Letter \"z\" is a smaller subset, so here is an example of a few potential duplicates identified in the dataset"
   ]
  },
  {
   "cell_type": "code",
   "execution_count": 38,
   "metadata": {
    "collapsed": false
   },
   "outputs": [
    {
     "data": {
      "text/html": [
       "<div>\n",
       "<style>\n",
       "    .dataframe thead tr:only-child th {\n",
       "        text-align: right;\n",
       "    }\n",
       "\n",
       "    .dataframe thead th {\n",
       "        text-align: left;\n",
       "    }\n",
       "\n",
       "    .dataframe tbody tr th {\n",
       "        vertical-align: top;\n",
       "    }\n",
       "</style>\n",
       "<table border=\"1\" class=\"dataframe\">\n",
       "  <thead>\n",
       "    <tr style=\"text-align: right;\">\n",
       "      <th></th>\n",
       "      <th>company names 1</th>\n",
       "      <th>company names 2</th>\n",
       "      <th>ratio</th>\n",
       "    </tr>\n",
       "  </thead>\n",
       "  <tbody>\n",
       "    <tr>\n",
       "      <th>10507</th>\n",
       "      <td>ZangZing</td>\n",
       "      <td>Zing</td>\n",
       "      <td>100</td>\n",
       "    </tr>\n",
       "    <tr>\n",
       "      <th>21049</th>\n",
       "      <td>Zazoo</td>\n",
       "      <td>Zazoom</td>\n",
       "      <td>100</td>\n",
       "    </tr>\n",
       "    <tr>\n",
       "      <th>32589</th>\n",
       "      <td>Zend Technologies</td>\n",
       "      <td>Zenda Technologies</td>\n",
       "      <td>94</td>\n",
       "    </tr>\n",
       "    <tr>\n",
       "      <th>32672</th>\n",
       "      <td>Zend Technologies</td>\n",
       "      <td>Ziften Technologies</td>\n",
       "      <td>91</td>\n",
       "    </tr>\n",
       "    <tr>\n",
       "      <th>37761</th>\n",
       "      <td>ZENT</td>\n",
       "      <td>ZENTICKET</td>\n",
       "      <td>100</td>\n",
       "    </tr>\n",
       "    <tr>\n",
       "      <th>46690</th>\n",
       "      <td>Zetta</td>\n",
       "      <td>ZettaCore</td>\n",
       "      <td>100</td>\n",
       "    </tr>\n",
       "    <tr>\n",
       "      <th>46691</th>\n",
       "      <td>Zetta</td>\n",
       "      <td>Zettaset</td>\n",
       "      <td>100</td>\n",
       "    </tr>\n",
       "    <tr>\n",
       "      <th>47314</th>\n",
       "      <td>Zettics</td>\n",
       "      <td>Zettics.</td>\n",
       "      <td>100</td>\n",
       "    </tr>\n",
       "    <tr>\n",
       "      <th>47315</th>\n",
       "      <td>Zettics</td>\n",
       "      <td>Zettics.com</td>\n",
       "      <td>100</td>\n",
       "    </tr>\n",
       "    <tr>\n",
       "      <th>47520</th>\n",
       "      <td>Zettics.</td>\n",
       "      <td>Zettics.com</td>\n",
       "      <td>100</td>\n",
       "    </tr>\n",
       "    <tr>\n",
       "      <th>50869</th>\n",
       "      <td>Ziarco</td>\n",
       "      <td>Ziarco Pharma</td>\n",
       "      <td>100</td>\n",
       "    </tr>\n",
       "    <tr>\n",
       "      <th>56232</th>\n",
       "      <td>Zing</td>\n",
       "      <td>Zing Systems</td>\n",
       "      <td>100</td>\n",
       "    </tr>\n",
       "    <tr>\n",
       "      <th>56233</th>\n",
       "      <td>Zing</td>\n",
       "      <td>Zingaya</td>\n",
       "      <td>100</td>\n",
       "    </tr>\n",
       "    <tr>\n",
       "      <th>56234</th>\n",
       "      <td>Zing</td>\n",
       "      <td>Zingfin</td>\n",
       "      <td>100</td>\n",
       "    </tr>\n",
       "    <tr>\n",
       "      <th>56235</th>\n",
       "      <td>Zing</td>\n",
       "      <td>Zingku</td>\n",
       "      <td>100</td>\n",
       "    </tr>\n",
       "    <tr>\n",
       "      <th>63279</th>\n",
       "      <td>Zola</td>\n",
       "      <td>Zola Books</td>\n",
       "      <td>100</td>\n",
       "    </tr>\n",
       "    <tr>\n",
       "      <th>67815</th>\n",
       "      <td>Zula</td>\n",
       "      <td>Zulahoo</td>\n",
       "      <td>100</td>\n",
       "    </tr>\n",
       "    <tr>\n",
       "      <th>67816</th>\n",
       "      <td>Zula</td>\n",
       "      <td>Zulama</td>\n",
       "      <td>100</td>\n",
       "    </tr>\n",
       "  </tbody>\n",
       "</table>\n",
       "</div>"
      ],
      "text/plain": [
       "         company names 1      company names 2  ratio\n",
       "10507           ZangZing                 Zing    100\n",
       "21049              Zazoo               Zazoom    100\n",
       "32589  Zend Technologies   Zenda Technologies     94\n",
       "32672  Zend Technologies  Ziften Technologies     91\n",
       "37761               ZENT            ZENTICKET    100\n",
       "46690              Zetta            ZettaCore    100\n",
       "46691              Zetta             Zettaset    100\n",
       "47314            Zettics             Zettics.    100\n",
       "47315            Zettics          Zettics.com    100\n",
       "47520           Zettics.          Zettics.com    100\n",
       "50869             Ziarco        Ziarco Pharma    100\n",
       "56232               Zing         Zing Systems    100\n",
       "56233               Zing              Zingaya    100\n",
       "56234               Zing              Zingfin    100\n",
       "56235               Zing               Zingku    100\n",
       "63279               Zola           Zola Books    100\n",
       "67815               Zula              Zulahoo    100\n",
       "67816               Zula               Zulama    100"
      ]
     },
     "execution_count": 38,
     "metadata": {},
     "output_type": "execute_result"
    }
   ],
   "source": [
    "list_of_duplicates_to_process = list_of_duplicates_to_be_processed.str.startswith(\"z\")\n",
    "list_to_pass_to_function = companies[list_of_duplicates_to_process].name\n",
    "list_to_pass_to_function = list_to_pass_to_function.reset_index(drop=True)\n",
    "ratios = duplicate_cleanup(list_to_pass_to_function)\n",
    "ratios[ratios.ratio > 90]"
   ]
  },
  {
   "cell_type": "markdown",
   "metadata": {
    "collapsed": true
   },
   "source": [
    "Of these duplicates, Zettics looks especially suspicious. Let's take a closer look."
   ]
  },
  {
   "cell_type": "code",
   "execution_count": 39,
   "metadata": {
    "collapsed": false
   },
   "outputs": [
    {
     "data": {
      "text/html": [
       "<div>\n",
       "<style>\n",
       "    .dataframe thead tr:only-child th {\n",
       "        text-align: right;\n",
       "    }\n",
       "\n",
       "    .dataframe thead th {\n",
       "        text-align: left;\n",
       "    }\n",
       "\n",
       "    .dataframe tbody tr th {\n",
       "        vertical-align: top;\n",
       "    }\n",
       "</style>\n",
       "<table border=\"1\" class=\"dataframe\">\n",
       "  <thead>\n",
       "    <tr style=\"text-align: right;\">\n",
       "      <th></th>\n",
       "      <th>permalink</th>\n",
       "      <th>name</th>\n",
       "      <th>homepage_url</th>\n",
       "      <th>category_code</th>\n",
       "      <th>funding_total_usd</th>\n",
       "      <th>status</th>\n",
       "      <th>country_code</th>\n",
       "      <th>state_code</th>\n",
       "      <th>region</th>\n",
       "      <th>city</th>\n",
       "      <th>funding_rounds</th>\n",
       "      <th>founded_at</th>\n",
       "      <th>founded_month</th>\n",
       "      <th>founded_quarter</th>\n",
       "      <th>founded_year</th>\n",
       "      <th>first_funding_at</th>\n",
       "      <th>last_funding_at</th>\n",
       "      <th>last_milestone_at</th>\n",
       "      <th>id</th>\n",
       "    </tr>\n",
       "  </thead>\n",
       "  <tbody>\n",
       "    <tr>\n",
       "      <th>27119</th>\n",
       "      <td>/company/zettics</td>\n",
       "      <td>Zettics</td>\n",
       "      <td>http://zettics.com</td>\n",
       "      <td>software</td>\n",
       "      <td>8200000.0</td>\n",
       "      <td>operating</td>\n",
       "      <td>USA</td>\n",
       "      <td>NaN</td>\n",
       "      <td>SF Bay</td>\n",
       "      <td>Concord</td>\n",
       "      <td>1</td>\n",
       "      <td>1/1/2008</td>\n",
       "      <td>2008-01</td>\n",
       "      <td>2008-Q1</td>\n",
       "      <td>2008.0</td>\n",
       "      <td>7/24/2013</td>\n",
       "      <td>7/24/2013</td>\n",
       "      <td>1/1/2013</td>\n",
       "      <td>27120</td>\n",
       "    </tr>\n",
       "    <tr>\n",
       "      <th>27120</th>\n",
       "      <td>/company/zettics-3</td>\n",
       "      <td>Zettics.</td>\n",
       "      <td>http://www.zettics.com</td>\n",
       "      <td>mobile</td>\n",
       "      <td>7000000.0</td>\n",
       "      <td>operating</td>\n",
       "      <td>USA</td>\n",
       "      <td>WA</td>\n",
       "      <td>Seattle</td>\n",
       "      <td>Seattle</td>\n",
       "      <td>1</td>\n",
       "      <td>1/1/2008</td>\n",
       "      <td>2008-01</td>\n",
       "      <td>2008-Q1</td>\n",
       "      <td>2008.0</td>\n",
       "      <td>4/27/2010</td>\n",
       "      <td>4/27/2010</td>\n",
       "      <td>12/5/2012</td>\n",
       "      <td>27121</td>\n",
       "    </tr>\n",
       "    <tr>\n",
       "      <th>27121</th>\n",
       "      <td>/company/zettics-2</td>\n",
       "      <td>Zettics.com</td>\n",
       "      <td>http://www.zettics.com</td>\n",
       "      <td>analytics</td>\n",
       "      <td>8000000.0</td>\n",
       "      <td>operating</td>\n",
       "      <td>USA</td>\n",
       "      <td>NY</td>\n",
       "      <td>New York</td>\n",
       "      <td>New York</td>\n",
       "      <td>1</td>\n",
       "      <td>1/1/2009</td>\n",
       "      <td>2009-01</td>\n",
       "      <td>2009-Q1</td>\n",
       "      <td>2009.0</td>\n",
       "      <td>7/14/2011</td>\n",
       "      <td>7/14/2011</td>\n",
       "      <td>6/1/2009</td>\n",
       "      <td>27122</td>\n",
       "    </tr>\n",
       "  </tbody>\n",
       "</table>\n",
       "</div>"
      ],
      "text/plain": [
       "                permalink         name            homepage_url category_code  \\\n",
       "27119    /company/zettics      Zettics      http://zettics.com      software   \n",
       "27120  /company/zettics-3     Zettics.  http://www.zettics.com        mobile   \n",
       "27121  /company/zettics-2  Zettics.com  http://www.zettics.com     analytics   \n",
       "\n",
       "       funding_total_usd     status country_code state_code    region  \\\n",
       "27119          8200000.0  operating          USA        NaN    SF Bay   \n",
       "27120          7000000.0  operating          USA         WA   Seattle   \n",
       "27121          8000000.0  operating          USA         NY  New York   \n",
       "\n",
       "           city  funding_rounds founded_at founded_month founded_quarter  \\\n",
       "27119   Concord               1   1/1/2008      2008-01          2008-Q1   \n",
       "27120   Seattle               1   1/1/2008      2008-01          2008-Q1   \n",
       "27121  New York               1   1/1/2009      2009-01          2009-Q1   \n",
       "\n",
       "       founded_year first_funding_at last_funding_at last_milestone_at     id  \n",
       "27119        2008.0        7/24/2013       7/24/2013          1/1/2013  27120  \n",
       "27120        2008.0        4/27/2010       4/27/2010         12/5/2012  27121  \n",
       "27121        2009.0        7/14/2011       7/14/2011          6/1/2009  27122  "
      ]
     },
     "execution_count": 39,
     "metadata": {},
     "output_type": "execute_result"
    }
   ],
   "source": [
    "companies[companies.name.str.contains('Zettics')]"
   ]
  },
  {
   "cell_type": "markdown",
   "metadata": {
    "collapsed": true
   },
   "source": [
    "However, these three companies seem to be different just judging by the region, so we either need to manually investigate these duplicates further or leave everything as is for the time being."
   ]
  },
  {
   "cell_type": "markdown",
   "metadata": {
    "collapsed": true
   },
   "source": [
    "##### Cleaning up dates"
   ]
  },
  {
   "cell_type": "markdown",
   "metadata": {},
   "source": [
    "The final wrangling on the companies dataset I will do will be cleaning up the date type. I will then look for patterns around dates. "
   ]
  },
  {
   "cell_type": "code",
   "execution_count": 40,
   "metadata": {
    "collapsed": false,
    "scrolled": true
   },
   "outputs": [
    {
     "name": "stdout",
     "output_type": "stream",
     "text": [
      "<class 'pandas.core.frame.DataFrame'>\n",
      "Int64Index: 27326 entries, 0 to 27326\n",
      "Data columns (total 19 columns):\n",
      "permalink            27326 non-null object\n",
      "name                 27326 non-null object\n",
      "homepage_url         25939 non-null object\n",
      "category_code        26297 non-null object\n",
      "funding_total_usd    24010 non-null float64\n",
      "status               27326 non-null object\n",
      "country_code         25503 non-null object\n",
      "state_code           16872 non-null object\n",
      "region               27326 non-null object\n",
      "city                 24704 non-null object\n",
      "funding_rounds       27326 non-null int64\n",
      "founded_at           21440 non-null datetime64[ns]\n",
      "founded_month        21440 non-null object\n",
      "founded_quarter      21440 non-null object\n",
      "founded_year         21440 non-null float64\n",
      "first_funding_at     27175 non-null datetime64[ns]\n",
      "last_funding_at      27175 non-null object\n",
      "last_milestone_at    14603 non-null object\n",
      "id                   27326 non-null int64\n",
      "dtypes: datetime64[ns](2), float64(2), int64(2), object(13)\n",
      "memory usage: 4.2+ MB\n"
     ]
    }
   ],
   "source": [
    "#converting funded_at and first_funding_at columns from object to data type\n",
    "companies['founded_at'] = pd.to_datetime(companies['founded_at'])\n",
    "companies['first_funding_at'] = pd.to_datetime(companies['first_funding_at'])\n",
    "companies.info()"
   ]
  },
  {
   "cell_type": "markdown",
   "metadata": {},
   "source": [
    "### Some more data exploration"
   ]
  },
  {
   "cell_type": "markdown",
   "metadata": {},
   "source": [
    "Let's try to understand if we can observe any difference between the various types of companies (i.e. successful or unsuccessful) based on how soon after getting founded they proceeded to get their first funding."
   ]
  },
  {
   "cell_type": "code",
   "execution_count": 41,
   "metadata": {
    "collapsed": false
   },
   "outputs": [
    {
     "data": {
      "text/plain": [
       "<matplotlib.axes._subplots.AxesSubplot at 0x20365a56668>"
      ]
     },
     "execution_count": 41,
     "metadata": {},
     "output_type": "execute_result"
    },
    {
     "data": {
      "image/png": "[encoded data removed]",
      "text/plain": [
       "<matplotlib.figure.Figure at 0x203660992b0>"
      ]
     },
     "metadata": {},
     "output_type": "display_data"
    }
   ],
   "source": [
    "companies['days_between_funding_and_founding'] = companies['first_funding_at'] - companies['founded_at']\n",
    "companies['days_between_funding_and_founding'] = companies['days_between_funding_and_founding']  / np.timedelta64(1,'D')\n",
    "\n",
    "new_df = companies[['status','days_between_funding_and_founding']]\n",
    "\n",
    "sb.violinplot(y=\"days_between_funding_and_founding\", x = 'status', data=new_df)"
   ]
  },
  {
   "cell_type": "code",
   "execution_count": 42,
   "metadata": {
    "collapsed": false,
    "scrolled": true
   },
   "outputs": [
    {
     "name": "stderr",
     "output_type": "stream",
     "text": [
      "C:\\Users\\Lana\\Anaconda3\\lib\\site-packages\\ipykernel\\__main__.py:9: SettingWithCopyWarning: \n",
      "A value is trying to be set on a copy of a slice from a DataFrame.\n",
      "Try using .loc[row_indexer,col_indexer] = value instead\n",
      "\n",
      "See the caveats in the documentation: http://pandas.pydata.org/pandas-docs/stable/indexing.html#indexing-view-versus-copy\n"
     ]
    },
    {
     "data": {
      "image/png": "[encoded data removed]",
      "text/plain": [
       "<matplotlib.figure.Figure at 0x20365bc6048>"
      ]
     },
     "metadata": {},
     "output_type": "display_data"
    }
   ],
   "source": [
    "#let's remove companies with the negative difference -- that might be a mistake at the data aggregation stage\n",
    "positive_values = new_df['days_between_funding_and_founding'] > 0\n",
    "pos_val_new_df = new_df[positive_values]\n",
    "#let's also limit to differences less than 15000 days to get a better visualization\n",
    "no_outliers = pos_val_new_df['days_between_funding_and_founding'] < 15000\n",
    "no_outliers_new_df = pos_val_new_df[no_outliers]\n",
    "\n",
    "#Number of days is not too interpretable, so we'll convert to years\n",
    "no_outliers_new_df['Years between founding and funding'] = no_outliers_new_df['days_between_funding_and_founding']/365\n",
    "fig, ax = plt.subplots()\n",
    "\n",
    "ax = sb.violinplot(y='Years between founding and funding', x = 'status', data=no_outliers_new_df[no_outliers_new_df.status != 'operating'], palette = 'Oranges_d')\n",
    "\n",
    "ax.set_xlabel('')\n",
    "ax.set_title('Years between founing and first funding')\n",
    "plt.savefig('Years between founding and funding.png', bbox_inches='tight')"
   ]
  },
  {
   "cell_type": "code",
   "execution_count": 43,
   "metadata": {
    "collapsed": false
   },
   "outputs": [
    {
     "name": "stderr",
     "output_type": "stream",
     "text": [
      "C:\\Users\\Lana\\Anaconda3\\lib\\site-packages\\ipykernel\\__main__.py:1: SettingWithCopyWarning: \n",
      "A value is trying to be set on a copy of a slice from a DataFrame.\n",
      "Try using .loc[row_indexer,col_indexer] = value instead\n",
      "\n",
      "See the caveats in the documentation: http://pandas.pydata.org/pandas-docs/stable/indexing.html#indexing-view-versus-copy\n",
      "  if __name__ == '__main__':\n"
     ]
    },
    {
     "data": {
      "text/plain": [
       "status\n",
       "acquired     2.523288\n",
       "closed       1.287671\n",
       "ipo          8.356164\n",
       "operating    2.063014\n",
       "Name: Years between founding and funding, dtype: float64"
      ]
     },
     "execution_count": 43,
     "metadata": {},
     "output_type": "execute_result"
    }
   ],
   "source": [
    "pos_val_new_df['Years between founding and funding'] = pos_val_new_df['days_between_funding_and_founding']/365\n",
    "pos_val_new_df.groupby('status')['Years between founding and funding'].median()"
   ]
  },
  {
   "cell_type": "markdown",
   "metadata": {},
   "source": [
    "It's interesting that companies that closed down rushed to get the funding, waiting a little more than a year after getting founded. Taking operating companies as the 'average company', it's clear that 1.3 years is less time than an average company would take to get funding (2 years).\n",
    "\n",
    "Let's look at averages as well to get the full picture. "
   ]
  },
  {
   "cell_type": "code",
   "execution_count": 44,
   "metadata": {
    "collapsed": false
   },
   "outputs": [
    {
     "data": {
      "text/plain": [
       "status\n",
       "acquired     1591.578670\n",
       "closed       1027.338197\n",
       "ipo          4132.484642\n",
       "operating    1523.506126\n",
       "Name: days_between_funding_and_founding, dtype: float64"
      ]
     },
     "execution_count": 44,
     "metadata": {},
     "output_type": "execute_result"
    }
   ],
   "source": [
    "pos_val_new_df.groupby('status')['days_between_funding_and_founding'].mean()"
   ]
  },
  {
   "cell_type": "markdown",
   "metadata": {},
   "source": [
    "#### Investments dataset"
   ]
  },
  {
   "cell_type": "markdown",
   "metadata": {},
   "source": [
    "The second dataset that Crunchbase offers focuses on investments into start-ups, e.g. all the funding rounds that each start-up has received. Let's study that data set as well. "
   ]
  },
  {
   "cell_type": "code",
   "execution_count": 45,
   "metadata": {
    "collapsed": false
   },
   "outputs": [
    {
     "name": "stderr",
     "output_type": "stream",
     "text": [
      "C:\\Users\\Lana\\Anaconda3\\lib\\site-packages\\IPython\\core\\interactiveshell.py:2717: DtypeWarning: Columns (9) have mixed types. Specify dtype option on import or set low_memory=False.\n",
      "  interactivity=interactivity, compiler=compiler, result=result)\n"
     ]
    }
   ],
   "source": [
    "investments = pd.read_csv('investments.csv')"
   ]
  },
  {
   "cell_type": "code",
   "execution_count": 46,
   "metadata": {
    "collapsed": false
   },
   "outputs": [
    {
     "data": {
      "text/plain": [
       "83893"
      ]
     },
     "execution_count": 46,
     "metadata": {},
     "output_type": "execute_result"
    }
   ],
   "source": [
    "len(investments)"
   ]
  },
  {
   "cell_type": "code",
   "execution_count": 47,
   "metadata": {
    "collapsed": false
   },
   "outputs": [
    {
     "name": "stdout",
     "output_type": "stream",
     "text": [
      "<class 'pandas.core.frame.DataFrame'>\n",
      "RangeIndex: 83893 entries, 0 to 83892\n",
      "Data columns (total 21 columns):\n",
      "company_permalink         83893 non-null object\n",
      "company_name              83893 non-null object\n",
      "company_category_code     82284 non-null object\n",
      "company_country_code      80845 non-null object\n",
      "company_state_code        59216 non-null object\n",
      "company_region            83893 non-null object\n",
      "company_city              78974 non-null object\n",
      "investor_permalink        83893 non-null object\n",
      "investor_name             83893 non-null object\n",
      "investor_category_code    4465 non-null object\n",
      "investor_country_code     63904 non-null object\n",
      "investor_state_code       45503 non-null object\n",
      "investor_region           83893 non-null object\n",
      "investor_city             62653 non-null object\n",
      "funding_round_type        83892 non-null object\n",
      "funded_at                 83892 non-null object\n",
      "funded_month              83892 non-null object\n",
      "funded_quarter            83892 non-null object\n",
      "funded_year               83892 non-null float64\n",
      "raised_amount_usd         75775 non-null float64\n",
      "id                        83893 non-null int64\n",
      "dtypes: float64(2), int64(1), object(18)\n",
      "memory usage: 13.4+ MB\n"
     ]
    }
   ],
   "source": [
    "investments.info()"
   ]
  },
  {
   "cell_type": "code",
   "execution_count": 48,
   "metadata": {
    "collapsed": false
   },
   "outputs": [
    {
     "data": {
      "text/html": [
       "<div>\n",
       "<style>\n",
       "    .dataframe thead tr:only-child th {\n",
       "        text-align: right;\n",
       "    }\n",
       "\n",
       "    .dataframe thead th {\n",
       "        text-align: left;\n",
       "    }\n",
       "\n",
       "    .dataframe tbody tr th {\n",
       "        vertical-align: top;\n",
       "    }\n",
       "</style>\n",
       "<table border=\"1\" class=\"dataframe\">\n",
       "  <thead>\n",
       "    <tr style=\"text-align: right;\">\n",
       "      <th></th>\n",
       "      <th>company_permalink</th>\n",
       "      <th>company_name</th>\n",
       "      <th>company_category_code</th>\n",
       "      <th>company_country_code</th>\n",
       "      <th>company_state_code</th>\n",
       "      <th>company_region</th>\n",
       "      <th>company_city</th>\n",
       "      <th>investor_permalink</th>\n",
       "      <th>investor_name</th>\n",
       "      <th>investor_category_code</th>\n",
       "      <th>...</th>\n",
       "      <th>investor_state_code</th>\n",
       "      <th>investor_region</th>\n",
       "      <th>investor_city</th>\n",
       "      <th>funding_round_type</th>\n",
       "      <th>funded_at</th>\n",
       "      <th>funded_month</th>\n",
       "      <th>funded_quarter</th>\n",
       "      <th>funded_year</th>\n",
       "      <th>raised_amount_usd</th>\n",
       "      <th>id</th>\n",
       "    </tr>\n",
       "  </thead>\n",
       "  <tbody>\n",
       "    <tr>\n",
       "      <th>0</th>\n",
       "      <td>/company/tokita-investments</td>\n",
       "      <td>Tokita Investments</td>\n",
       "      <td>consulting</td>\n",
       "      <td>JPN</td>\n",
       "      <td>NaN</td>\n",
       "      <td>TBD</td>\n",
       "      <td>Okinawa Ken</td>\n",
       "      <td>/company/01startups</td>\n",
       "      <td>01Startups</td>\n",
       "      <td>NaN</td>\n",
       "      <td>...</td>\n",
       "      <td>NaN</td>\n",
       "      <td>unknown</td>\n",
       "      <td>NaN</td>\n",
       "      <td>angel</td>\n",
       "      <td>9/26/2013</td>\n",
       "      <td>2013-09</td>\n",
       "      <td>2013-Q3</td>\n",
       "      <td>2013.0</td>\n",
       "      <td>5000.0</td>\n",
       "      <td>1</td>\n",
       "    </tr>\n",
       "    <tr>\n",
       "      <th>1</th>\n",
       "      <td>/company/advercar</td>\n",
       "      <td>AdverCar</td>\n",
       "      <td>advertising</td>\n",
       "      <td>USA</td>\n",
       "      <td>CA</td>\n",
       "      <td>SF Bay</td>\n",
       "      <td>San Francisco</td>\n",
       "      <td>/company/1-800-flowers-com</td>\n",
       "      <td>1-800-FLOWERS.COM</td>\n",
       "      <td>ecommerce</td>\n",
       "      <td>...</td>\n",
       "      <td>NY</td>\n",
       "      <td>New York</td>\n",
       "      <td>New York</td>\n",
       "      <td>series-a</td>\n",
       "      <td>10/30/2012</td>\n",
       "      <td>2012-10</td>\n",
       "      <td>2012-Q4</td>\n",
       "      <td>2012.0</td>\n",
       "      <td>2000000.0</td>\n",
       "      <td>2</td>\n",
       "    </tr>\n",
       "    <tr>\n",
       "      <th>2</th>\n",
       "      <td>/company/launchgram</td>\n",
       "      <td>LaunchGram</td>\n",
       "      <td>news</td>\n",
       "      <td>USA</td>\n",
       "      <td>CA</td>\n",
       "      <td>SF Bay</td>\n",
       "      <td>Mountain View</td>\n",
       "      <td>/company/10xelerator</td>\n",
       "      <td>10Xelerator</td>\n",
       "      <td>finance</td>\n",
       "      <td>...</td>\n",
       "      <td>OH</td>\n",
       "      <td>Columbus</td>\n",
       "      <td>Columbus</td>\n",
       "      <td>other</td>\n",
       "      <td>1/23/2012</td>\n",
       "      <td>2012-01</td>\n",
       "      <td>2012-Q1</td>\n",
       "      <td>2012.0</td>\n",
       "      <td>20000.0</td>\n",
       "      <td>3</td>\n",
       "    </tr>\n",
       "  </tbody>\n",
       "</table>\n",
       "<p>3 rows × 21 columns</p>\n",
       "</div>"
      ],
      "text/plain": [
       "             company_permalink        company_name company_category_code  \\\n",
       "0  /company/tokita-investments  Tokita Investments            consulting   \n",
       "1            /company/advercar            AdverCar           advertising   \n",
       "2          /company/launchgram          LaunchGram                  news   \n",
       "\n",
       "  company_country_code company_state_code company_region   company_city  \\\n",
       "0                  JPN                NaN            TBD    Okinawa Ken   \n",
       "1                  USA                 CA         SF Bay  San Francisco   \n",
       "2                  USA                 CA         SF Bay  Mountain View   \n",
       "\n",
       "           investor_permalink      investor_name investor_category_code ...  \\\n",
       "0         /company/01startups         01Startups                    NaN ...   \n",
       "1  /company/1-800-flowers-com  1-800-FLOWERS.COM              ecommerce ...   \n",
       "2        /company/10xelerator        10Xelerator                finance ...   \n",
       "\n",
       "  investor_state_code investor_region investor_city funding_round_type  \\\n",
       "0                 NaN         unknown           NaN              angel   \n",
       "1                  NY        New York      New York           series-a   \n",
       "2                  OH        Columbus      Columbus              other   \n",
       "\n",
       "    funded_at funded_month funded_quarter funded_year  raised_amount_usd  id  \n",
       "0   9/26/2013      2013-09        2013-Q3      2013.0             5000.0   1  \n",
       "1  10/30/2012      2012-10        2012-Q4      2012.0          2000000.0   2  \n",
       "2   1/23/2012      2012-01        2012-Q1      2012.0            20000.0   3  \n",
       "\n",
       "[3 rows x 21 columns]"
      ]
     },
     "execution_count": 48,
     "metadata": {},
     "output_type": "execute_result"
    }
   ],
   "source": [
    "investments.head(3)"
   ]
  },
  {
   "cell_type": "code",
   "execution_count": 49,
   "metadata": {
    "collapsed": false
   },
   "outputs": [
    {
     "data": {
      "text/html": [
       "<div>\n",
       "<style>\n",
       "    .dataframe thead tr:only-child th {\n",
       "        text-align: right;\n",
       "    }\n",
       "\n",
       "    .dataframe thead th {\n",
       "        text-align: left;\n",
       "    }\n",
       "\n",
       "    .dataframe tbody tr th {\n",
       "        vertical-align: top;\n",
       "    }\n",
       "</style>\n",
       "<table border=\"1\" class=\"dataframe\">\n",
       "  <thead>\n",
       "    <tr style=\"text-align: right;\">\n",
       "      <th></th>\n",
       "      <th>company_permalink</th>\n",
       "      <th>company_name</th>\n",
       "      <th>company_category_code</th>\n",
       "      <th>company_country_code</th>\n",
       "      <th>company_state_code</th>\n",
       "      <th>company_region</th>\n",
       "      <th>company_city</th>\n",
       "      <th>investor_permalink</th>\n",
       "      <th>investor_name</th>\n",
       "      <th>investor_category_code</th>\n",
       "      <th>...</th>\n",
       "      <th>investor_state_code</th>\n",
       "      <th>investor_region</th>\n",
       "      <th>investor_city</th>\n",
       "      <th>funding_round_type</th>\n",
       "      <th>funded_at</th>\n",
       "      <th>funded_month</th>\n",
       "      <th>funded_quarter</th>\n",
       "      <th>funded_year</th>\n",
       "      <th>raised_amount_usd</th>\n",
       "      <th>id</th>\n",
       "    </tr>\n",
       "  </thead>\n",
       "  <tbody>\n",
       "    <tr>\n",
       "      <th>24502</th>\n",
       "      <td>/company/zettics-3</td>\n",
       "      <td>Zettics.</td>\n",
       "      <td>mobile</td>\n",
       "      <td>USA</td>\n",
       "      <td>WA</td>\n",
       "      <td>Seattle</td>\n",
       "      <td>Seattle</td>\n",
       "      <td>/financial-organization/emergence-capital-part...</td>\n",
       "      <td>Emergence Capital Partners</td>\n",
       "      <td>NaN</td>\n",
       "      <td>...</td>\n",
       "      <td>CA</td>\n",
       "      <td>SF Bay</td>\n",
       "      <td>San Mateo</td>\n",
       "      <td>series-b</td>\n",
       "      <td>4/27/2010</td>\n",
       "      <td>2010-04</td>\n",
       "      <td>2010-Q2</td>\n",
       "      <td>2010.0</td>\n",
       "      <td>7000000.0</td>\n",
       "      <td>24503</td>\n",
       "    </tr>\n",
       "    <tr>\n",
       "      <th>24517</th>\n",
       "      <td>/company/zettics-2</td>\n",
       "      <td>Zettics.com</td>\n",
       "      <td>analytics</td>\n",
       "      <td>USA</td>\n",
       "      <td>NY</td>\n",
       "      <td>New York</td>\n",
       "      <td>New York</td>\n",
       "      <td>/financial-organization/emergence-capital-part...</td>\n",
       "      <td>Emergence Capital Partners</td>\n",
       "      <td>NaN</td>\n",
       "      <td>...</td>\n",
       "      <td>CA</td>\n",
       "      <td>SF Bay</td>\n",
       "      <td>San Mateo</td>\n",
       "      <td>venture</td>\n",
       "      <td>7/14/2011</td>\n",
       "      <td>2011-07</td>\n",
       "      <td>2011-Q3</td>\n",
       "      <td>2011.0</td>\n",
       "      <td>8000000.0</td>\n",
       "      <td>24518</td>\n",
       "    </tr>\n",
       "    <tr>\n",
       "      <th>24539</th>\n",
       "      <td>/company/zettics</td>\n",
       "      <td>Zettics</td>\n",
       "      <td>software</td>\n",
       "      <td>USA</td>\n",
       "      <td>NaN</td>\n",
       "      <td>SF Bay</td>\n",
       "      <td>Concord</td>\n",
       "      <td>/financial-organization/emergence-capital-part...</td>\n",
       "      <td>Emergence Capital Partners</td>\n",
       "      <td>NaN</td>\n",
       "      <td>...</td>\n",
       "      <td>CA</td>\n",
       "      <td>SF Bay</td>\n",
       "      <td>San Mateo</td>\n",
       "      <td>series-a</td>\n",
       "      <td>7/24/2013</td>\n",
       "      <td>2013-07</td>\n",
       "      <td>2013-Q3</td>\n",
       "      <td>2013.0</td>\n",
       "      <td>8200000.0</td>\n",
       "      <td>24540</td>\n",
       "    </tr>\n",
       "    <tr>\n",
       "      <th>47986</th>\n",
       "      <td>/company/zettics-2</td>\n",
       "      <td>Zettics.com</td>\n",
       "      <td>analytics</td>\n",
       "      <td>USA</td>\n",
       "      <td>NY</td>\n",
       "      <td>New York</td>\n",
       "      <td>New York</td>\n",
       "      <td>/financial-organization/north-bridge-venture-p...</td>\n",
       "      <td>North Bridge Venture Partners</td>\n",
       "      <td>NaN</td>\n",
       "      <td>...</td>\n",
       "      <td>MA</td>\n",
       "      <td>Boston</td>\n",
       "      <td>Waltham</td>\n",
       "      <td>venture</td>\n",
       "      <td>7/14/2011</td>\n",
       "      <td>2011-07</td>\n",
       "      <td>2011-Q3</td>\n",
       "      <td>2011.0</td>\n",
       "      <td>8000000.0</td>\n",
       "      <td>47987</td>\n",
       "    </tr>\n",
       "    <tr>\n",
       "      <th>48026</th>\n",
       "      <td>/company/zettics</td>\n",
       "      <td>Zettics</td>\n",
       "      <td>software</td>\n",
       "      <td>USA</td>\n",
       "      <td>NaN</td>\n",
       "      <td>SF Bay</td>\n",
       "      <td>Concord</td>\n",
       "      <td>/financial-organization/north-bridge-venture-p...</td>\n",
       "      <td>North Bridge Venture Partners</td>\n",
       "      <td>NaN</td>\n",
       "      <td>...</td>\n",
       "      <td>MA</td>\n",
       "      <td>Boston</td>\n",
       "      <td>Waltham</td>\n",
       "      <td>series-a</td>\n",
       "      <td>7/24/2013</td>\n",
       "      <td>2013-07</td>\n",
       "      <td>2013-Q3</td>\n",
       "      <td>2013.0</td>\n",
       "      <td>8200000.0</td>\n",
       "      <td>48027</td>\n",
       "    </tr>\n",
       "    <tr>\n",
       "      <th>49803</th>\n",
       "      <td>/company/zettics-3</td>\n",
       "      <td>Zettics.</td>\n",
       "      <td>mobile</td>\n",
       "      <td>USA</td>\n",
       "      <td>WA</td>\n",
       "      <td>Seattle</td>\n",
       "      <td>Seattle</td>\n",
       "      <td>/financial-organization/openair-ventures</td>\n",
       "      <td>OPENAIR Equity Partners</td>\n",
       "      <td>NaN</td>\n",
       "      <td>...</td>\n",
       "      <td>MO</td>\n",
       "      <td>Kansas City</td>\n",
       "      <td>Kansas City</td>\n",
       "      <td>series-b</td>\n",
       "      <td>4/27/2010</td>\n",
       "      <td>2010-04</td>\n",
       "      <td>2010-Q2</td>\n",
       "      <td>2010.0</td>\n",
       "      <td>7000000.0</td>\n",
       "      <td>49804</td>\n",
       "    </tr>\n",
       "    <tr>\n",
       "      <th>49804</th>\n",
       "      <td>/company/zettics-2</td>\n",
       "      <td>Zettics.com</td>\n",
       "      <td>analytics</td>\n",
       "      <td>USA</td>\n",
       "      <td>NY</td>\n",
       "      <td>New York</td>\n",
       "      <td>New York</td>\n",
       "      <td>/financial-organization/openair-ventures</td>\n",
       "      <td>OPENAIR Equity Partners</td>\n",
       "      <td>NaN</td>\n",
       "      <td>...</td>\n",
       "      <td>MO</td>\n",
       "      <td>Kansas City</td>\n",
       "      <td>Kansas City</td>\n",
       "      <td>venture</td>\n",
       "      <td>7/14/2011</td>\n",
       "      <td>2011-07</td>\n",
       "      <td>2011-Q3</td>\n",
       "      <td>2011.0</td>\n",
       "      <td>8000000.0</td>\n",
       "      <td>49805</td>\n",
       "    </tr>\n",
       "    <tr>\n",
       "      <th>60974</th>\n",
       "      <td>/company/zettics-3</td>\n",
       "      <td>Zettics.</td>\n",
       "      <td>mobile</td>\n",
       "      <td>USA</td>\n",
       "      <td>WA</td>\n",
       "      <td>Seattle</td>\n",
       "      <td>Seattle</td>\n",
       "      <td>/financial-organization/steamboat-ventures</td>\n",
       "      <td>Steamboat Ventures</td>\n",
       "      <td>NaN</td>\n",
       "      <td>...</td>\n",
       "      <td>CA</td>\n",
       "      <td>Los Angeles</td>\n",
       "      <td>Burbank</td>\n",
       "      <td>series-b</td>\n",
       "      <td>4/27/2010</td>\n",
       "      <td>2010-04</td>\n",
       "      <td>2010-Q2</td>\n",
       "      <td>2010.0</td>\n",
       "      <td>7000000.0</td>\n",
       "      <td>60975</td>\n",
       "    </tr>\n",
       "    <tr>\n",
       "      <th>60982</th>\n",
       "      <td>/company/zettics-2</td>\n",
       "      <td>Zettics.com</td>\n",
       "      <td>analytics</td>\n",
       "      <td>USA</td>\n",
       "      <td>NY</td>\n",
       "      <td>New York</td>\n",
       "      <td>New York</td>\n",
       "      <td>/financial-organization/steamboat-ventures</td>\n",
       "      <td>Steamboat Ventures</td>\n",
       "      <td>NaN</td>\n",
       "      <td>...</td>\n",
       "      <td>CA</td>\n",
       "      <td>Los Angeles</td>\n",
       "      <td>Burbank</td>\n",
       "      <td>venture</td>\n",
       "      <td>7/14/2011</td>\n",
       "      <td>2011-07</td>\n",
       "      <td>2011-Q3</td>\n",
       "      <td>2011.0</td>\n",
       "      <td>8000000.0</td>\n",
       "      <td>60983</td>\n",
       "    </tr>\n",
       "    <tr>\n",
       "      <th>60985</th>\n",
       "      <td>/company/zettics</td>\n",
       "      <td>Zettics</td>\n",
       "      <td>software</td>\n",
       "      <td>USA</td>\n",
       "      <td>NaN</td>\n",
       "      <td>SF Bay</td>\n",
       "      <td>Concord</td>\n",
       "      <td>/financial-organization/steamboat-ventures</td>\n",
       "      <td>Steamboat Ventures</td>\n",
       "      <td>NaN</td>\n",
       "      <td>...</td>\n",
       "      <td>CA</td>\n",
       "      <td>Los Angeles</td>\n",
       "      <td>Burbank</td>\n",
       "      <td>series-a</td>\n",
       "      <td>7/24/2013</td>\n",
       "      <td>2013-07</td>\n",
       "      <td>2013-Q3</td>\n",
       "      <td>2013.0</td>\n",
       "      <td>8200000.0</td>\n",
       "      <td>60986</td>\n",
       "    </tr>\n",
       "    <tr>\n",
       "      <th>68331</th>\n",
       "      <td>/company/zettics-3</td>\n",
       "      <td>Zettics.</td>\n",
       "      <td>mobile</td>\n",
       "      <td>USA</td>\n",
       "      <td>WA</td>\n",
       "      <td>Seattle</td>\n",
       "      <td>Seattle</td>\n",
       "      <td>/financial-organization/voyager-capital</td>\n",
       "      <td>Voyager Capital</td>\n",
       "      <td>NaN</td>\n",
       "      <td>...</td>\n",
       "      <td>WA</td>\n",
       "      <td>Seattle</td>\n",
       "      <td>Seattle</td>\n",
       "      <td>series-b</td>\n",
       "      <td>4/27/2010</td>\n",
       "      <td>2010-04</td>\n",
       "      <td>2010-Q2</td>\n",
       "      <td>2010.0</td>\n",
       "      <td>7000000.0</td>\n",
       "      <td>68332</td>\n",
       "    </tr>\n",
       "    <tr>\n",
       "      <th>68337</th>\n",
       "      <td>/company/zettics-2</td>\n",
       "      <td>Zettics.com</td>\n",
       "      <td>analytics</td>\n",
       "      <td>USA</td>\n",
       "      <td>NY</td>\n",
       "      <td>New York</td>\n",
       "      <td>New York</td>\n",
       "      <td>/financial-organization/voyager-capital</td>\n",
       "      <td>Voyager Capital</td>\n",
       "      <td>NaN</td>\n",
       "      <td>...</td>\n",
       "      <td>WA</td>\n",
       "      <td>Seattle</td>\n",
       "      <td>Seattle</td>\n",
       "      <td>venture</td>\n",
       "      <td>7/14/2011</td>\n",
       "      <td>2011-07</td>\n",
       "      <td>2011-Q3</td>\n",
       "      <td>2011.0</td>\n",
       "      <td>8000000.0</td>\n",
       "      <td>68338</td>\n",
       "    </tr>\n",
       "    <tr>\n",
       "      <th>68349</th>\n",
       "      <td>/company/zettics</td>\n",
       "      <td>Zettics</td>\n",
       "      <td>software</td>\n",
       "      <td>USA</td>\n",
       "      <td>NaN</td>\n",
       "      <td>SF Bay</td>\n",
       "      <td>Concord</td>\n",
       "      <td>/financial-organization/voyager-capital</td>\n",
       "      <td>Voyager Capital</td>\n",
       "      <td>NaN</td>\n",
       "      <td>...</td>\n",
       "      <td>WA</td>\n",
       "      <td>Seattle</td>\n",
       "      <td>Seattle</td>\n",
       "      <td>series-a</td>\n",
       "      <td>7/24/2013</td>\n",
       "      <td>2013-07</td>\n",
       "      <td>2013-Q3</td>\n",
       "      <td>2013.0</td>\n",
       "      <td>8200000.0</td>\n",
       "      <td>68350</td>\n",
       "    </tr>\n",
       "  </tbody>\n",
       "</table>\n",
       "<p>13 rows × 21 columns</p>\n",
       "</div>"
      ],
      "text/plain": [
       "        company_permalink company_name company_category_code  \\\n",
       "24502  /company/zettics-3     Zettics.                mobile   \n",
       "24517  /company/zettics-2  Zettics.com             analytics   \n",
       "24539    /company/zettics      Zettics              software   \n",
       "47986  /company/zettics-2  Zettics.com             analytics   \n",
       "48026    /company/zettics      Zettics              software   \n",
       "49803  /company/zettics-3     Zettics.                mobile   \n",
       "49804  /company/zettics-2  Zettics.com             analytics   \n",
       "60974  /company/zettics-3     Zettics.                mobile   \n",
       "60982  /company/zettics-2  Zettics.com             analytics   \n",
       "60985    /company/zettics      Zettics              software   \n",
       "68331  /company/zettics-3     Zettics.                mobile   \n",
       "68337  /company/zettics-2  Zettics.com             analytics   \n",
       "68349    /company/zettics      Zettics              software   \n",
       "\n",
       "      company_country_code company_state_code company_region company_city  \\\n",
       "24502                  USA                 WA        Seattle      Seattle   \n",
       "24517                  USA                 NY       New York     New York   \n",
       "24539                  USA                NaN         SF Bay      Concord   \n",
       "47986                  USA                 NY       New York     New York   \n",
       "48026                  USA                NaN         SF Bay      Concord   \n",
       "49803                  USA                 WA        Seattle      Seattle   \n",
       "49804                  USA                 NY       New York     New York   \n",
       "60974                  USA                 WA        Seattle      Seattle   \n",
       "60982                  USA                 NY       New York     New York   \n",
       "60985                  USA                NaN         SF Bay      Concord   \n",
       "68331                  USA                 WA        Seattle      Seattle   \n",
       "68337                  USA                 NY       New York     New York   \n",
       "68349                  USA                NaN         SF Bay      Concord   \n",
       "\n",
       "                                      investor_permalink  \\\n",
       "24502  /financial-organization/emergence-capital-part...   \n",
       "24517  /financial-organization/emergence-capital-part...   \n",
       "24539  /financial-organization/emergence-capital-part...   \n",
       "47986  /financial-organization/north-bridge-venture-p...   \n",
       "48026  /financial-organization/north-bridge-venture-p...   \n",
       "49803           /financial-organization/openair-ventures   \n",
       "49804           /financial-organization/openair-ventures   \n",
       "60974         /financial-organization/steamboat-ventures   \n",
       "60982         /financial-organization/steamboat-ventures   \n",
       "60985         /financial-organization/steamboat-ventures   \n",
       "68331            /financial-organization/voyager-capital   \n",
       "68337            /financial-organization/voyager-capital   \n",
       "68349            /financial-organization/voyager-capital   \n",
       "\n",
       "                       investor_name investor_category_code  ...    \\\n",
       "24502     Emergence Capital Partners                    NaN  ...     \n",
       "24517     Emergence Capital Partners                    NaN  ...     \n",
       "24539     Emergence Capital Partners                    NaN  ...     \n",
       "47986  North Bridge Venture Partners                    NaN  ...     \n",
       "48026  North Bridge Venture Partners                    NaN  ...     \n",
       "49803        OPENAIR Equity Partners                    NaN  ...     \n",
       "49804        OPENAIR Equity Partners                    NaN  ...     \n",
       "60974             Steamboat Ventures                    NaN  ...     \n",
       "60982             Steamboat Ventures                    NaN  ...     \n",
       "60985             Steamboat Ventures                    NaN  ...     \n",
       "68331                Voyager Capital                    NaN  ...     \n",
       "68337                Voyager Capital                    NaN  ...     \n",
       "68349                Voyager Capital                    NaN  ...     \n",
       "\n",
       "      investor_state_code investor_region investor_city funding_round_type  \\\n",
       "24502                  CA          SF Bay     San Mateo           series-b   \n",
       "24517                  CA          SF Bay     San Mateo            venture   \n",
       "24539                  CA          SF Bay     San Mateo           series-a   \n",
       "47986                  MA          Boston       Waltham            venture   \n",
       "48026                  MA          Boston       Waltham           series-a   \n",
       "49803                  MO     Kansas City   Kansas City           series-b   \n",
       "49804                  MO     Kansas City   Kansas City            venture   \n",
       "60974                  CA     Los Angeles       Burbank           series-b   \n",
       "60982                  CA     Los Angeles       Burbank            venture   \n",
       "60985                  CA     Los Angeles       Burbank           series-a   \n",
       "68331                  WA         Seattle       Seattle           series-b   \n",
       "68337                  WA         Seattle       Seattle            venture   \n",
       "68349                  WA         Seattle       Seattle           series-a   \n",
       "\n",
       "       funded_at funded_month funded_quarter funded_year  raised_amount_usd  \\\n",
       "24502  4/27/2010      2010-04        2010-Q2      2010.0          7000000.0   \n",
       "24517  7/14/2011      2011-07        2011-Q3      2011.0          8000000.0   \n",
       "24539  7/24/2013      2013-07        2013-Q3      2013.0          8200000.0   \n",
       "47986  7/14/2011      2011-07        2011-Q3      2011.0          8000000.0   \n",
       "48026  7/24/2013      2013-07        2013-Q3      2013.0          8200000.0   \n",
       "49803  4/27/2010      2010-04        2010-Q2      2010.0          7000000.0   \n",
       "49804  7/14/2011      2011-07        2011-Q3      2011.0          8000000.0   \n",
       "60974  4/27/2010      2010-04        2010-Q2      2010.0          7000000.0   \n",
       "60982  7/14/2011      2011-07        2011-Q3      2011.0          8000000.0   \n",
       "60985  7/24/2013      2013-07        2013-Q3      2013.0          8200000.0   \n",
       "68331  4/27/2010      2010-04        2010-Q2      2010.0          7000000.0   \n",
       "68337  7/14/2011      2011-07        2011-Q3      2011.0          8000000.0   \n",
       "68349  7/24/2013      2013-07        2013-Q3      2013.0          8200000.0   \n",
       "\n",
       "          id  \n",
       "24502  24503  \n",
       "24517  24518  \n",
       "24539  24540  \n",
       "47986  47987  \n",
       "48026  48027  \n",
       "49803  49804  \n",
       "49804  49805  \n",
       "60974  60975  \n",
       "60982  60983  \n",
       "60985  60986  \n",
       "68331  68332  \n",
       "68337  68338  \n",
       "68349  68350  \n",
       "\n",
       "[13 rows x 21 columns]"
      ]
     },
     "execution_count": 49,
     "metadata": {},
     "output_type": "execute_result"
    }
   ],
   "source": [
    "#making sure that permalinks all translate into the same name between the two files.\n",
    "investments[investments.company_name.str.contains('Zettics')]"
   ]
  },
  {
   "cell_type": "markdown",
   "metadata": {},
   "source": [
    "While we should merge the two datasets on the investments.permalink = companies.company_permalink, we should keep in mind that certain duplicate columns might have to be deleted (name vs. company_name, category_code vs. company_category_code, country_code vs. company_country_code, state_code vs. company_state_code, region vs. company_region, city vs. company_city)"
   ]
  },
  {
   "cell_type": "markdown",
   "metadata": {},
   "source": [
    "### Merging 2 datasets"
   ]
  },
  {
   "cell_type": "code",
   "execution_count": 50,
   "metadata": {
    "collapsed": false
   },
   "outputs": [
    {
     "data": {
      "text/plain": [
       "66847"
      ]
     },
     "execution_count": 50,
     "metadata": {},
     "output_type": "execute_result"
    }
   ],
   "source": [
    "#we will be merging both datasets on the permalink column\n",
    "#we will do a left merge because we are only interested in companies that have a status, which is only available in the companies dataset\n",
    "investments = investments.rename(columns = {'company_permalink': 'permalink'})\n",
    "companies_investments = pd.merge(companies, investments, on = 'permalink')\n",
    "\n",
    "len(companies_investments['permalink'])"
   ]
  },
  {
   "cell_type": "code",
   "execution_count": 51,
   "metadata": {
    "collapsed": false
   },
   "outputs": [],
   "source": [
    "#dropping duplicate columns\n",
    "companies_investments = companies_investments.drop(['name', 'category_code', 'country_code', 'state_code', 'region', 'city'], 1)"
   ]
  },
  {
   "cell_type": "code",
   "execution_count": 52,
   "metadata": {
    "collapsed": false
   },
   "outputs": [
    {
     "data": {
      "text/html": [
       "<div>\n",
       "<style>\n",
       "    .dataframe thead tr:only-child th {\n",
       "        text-align: right;\n",
       "    }\n",
       "\n",
       "    .dataframe thead th {\n",
       "        text-align: left;\n",
       "    }\n",
       "\n",
       "    .dataframe tbody tr th {\n",
       "        vertical-align: top;\n",
       "    }\n",
       "</style>\n",
       "<table border=\"1\" class=\"dataframe\">\n",
       "  <thead>\n",
       "    <tr style=\"text-align: right;\">\n",
       "      <th></th>\n",
       "      <th>permalink</th>\n",
       "      <th>homepage_url</th>\n",
       "      <th>funding_total_usd</th>\n",
       "      <th>status</th>\n",
       "      <th>funding_rounds</th>\n",
       "      <th>founded_at</th>\n",
       "      <th>founded_month</th>\n",
       "      <th>founded_quarter</th>\n",
       "      <th>founded_year</th>\n",
       "      <th>first_funding_at</th>\n",
       "      <th>...</th>\n",
       "      <th>investor_state_code</th>\n",
       "      <th>investor_region</th>\n",
       "      <th>investor_city</th>\n",
       "      <th>funding_round_type</th>\n",
       "      <th>funded_at</th>\n",
       "      <th>funded_month</th>\n",
       "      <th>funded_quarter</th>\n",
       "      <th>funded_year</th>\n",
       "      <th>raised_amount_usd</th>\n",
       "      <th>id_y</th>\n",
       "    </tr>\n",
       "  </thead>\n",
       "  <tbody>\n",
       "    <tr>\n",
       "      <th>66242</th>\n",
       "      <td>/company/zettics</td>\n",
       "      <td>http://zettics.com</td>\n",
       "      <td>8200000.0</td>\n",
       "      <td>operating</td>\n",
       "      <td>1</td>\n",
       "      <td>2008-01-01</td>\n",
       "      <td>2008-01</td>\n",
       "      <td>2008-Q1</td>\n",
       "      <td>2008.0</td>\n",
       "      <td>2013-07-24</td>\n",
       "      <td>...</td>\n",
       "      <td>CA</td>\n",
       "      <td>SF Bay</td>\n",
       "      <td>San Mateo</td>\n",
       "      <td>series-a</td>\n",
       "      <td>7/24/2013</td>\n",
       "      <td>2013-07</td>\n",
       "      <td>2013-Q3</td>\n",
       "      <td>2013.0</td>\n",
       "      <td>8200000.0</td>\n",
       "      <td>24540</td>\n",
       "    </tr>\n",
       "    <tr>\n",
       "      <th>66243</th>\n",
       "      <td>/company/zettics</td>\n",
       "      <td>http://zettics.com</td>\n",
       "      <td>8200000.0</td>\n",
       "      <td>operating</td>\n",
       "      <td>1</td>\n",
       "      <td>2008-01-01</td>\n",
       "      <td>2008-01</td>\n",
       "      <td>2008-Q1</td>\n",
       "      <td>2008.0</td>\n",
       "      <td>2013-07-24</td>\n",
       "      <td>...</td>\n",
       "      <td>MA</td>\n",
       "      <td>Boston</td>\n",
       "      <td>Waltham</td>\n",
       "      <td>series-a</td>\n",
       "      <td>7/24/2013</td>\n",
       "      <td>2013-07</td>\n",
       "      <td>2013-Q3</td>\n",
       "      <td>2013.0</td>\n",
       "      <td>8200000.0</td>\n",
       "      <td>48027</td>\n",
       "    </tr>\n",
       "    <tr>\n",
       "      <th>66244</th>\n",
       "      <td>/company/zettics</td>\n",
       "      <td>http://zettics.com</td>\n",
       "      <td>8200000.0</td>\n",
       "      <td>operating</td>\n",
       "      <td>1</td>\n",
       "      <td>2008-01-01</td>\n",
       "      <td>2008-01</td>\n",
       "      <td>2008-Q1</td>\n",
       "      <td>2008.0</td>\n",
       "      <td>2013-07-24</td>\n",
       "      <td>...</td>\n",
       "      <td>CA</td>\n",
       "      <td>Los Angeles</td>\n",
       "      <td>Burbank</td>\n",
       "      <td>series-a</td>\n",
       "      <td>7/24/2013</td>\n",
       "      <td>2013-07</td>\n",
       "      <td>2013-Q3</td>\n",
       "      <td>2013.0</td>\n",
       "      <td>8200000.0</td>\n",
       "      <td>60986</td>\n",
       "    </tr>\n",
       "    <tr>\n",
       "      <th>66245</th>\n",
       "      <td>/company/zettics</td>\n",
       "      <td>http://zettics.com</td>\n",
       "      <td>8200000.0</td>\n",
       "      <td>operating</td>\n",
       "      <td>1</td>\n",
       "      <td>2008-01-01</td>\n",
       "      <td>2008-01</td>\n",
       "      <td>2008-Q1</td>\n",
       "      <td>2008.0</td>\n",
       "      <td>2013-07-24</td>\n",
       "      <td>...</td>\n",
       "      <td>WA</td>\n",
       "      <td>Seattle</td>\n",
       "      <td>Seattle</td>\n",
       "      <td>series-a</td>\n",
       "      <td>7/24/2013</td>\n",
       "      <td>2013-07</td>\n",
       "      <td>2013-Q3</td>\n",
       "      <td>2013.0</td>\n",
       "      <td>8200000.0</td>\n",
       "      <td>68350</td>\n",
       "    </tr>\n",
       "  </tbody>\n",
       "</table>\n",
       "<p>4 rows × 34 columns</p>\n",
       "</div>"
      ],
      "text/plain": [
       "              permalink        homepage_url  funding_total_usd     status  \\\n",
       "66242  /company/zettics  http://zettics.com          8200000.0  operating   \n",
       "66243  /company/zettics  http://zettics.com          8200000.0  operating   \n",
       "66244  /company/zettics  http://zettics.com          8200000.0  operating   \n",
       "66245  /company/zettics  http://zettics.com          8200000.0  operating   \n",
       "\n",
       "       funding_rounds founded_at founded_month founded_quarter  founded_year  \\\n",
       "66242               1 2008-01-01      2008-01          2008-Q1        2008.0   \n",
       "66243               1 2008-01-01      2008-01          2008-Q1        2008.0   \n",
       "66244               1 2008-01-01      2008-01          2008-Q1        2008.0   \n",
       "66245               1 2008-01-01      2008-01          2008-Q1        2008.0   \n",
       "\n",
       "      first_funding_at  ...   investor_state_code investor_region  \\\n",
       "66242       2013-07-24  ...                    CA          SF Bay   \n",
       "66243       2013-07-24  ...                    MA          Boston   \n",
       "66244       2013-07-24  ...                    CA     Los Angeles   \n",
       "66245       2013-07-24  ...                    WA         Seattle   \n",
       "\n",
       "       investor_city  funding_round_type  funded_at funded_month  \\\n",
       "66242      San Mateo            series-a  7/24/2013      2013-07   \n",
       "66243        Waltham            series-a  7/24/2013      2013-07   \n",
       "66244        Burbank            series-a  7/24/2013      2013-07   \n",
       "66245        Seattle            series-a  7/24/2013      2013-07   \n",
       "\n",
       "      funded_quarter funded_year raised_amount_usd   id_y  \n",
       "66242        2013-Q3      2013.0         8200000.0  24540  \n",
       "66243        2013-Q3      2013.0         8200000.0  48027  \n",
       "66244        2013-Q3      2013.0         8200000.0  60986  \n",
       "66245        2013-Q3      2013.0         8200000.0  68350  \n",
       "\n",
       "[4 rows x 34 columns]"
      ]
     },
     "execution_count": 52,
     "metadata": {},
     "output_type": "execute_result"
    }
   ],
   "source": [
    "#checking at the row level to make sure merge was performed correctly.\n",
    "companies_investments[companies_investments.company_name == 'Zettics']"
   ]
  },
  {
   "cell_type": "code",
   "execution_count": 53,
   "metadata": {
    "collapsed": false
   },
   "outputs": [
    {
     "data": {
      "text/plain": [
       "66242       Emergence Capital Partners\n",
       "66243    North Bridge Venture Partners\n",
       "66244               Steamboat Ventures\n",
       "66245                  Voyager Capital\n",
       "Name: investor_name, dtype: object"
      ]
     },
     "execution_count": 53,
     "metadata": {},
     "output_type": "execute_result"
    }
   ],
   "source": [
    "companies_investments[companies_investments.company_name == 'Zettics'].investor_name"
   ]
  },
  {
   "cell_type": "markdown",
   "metadata": {},
   "source": [
    "##### Investors vs. company status"
   ]
  },
  {
   "cell_type": "markdown",
   "metadata": {},
   "source": [
    "Let's see how different investors fare in terms of their companies succeeding. Because Series A funding round is riskier, those investors that enter early will inevitably have less information about the start-up than investors that enter in Series B, C, etc. Also, some investors will continue reinvesting in the company through all or some of the remaining funding rounds. Finally, some companies won't even go beyond Series A funding round, either succeeding or failing soon thereafter. Hence, Series A funding round is the most interesting to look at: we only have the original investors that invested early with the most risk involved. This is what we are going to consider right now."
   ]
  },
  {
   "cell_type": "code",
   "execution_count": 54,
   "metadata": {
    "collapsed": false
   },
   "outputs": [],
   "source": [
    "#narrowing it down to Series A funding round\n",
    "investor_vs_status = companies_investments[companies_investments.funding_round_type == 'series-a']\n",
    "investor_vs_status = companies_investments[['investor_name','status']]\n",
    "investor_vs_status = investor_vs_status.groupby('investor_name')['status'].value_counts()\n",
    "investor_vs_status = investor_vs_status.unstack()\n",
    "investor_vs_status = investor_vs_status.reset_index()"
   ]
  },
  {
   "cell_type": "markdown",
   "metadata": {},
   "source": [
    "Let's see which investors have helped the most companies get listed"
   ]
  },
  {
   "cell_type": "code",
   "execution_count": 55,
   "metadata": {
    "collapsed": false
   },
   "outputs": [
    {
     "data": {
      "text/html": [
       "<div>\n",
       "<style>\n",
       "    .dataframe thead tr:only-child th {\n",
       "        text-align: right;\n",
       "    }\n",
       "\n",
       "    .dataframe thead th {\n",
       "        text-align: left;\n",
       "    }\n",
       "\n",
       "    .dataframe tbody tr th {\n",
       "        vertical-align: top;\n",
       "    }\n",
       "</style>\n",
       "<table border=\"1\" class=\"dataframe\">\n",
       "  <thead>\n",
       "    <tr style=\"text-align: right;\">\n",
       "      <th>status</th>\n",
       "      <th>investor_name</th>\n",
       "      <th>acquired</th>\n",
       "      <th>closed</th>\n",
       "      <th>ipo</th>\n",
       "      <th>operating</th>\n",
       "    </tr>\n",
       "  </thead>\n",
       "  <tbody>\n",
       "    <tr>\n",
       "      <th>12190</th>\n",
       "      <td>Sequoia Capital</td>\n",
       "      <td>100.0</td>\n",
       "      <td>29.0</td>\n",
       "      <td>34.0</td>\n",
       "      <td>299.0</td>\n",
       "    </tr>\n",
       "    <tr>\n",
       "      <th>7699</th>\n",
       "      <td>Kleiner Perkins Caufield &amp; Byers</td>\n",
       "      <td>63.0</td>\n",
       "      <td>12.0</td>\n",
       "      <td>26.0</td>\n",
       "      <td>278.0</td>\n",
       "    </tr>\n",
       "    <tr>\n",
       "      <th>9592</th>\n",
       "      <td>New Enterprise Associates</td>\n",
       "      <td>62.0</td>\n",
       "      <td>23.0</td>\n",
       "      <td>23.0</td>\n",
       "      <td>307.0</td>\n",
       "    </tr>\n",
       "    <tr>\n",
       "      <th>7645</th>\n",
       "      <td>Khosla Ventures</td>\n",
       "      <td>23.0</td>\n",
       "      <td>12.0</td>\n",
       "      <td>19.0</td>\n",
       "      <td>148.0</td>\n",
       "    </tr>\n",
       "    <tr>\n",
       "      <th>1622</th>\n",
       "      <td>Bessemer Venture Partners</td>\n",
       "      <td>38.0</td>\n",
       "      <td>3.0</td>\n",
       "      <td>17.0</td>\n",
       "      <td>173.0</td>\n",
       "    </tr>\n",
       "    <tr>\n",
       "      <th>3266</th>\n",
       "      <td>DAG Ventures</td>\n",
       "      <td>27.0</td>\n",
       "      <td>5.0</td>\n",
       "      <td>16.0</td>\n",
       "      <td>100.0</td>\n",
       "    </tr>\n",
       "    <tr>\n",
       "      <th>3879</th>\n",
       "      <td>Domain Associates</td>\n",
       "      <td>3.0</td>\n",
       "      <td>4.0</td>\n",
       "      <td>15.0</td>\n",
       "      <td>54.0</td>\n",
       "    </tr>\n",
       "    <tr>\n",
       "      <th>1563</th>\n",
       "      <td>Benchmark</td>\n",
       "      <td>55.0</td>\n",
       "      <td>3.0</td>\n",
       "      <td>14.0</td>\n",
       "      <td>175.0</td>\n",
       "    </tr>\n",
       "    <tr>\n",
       "      <th>6351</th>\n",
       "      <td>Intel Capital</td>\n",
       "      <td>88.0</td>\n",
       "      <td>32.0</td>\n",
       "      <td>14.0</td>\n",
       "      <td>311.0</td>\n",
       "    </tr>\n",
       "    <tr>\n",
       "      <th>249</th>\n",
       "      <td>Accel Partners</td>\n",
       "      <td>94.0</td>\n",
       "      <td>13.0</td>\n",
       "      <td>13.0</td>\n",
       "      <td>287.0</td>\n",
       "    </tr>\n",
       "  </tbody>\n",
       "</table>\n",
       "</div>"
      ],
      "text/plain": [
       "status                     investor_name  acquired  closed   ipo  operating\n",
       "12190                    Sequoia Capital     100.0    29.0  34.0      299.0\n",
       "7699    Kleiner Perkins Caufield & Byers      63.0    12.0  26.0      278.0\n",
       "9592           New Enterprise Associates      62.0    23.0  23.0      307.0\n",
       "7645                     Khosla Ventures      23.0    12.0  19.0      148.0\n",
       "1622           Bessemer Venture Partners      38.0     3.0  17.0      173.0\n",
       "3266                        DAG Ventures      27.0     5.0  16.0      100.0\n",
       "3879                   Domain Associates       3.0     4.0  15.0       54.0\n",
       "1563                           Benchmark      55.0     3.0  14.0      175.0\n",
       "6351                       Intel Capital      88.0    32.0  14.0      311.0\n",
       "249                       Accel Partners      94.0    13.0  13.0      287.0"
      ]
     },
     "execution_count": 55,
     "metadata": {},
     "output_type": "execute_result"
    }
   ],
   "source": [
    "investor_vs_status.sort_values('ipo', ascending = False).head(10)"
   ]
  },
  {
   "cell_type": "markdown",
   "metadata": {
    "collapsed": true
   },
   "source": [
    "What about acquired companies?"
   ]
  },
  {
   "cell_type": "code",
   "execution_count": 56,
   "metadata": {
    "collapsed": false
   },
   "outputs": [
    {
     "data": {
      "text/html": [
       "<div>\n",
       "<style>\n",
       "    .dataframe thead tr:only-child th {\n",
       "        text-align: right;\n",
       "    }\n",
       "\n",
       "    .dataframe thead th {\n",
       "        text-align: left;\n",
       "    }\n",
       "\n",
       "    .dataframe tbody tr th {\n",
       "        vertical-align: top;\n",
       "    }\n",
       "</style>\n",
       "<table border=\"1\" class=\"dataframe\">\n",
       "  <thead>\n",
       "    <tr style=\"text-align: right;\">\n",
       "      <th>status</th>\n",
       "      <th>investor_name</th>\n",
       "      <th>acquired</th>\n",
       "      <th>closed</th>\n",
       "      <th>ipo</th>\n",
       "      <th>operating</th>\n",
       "    </tr>\n",
       "  </thead>\n",
       "  <tbody>\n",
       "    <tr>\n",
       "      <th>12190</th>\n",
       "      <td>Sequoia Capital</td>\n",
       "      <td>100.0</td>\n",
       "      <td>29.0</td>\n",
       "      <td>34.0</td>\n",
       "      <td>299.0</td>\n",
       "    </tr>\n",
       "    <tr>\n",
       "      <th>249</th>\n",
       "      <td>Accel Partners</td>\n",
       "      <td>94.0</td>\n",
       "      <td>13.0</td>\n",
       "      <td>13.0</td>\n",
       "      <td>287.0</td>\n",
       "    </tr>\n",
       "    <tr>\n",
       "      <th>11842</th>\n",
       "      <td>SV Angel</td>\n",
       "      <td>93.0</td>\n",
       "      <td>10.0</td>\n",
       "      <td>7.0</td>\n",
       "      <td>277.0</td>\n",
       "    </tr>\n",
       "    <tr>\n",
       "      <th>6351</th>\n",
       "      <td>Intel Capital</td>\n",
       "      <td>88.0</td>\n",
       "      <td>32.0</td>\n",
       "      <td>14.0</td>\n",
       "      <td>311.0</td>\n",
       "    </tr>\n",
       "    <tr>\n",
       "      <th>3978</th>\n",
       "      <td>Draper Fisher Jurvetson (DFJ)</td>\n",
       "      <td>69.0</td>\n",
       "      <td>26.0</td>\n",
       "      <td>10.0</td>\n",
       "      <td>285.0</td>\n",
       "    </tr>\n",
       "    <tr>\n",
       "      <th>7699</th>\n",
       "      <td>Kleiner Perkins Caufield &amp; Byers</td>\n",
       "      <td>63.0</td>\n",
       "      <td>12.0</td>\n",
       "      <td>26.0</td>\n",
       "      <td>278.0</td>\n",
       "    </tr>\n",
       "    <tr>\n",
       "      <th>8818</th>\n",
       "      <td>Menlo Ventures</td>\n",
       "      <td>62.0</td>\n",
       "      <td>10.0</td>\n",
       "      <td>7.0</td>\n",
       "      <td>124.0</td>\n",
       "    </tr>\n",
       "    <tr>\n",
       "      <th>9592</th>\n",
       "      <td>New Enterprise Associates</td>\n",
       "      <td>62.0</td>\n",
       "      <td>23.0</td>\n",
       "      <td>23.0</td>\n",
       "      <td>307.0</td>\n",
       "    </tr>\n",
       "    <tr>\n",
       "      <th>14745</th>\n",
       "      <td>Y Combinator</td>\n",
       "      <td>58.0</td>\n",
       "      <td>44.0</td>\n",
       "      <td>NaN</td>\n",
       "      <td>283.0</td>\n",
       "    </tr>\n",
       "    <tr>\n",
       "      <th>4731</th>\n",
       "      <td>First Round Capital</td>\n",
       "      <td>56.0</td>\n",
       "      <td>13.0</td>\n",
       "      <td>2.0</td>\n",
       "      <td>223.0</td>\n",
       "    </tr>\n",
       "  </tbody>\n",
       "</table>\n",
       "</div>"
      ],
      "text/plain": [
       "status                     investor_name  acquired  closed   ipo  operating\n",
       "12190                    Sequoia Capital     100.0    29.0  34.0      299.0\n",
       "249                       Accel Partners      94.0    13.0  13.0      287.0\n",
       "11842                           SV Angel      93.0    10.0   7.0      277.0\n",
       "6351                       Intel Capital      88.0    32.0  14.0      311.0\n",
       "3978       Draper Fisher Jurvetson (DFJ)      69.0    26.0  10.0      285.0\n",
       "7699    Kleiner Perkins Caufield & Byers      63.0    12.0  26.0      278.0\n",
       "8818                      Menlo Ventures      62.0    10.0   7.0      124.0\n",
       "9592           New Enterprise Associates      62.0    23.0  23.0      307.0\n",
       "14745                       Y Combinator      58.0    44.0   NaN      283.0\n",
       "4731                 First Round Capital      56.0    13.0   2.0      223.0"
      ]
     },
     "execution_count": 56,
     "metadata": {},
     "output_type": "execute_result"
    }
   ],
   "source": [
    "investor_vs_status.sort_values('acquired', ascending = False).head(10)"
   ]
  },
  {
   "cell_type": "markdown",
   "metadata": {},
   "source": [
    "And what about those closed companies?"
   ]
  },
  {
   "cell_type": "code",
   "execution_count": 57,
   "metadata": {
    "collapsed": false
   },
   "outputs": [
    {
     "data": {
      "text/html": [
       "<div>\n",
       "<style>\n",
       "    .dataframe thead tr:only-child th {\n",
       "        text-align: right;\n",
       "    }\n",
       "\n",
       "    .dataframe thead th {\n",
       "        text-align: left;\n",
       "    }\n",
       "\n",
       "    .dataframe tbody tr th {\n",
       "        vertical-align: top;\n",
       "    }\n",
       "</style>\n",
       "<table border=\"1\" class=\"dataframe\">\n",
       "  <thead>\n",
       "    <tr style=\"text-align: right;\">\n",
       "      <th>status</th>\n",
       "      <th>investor_name</th>\n",
       "      <th>acquired</th>\n",
       "      <th>closed</th>\n",
       "      <th>ipo</th>\n",
       "      <th>operating</th>\n",
       "    </tr>\n",
       "  </thead>\n",
       "  <tbody>\n",
       "    <tr>\n",
       "      <th>14745</th>\n",
       "      <td>Y Combinator</td>\n",
       "      <td>58.0</td>\n",
       "      <td>44.0</td>\n",
       "      <td>NaN</td>\n",
       "      <td>283.0</td>\n",
       "    </tr>\n",
       "    <tr>\n",
       "      <th>6351</th>\n",
       "      <td>Intel Capital</td>\n",
       "      <td>88.0</td>\n",
       "      <td>32.0</td>\n",
       "      <td>14.0</td>\n",
       "      <td>311.0</td>\n",
       "    </tr>\n",
       "    <tr>\n",
       "      <th>12190</th>\n",
       "      <td>Sequoia Capital</td>\n",
       "      <td>100.0</td>\n",
       "      <td>29.0</td>\n",
       "      <td>34.0</td>\n",
       "      <td>299.0</td>\n",
       "    </tr>\n",
       "    <tr>\n",
       "      <th>3978</th>\n",
       "      <td>Draper Fisher Jurvetson (DFJ)</td>\n",
       "      <td>69.0</td>\n",
       "      <td>26.0</td>\n",
       "      <td>10.0</td>\n",
       "      <td>285.0</td>\n",
       "    </tr>\n",
       "    <tr>\n",
       "      <th>13277</th>\n",
       "      <td>Techstars</td>\n",
       "      <td>30.0</td>\n",
       "      <td>24.0</td>\n",
       "      <td>NaN</td>\n",
       "      <td>192.0</td>\n",
       "    </tr>\n",
       "    <tr>\n",
       "      <th>9592</th>\n",
       "      <td>New Enterprise Associates</td>\n",
       "      <td>62.0</td>\n",
       "      <td>23.0</td>\n",
       "      <td>23.0</td>\n",
       "      <td>307.0</td>\n",
       "    </tr>\n",
       "    <tr>\n",
       "      <th>9826</th>\n",
       "      <td>North Bridge Venture Partners</td>\n",
       "      <td>30.0</td>\n",
       "      <td>19.0</td>\n",
       "      <td>5.0</td>\n",
       "      <td>89.0</td>\n",
       "    </tr>\n",
       "    <tr>\n",
       "      <th>2632</th>\n",
       "      <td>Charles River Ventures</td>\n",
       "      <td>45.0</td>\n",
       "      <td>18.0</td>\n",
       "      <td>7.0</td>\n",
       "      <td>112.0</td>\n",
       "    </tr>\n",
       "    <tr>\n",
       "      <th>12755</th>\n",
       "      <td>Startupbootcamp</td>\n",
       "      <td>2.0</td>\n",
       "      <td>18.0</td>\n",
       "      <td>NaN</td>\n",
       "      <td>82.0</td>\n",
       "    </tr>\n",
       "    <tr>\n",
       "      <th>13978</th>\n",
       "      <td>US Venture Partners</td>\n",
       "      <td>45.0</td>\n",
       "      <td>18.0</td>\n",
       "      <td>4.0</td>\n",
       "      <td>136.0</td>\n",
       "    </tr>\n",
       "  </tbody>\n",
       "</table>\n",
       "</div>"
      ],
      "text/plain": [
       "status                  investor_name  acquired  closed   ipo  operating\n",
       "14745                    Y Combinator      58.0    44.0   NaN      283.0\n",
       "6351                    Intel Capital      88.0    32.0  14.0      311.0\n",
       "12190                 Sequoia Capital     100.0    29.0  34.0      299.0\n",
       "3978    Draper Fisher Jurvetson (DFJ)      69.0    26.0  10.0      285.0\n",
       "13277                       Techstars      30.0    24.0   NaN      192.0\n",
       "9592        New Enterprise Associates      62.0    23.0  23.0      307.0\n",
       "9826    North Bridge Venture Partners      30.0    19.0   5.0       89.0\n",
       "2632           Charles River Ventures      45.0    18.0   7.0      112.0\n",
       "12755                 Startupbootcamp       2.0    18.0   NaN       82.0\n",
       "13978             US Venture Partners      45.0    18.0   4.0      136.0"
      ]
     },
     "execution_count": 57,
     "metadata": {},
     "output_type": "execute_result"
    }
   ],
   "source": [
    "investor_vs_status.sort_values('closed', ascending = False).head(10)"
   ]
  },
  {
   "cell_type": "markdown",
   "metadata": {},
   "source": [
    "Now let's look at proportions"
   ]
  },
  {
   "cell_type": "code",
   "execution_count": 58,
   "metadata": {
    "collapsed": true
   },
   "outputs": [],
   "source": [
    "investor_vs_status['proportion_ipo'] = investor_vs_status['ipo']/(investor_vs_status['ipo'] + investor_vs_status['operating'] + investor_vs_status['acquired'] + investor_vs_status['closed'])\n",
    "\n",
    "investor_vs_status['proportion_acquired'] = investor_vs_status['acquired']/(investor_vs_status['ipo'] + investor_vs_status['operating'] + investor_vs_status['acquired'] + investor_vs_status['closed'])\n",
    "\n",
    "investor_vs_status['proportion_closed'] = investor_vs_status['closed']/(investor_vs_status['ipo'] + investor_vs_status['operating'] + investor_vs_status['acquired'] + investor_vs_status['closed'])\n"
   ]
  },
  {
   "cell_type": "markdown",
   "metadata": {
    "collapsed": true
   },
   "source": [
    "IPO: "
   ]
  },
  {
   "cell_type": "code",
   "execution_count": 59,
   "metadata": {
    "collapsed": false
   },
   "outputs": [
    {
     "data": {
      "text/html": [
       "<div>\n",
       "<style>\n",
       "    .dataframe thead tr:only-child th {\n",
       "        text-align: right;\n",
       "    }\n",
       "\n",
       "    .dataframe thead th {\n",
       "        text-align: left;\n",
       "    }\n",
       "\n",
       "    .dataframe tbody tr th {\n",
       "        vertical-align: top;\n",
       "    }\n",
       "</style>\n",
       "<table border=\"1\" class=\"dataframe\">\n",
       "  <thead>\n",
       "    <tr style=\"text-align: right;\">\n",
       "      <th>status</th>\n",
       "      <th>investor_name</th>\n",
       "      <th>acquired</th>\n",
       "      <th>closed</th>\n",
       "      <th>ipo</th>\n",
       "      <th>operating</th>\n",
       "      <th>proportion_ipo</th>\n",
       "      <th>proportion_acquired</th>\n",
       "      <th>proportion_closed</th>\n",
       "    </tr>\n",
       "  </thead>\n",
       "  <tbody>\n",
       "    <tr>\n",
       "      <th>3694</th>\n",
       "      <td>Deerfield Capital Management</td>\n",
       "      <td>1.0</td>\n",
       "      <td>1.0</td>\n",
       "      <td>5.0</td>\n",
       "      <td>4.0</td>\n",
       "      <td>0.454545</td>\n",
       "      <td>0.090909</td>\n",
       "      <td>0.090909</td>\n",
       "    </tr>\n",
       "    <tr>\n",
       "      <th>6469</th>\n",
       "      <td>Iroquois Capital</td>\n",
       "      <td>2.0</td>\n",
       "      <td>1.0</td>\n",
       "      <td>5.0</td>\n",
       "      <td>5.0</td>\n",
       "      <td>0.384615</td>\n",
       "      <td>0.153846</td>\n",
       "      <td>0.076923</td>\n",
       "    </tr>\n",
       "    <tr>\n",
       "      <th>10437</th>\n",
       "      <td>Pegasus Capital</td>\n",
       "      <td>1.0</td>\n",
       "      <td>1.0</td>\n",
       "      <td>2.0</td>\n",
       "      <td>2.0</td>\n",
       "      <td>0.333333</td>\n",
       "      <td>0.166667</td>\n",
       "      <td>0.166667</td>\n",
       "    </tr>\n",
       "    <tr>\n",
       "      <th>5449</th>\n",
       "      <td>Great Point Partners</td>\n",
       "      <td>2.0</td>\n",
       "      <td>1.0</td>\n",
       "      <td>3.0</td>\n",
       "      <td>4.0</td>\n",
       "      <td>0.300000</td>\n",
       "      <td>0.200000</td>\n",
       "      <td>0.100000</td>\n",
       "    </tr>\n",
       "    <tr>\n",
       "      <th>2888</th>\n",
       "      <td>Clarus Ventures</td>\n",
       "      <td>10.0</td>\n",
       "      <td>1.0</td>\n",
       "      <td>10.0</td>\n",
       "      <td>13.0</td>\n",
       "      <td>0.294118</td>\n",
       "      <td>0.294118</td>\n",
       "      <td>0.029412</td>\n",
       "    </tr>\n",
       "    <tr>\n",
       "      <th>11733</th>\n",
       "      <td>SAIF Partners</td>\n",
       "      <td>2.0</td>\n",
       "      <td>1.0</td>\n",
       "      <td>10.0</td>\n",
       "      <td>21.0</td>\n",
       "      <td>0.294118</td>\n",
       "      <td>0.058824</td>\n",
       "      <td>0.029412</td>\n",
       "    </tr>\n",
       "    <tr>\n",
       "      <th>4495</th>\n",
       "      <td>European Founders Fund</td>\n",
       "      <td>2.0</td>\n",
       "      <td>3.0</td>\n",
       "      <td>5.0</td>\n",
       "      <td>9.0</td>\n",
       "      <td>0.263158</td>\n",
       "      <td>0.105263</td>\n",
       "      <td>0.157895</td>\n",
       "    </tr>\n",
       "    <tr>\n",
       "      <th>10902</th>\n",
       "      <td>Quaker BioVentures</td>\n",
       "      <td>1.0</td>\n",
       "      <td>5.0</td>\n",
       "      <td>6.0</td>\n",
       "      <td>11.0</td>\n",
       "      <td>0.260870</td>\n",
       "      <td>0.043478</td>\n",
       "      <td>0.217391</td>\n",
       "    </tr>\n",
       "    <tr>\n",
       "      <th>9268</th>\n",
       "      <td>Morgan Stanley</td>\n",
       "      <td>5.0</td>\n",
       "      <td>1.0</td>\n",
       "      <td>6.0</td>\n",
       "      <td>12.0</td>\n",
       "      <td>0.250000</td>\n",
       "      <td>0.208333</td>\n",
       "      <td>0.041667</td>\n",
       "    </tr>\n",
       "    <tr>\n",
       "      <th>6300</th>\n",
       "      <td>Innovatech Qu_bec</td>\n",
       "      <td>1.0</td>\n",
       "      <td>1.0</td>\n",
       "      <td>2.0</td>\n",
       "      <td>4.0</td>\n",
       "      <td>0.250000</td>\n",
       "      <td>0.125000</td>\n",
       "      <td>0.125000</td>\n",
       "    </tr>\n",
       "  </tbody>\n",
       "</table>\n",
       "</div>"
      ],
      "text/plain": [
       "status                 investor_name  acquired  closed   ipo  operating  \\\n",
       "3694    Deerfield Capital Management       1.0     1.0   5.0        4.0   \n",
       "6469                Iroquois Capital       2.0     1.0   5.0        5.0   \n",
       "10437                Pegasus Capital       1.0     1.0   2.0        2.0   \n",
       "5449            Great Point Partners       2.0     1.0   3.0        4.0   \n",
       "2888                 Clarus Ventures      10.0     1.0  10.0       13.0   \n",
       "11733                  SAIF Partners       2.0     1.0  10.0       21.0   \n",
       "4495          European Founders Fund       2.0     3.0   5.0        9.0   \n",
       "10902             Quaker BioVentures       1.0     5.0   6.0       11.0   \n",
       "9268                  Morgan Stanley       5.0     1.0   6.0       12.0   \n",
       "6300               Innovatech Qu_bec       1.0     1.0   2.0        4.0   \n",
       "\n",
       "status  proportion_ipo  proportion_acquired  proportion_closed  \n",
       "3694          0.454545             0.090909           0.090909  \n",
       "6469          0.384615             0.153846           0.076923  \n",
       "10437         0.333333             0.166667           0.166667  \n",
       "5449          0.300000             0.200000           0.100000  \n",
       "2888          0.294118             0.294118           0.029412  \n",
       "11733         0.294118             0.058824           0.029412  \n",
       "4495          0.263158             0.105263           0.157895  \n",
       "10902         0.260870             0.043478           0.217391  \n",
       "9268          0.250000             0.208333           0.041667  \n",
       "6300          0.250000             0.125000           0.125000  "
      ]
     },
     "execution_count": 59,
     "metadata": {},
     "output_type": "execute_result"
    }
   ],
   "source": [
    "investor_vs_status.sort_values('proportion_ipo', ascending = False).head(10)"
   ]
  },
  {
   "cell_type": "markdown",
   "metadata": {},
   "source": [
    "Acquired:"
   ]
  },
  {
   "cell_type": "code",
   "execution_count": 60,
   "metadata": {
    "collapsed": false
   },
   "outputs": [
    {
     "data": {
      "text/html": [
       "<div>\n",
       "<style>\n",
       "    .dataframe thead tr:only-child th {\n",
       "        text-align: right;\n",
       "    }\n",
       "\n",
       "    .dataframe thead th {\n",
       "        text-align: left;\n",
       "    }\n",
       "\n",
       "    .dataframe tbody tr th {\n",
       "        vertical-align: top;\n",
       "    }\n",
       "</style>\n",
       "<table border=\"1\" class=\"dataframe\">\n",
       "  <thead>\n",
       "    <tr style=\"text-align: right;\">\n",
       "      <th>status</th>\n",
       "      <th>investor_name</th>\n",
       "      <th>acquired</th>\n",
       "      <th>closed</th>\n",
       "      <th>ipo</th>\n",
       "      <th>operating</th>\n",
       "      <th>proportion_ipo</th>\n",
       "      <th>proportion_acquired</th>\n",
       "      <th>proportion_closed</th>\n",
       "    </tr>\n",
       "  </thead>\n",
       "  <tbody>\n",
       "    <tr>\n",
       "      <th>2051</th>\n",
       "      <td>Brian Pokorny</td>\n",
       "      <td>8.0</td>\n",
       "      <td>1.0</td>\n",
       "      <td>1.0</td>\n",
       "      <td>1.0</td>\n",
       "      <td>0.090909</td>\n",
       "      <td>0.727273</td>\n",
       "      <td>0.090909</td>\n",
       "    </tr>\n",
       "    <tr>\n",
       "      <th>9273</th>\n",
       "      <td>Morgan Stanley Venture Partners</td>\n",
       "      <td>6.0</td>\n",
       "      <td>1.0</td>\n",
       "      <td>1.0</td>\n",
       "      <td>3.0</td>\n",
       "      <td>0.090909</td>\n",
       "      <td>0.545455</td>\n",
       "      <td>0.090909</td>\n",
       "    </tr>\n",
       "    <tr>\n",
       "      <th>13966</th>\n",
       "      <td>UMC Capital</td>\n",
       "      <td>6.0</td>\n",
       "      <td>1.0</td>\n",
       "      <td>1.0</td>\n",
       "      <td>4.0</td>\n",
       "      <td>0.083333</td>\n",
       "      <td>0.500000</td>\n",
       "      <td>0.083333</td>\n",
       "    </tr>\n",
       "    <tr>\n",
       "      <th>12652</th>\n",
       "      <td>Sprout Group</td>\n",
       "      <td>6.0</td>\n",
       "      <td>1.0</td>\n",
       "      <td>1.0</td>\n",
       "      <td>4.0</td>\n",
       "      <td>0.083333</td>\n",
       "      <td>0.500000</td>\n",
       "      <td>0.083333</td>\n",
       "    </tr>\n",
       "    <tr>\n",
       "      <th>2967</th>\n",
       "      <td>Columbia Capital</td>\n",
       "      <td>27.0</td>\n",
       "      <td>3.0</td>\n",
       "      <td>1.0</td>\n",
       "      <td>26.0</td>\n",
       "      <td>0.017544</td>\n",
       "      <td>0.473684</td>\n",
       "      <td>0.052632</td>\n",
       "    </tr>\n",
       "    <tr>\n",
       "      <th>12280</th>\n",
       "      <td>Shea Ventures</td>\n",
       "      <td>9.0</td>\n",
       "      <td>1.0</td>\n",
       "      <td>1.0</td>\n",
       "      <td>8.0</td>\n",
       "      <td>0.052632</td>\n",
       "      <td>0.473684</td>\n",
       "      <td>0.052632</td>\n",
       "    </tr>\n",
       "    <tr>\n",
       "      <th>13558</th>\n",
       "      <td>Three Arch Partners</td>\n",
       "      <td>14.0</td>\n",
       "      <td>3.0</td>\n",
       "      <td>1.0</td>\n",
       "      <td>13.0</td>\n",
       "      <td>0.032258</td>\n",
       "      <td>0.451613</td>\n",
       "      <td>0.096774</td>\n",
       "    </tr>\n",
       "    <tr>\n",
       "      <th>1950</th>\n",
       "      <td>Brad Feld</td>\n",
       "      <td>4.0</td>\n",
       "      <td>1.0</td>\n",
       "      <td>1.0</td>\n",
       "      <td>3.0</td>\n",
       "      <td>0.111111</td>\n",
       "      <td>0.444444</td>\n",
       "      <td>0.111111</td>\n",
       "    </tr>\n",
       "    <tr>\n",
       "      <th>3982</th>\n",
       "      <td>Draper Richards</td>\n",
       "      <td>16.0</td>\n",
       "      <td>2.0</td>\n",
       "      <td>1.0</td>\n",
       "      <td>19.0</td>\n",
       "      <td>0.026316</td>\n",
       "      <td>0.421053</td>\n",
       "      <td>0.052632</td>\n",
       "    </tr>\n",
       "    <tr>\n",
       "      <th>394</th>\n",
       "      <td>Advent Venture Partners</td>\n",
       "      <td>13.0</td>\n",
       "      <td>1.0</td>\n",
       "      <td>1.0</td>\n",
       "      <td>16.0</td>\n",
       "      <td>0.032258</td>\n",
       "      <td>0.419355</td>\n",
       "      <td>0.032258</td>\n",
       "    </tr>\n",
       "  </tbody>\n",
       "</table>\n",
       "</div>"
      ],
      "text/plain": [
       "status                    investor_name  acquired  closed  ipo  operating  \\\n",
       "2051                      Brian Pokorny       8.0     1.0  1.0        1.0   \n",
       "9273    Morgan Stanley Venture Partners       6.0     1.0  1.0        3.0   \n",
       "13966                       UMC Capital       6.0     1.0  1.0        4.0   \n",
       "12652                      Sprout Group       6.0     1.0  1.0        4.0   \n",
       "2967                   Columbia Capital      27.0     3.0  1.0       26.0   \n",
       "12280                     Shea Ventures       9.0     1.0  1.0        8.0   \n",
       "13558               Three Arch Partners      14.0     3.0  1.0       13.0   \n",
       "1950                          Brad Feld       4.0     1.0  1.0        3.0   \n",
       "3982                    Draper Richards      16.0     2.0  1.0       19.0   \n",
       "394             Advent Venture Partners      13.0     1.0  1.0       16.0   \n",
       "\n",
       "status  proportion_ipo  proportion_acquired  proportion_closed  \n",
       "2051          0.090909             0.727273           0.090909  \n",
       "9273          0.090909             0.545455           0.090909  \n",
       "13966         0.083333             0.500000           0.083333  \n",
       "12652         0.083333             0.500000           0.083333  \n",
       "2967          0.017544             0.473684           0.052632  \n",
       "12280         0.052632             0.473684           0.052632  \n",
       "13558         0.032258             0.451613           0.096774  \n",
       "1950          0.111111             0.444444           0.111111  \n",
       "3982          0.026316             0.421053           0.052632  \n",
       "394           0.032258             0.419355           0.032258  "
      ]
     },
     "execution_count": 60,
     "metadata": {},
     "output_type": "execute_result"
    }
   ],
   "source": [
    "investor_vs_status.sort_values('proportion_acquired', ascending = False).head(10)"
   ]
  },
  {
   "cell_type": "markdown",
   "metadata": {},
   "source": [
    "Closed: "
   ]
  },
  {
   "cell_type": "code",
   "execution_count": 61,
   "metadata": {
    "collapsed": false
   },
   "outputs": [
    {
     "data": {
      "text/html": [
       "<div>\n",
       "<style>\n",
       "    .dataframe thead tr:only-child th {\n",
       "        text-align: right;\n",
       "    }\n",
       "\n",
       "    .dataframe thead th {\n",
       "        text-align: left;\n",
       "    }\n",
       "\n",
       "    .dataframe tbody tr th {\n",
       "        vertical-align: top;\n",
       "    }\n",
       "</style>\n",
       "<table border=\"1\" class=\"dataframe\">\n",
       "  <thead>\n",
       "    <tr style=\"text-align: right;\">\n",
       "      <th>status</th>\n",
       "      <th>investor_name</th>\n",
       "      <th>acquired</th>\n",
       "      <th>closed</th>\n",
       "      <th>ipo</th>\n",
       "      <th>operating</th>\n",
       "      <th>proportion_ipo</th>\n",
       "      <th>proportion_acquired</th>\n",
       "      <th>proportion_closed</th>\n",
       "    </tr>\n",
       "  </thead>\n",
       "  <tbody>\n",
       "    <tr>\n",
       "      <th>10926</th>\n",
       "      <td>Quester Capital</td>\n",
       "      <td>1.0</td>\n",
       "      <td>5.0</td>\n",
       "      <td>2.0</td>\n",
       "      <td>6.0</td>\n",
       "      <td>0.142857</td>\n",
       "      <td>0.071429</td>\n",
       "      <td>0.357143</td>\n",
       "    </tr>\n",
       "    <tr>\n",
       "      <th>13814</th>\n",
       "      <td>TransCosmos</td>\n",
       "      <td>1.0</td>\n",
       "      <td>6.0</td>\n",
       "      <td>2.0</td>\n",
       "      <td>10.0</td>\n",
       "      <td>0.105263</td>\n",
       "      <td>0.052632</td>\n",
       "      <td>0.315789</td>\n",
       "    </tr>\n",
       "    <tr>\n",
       "      <th>9375</th>\n",
       "      <td>NGEN Partners</td>\n",
       "      <td>1.0</td>\n",
       "      <td>7.0</td>\n",
       "      <td>1.0</td>\n",
       "      <td>16.0</td>\n",
       "      <td>0.040000</td>\n",
       "      <td>0.040000</td>\n",
       "      <td>0.280000</td>\n",
       "    </tr>\n",
       "    <tr>\n",
       "      <th>942</th>\n",
       "      <td>Anthem Capital Management</td>\n",
       "      <td>1.0</td>\n",
       "      <td>2.0</td>\n",
       "      <td>1.0</td>\n",
       "      <td>4.0</td>\n",
       "      <td>0.125000</td>\n",
       "      <td>0.125000</td>\n",
       "      <td>0.250000</td>\n",
       "    </tr>\n",
       "    <tr>\n",
       "      <th>711</th>\n",
       "      <td>American Capital</td>\n",
       "      <td>1.0</td>\n",
       "      <td>2.0</td>\n",
       "      <td>1.0</td>\n",
       "      <td>4.0</td>\n",
       "      <td>0.125000</td>\n",
       "      <td>0.125000</td>\n",
       "      <td>0.250000</td>\n",
       "    </tr>\n",
       "    <tr>\n",
       "      <th>14811</th>\n",
       "      <td>Yossi Vardi</td>\n",
       "      <td>3.0</td>\n",
       "      <td>3.0</td>\n",
       "      <td>1.0</td>\n",
       "      <td>6.0</td>\n",
       "      <td>0.076923</td>\n",
       "      <td>0.230769</td>\n",
       "      <td>0.230769</td>\n",
       "    </tr>\n",
       "    <tr>\n",
       "      <th>10902</th>\n",
       "      <td>Quaker BioVentures</td>\n",
       "      <td>1.0</td>\n",
       "      <td>5.0</td>\n",
       "      <td>6.0</td>\n",
       "      <td>11.0</td>\n",
       "      <td>0.260870</td>\n",
       "      <td>0.043478</td>\n",
       "      <td>0.217391</td>\n",
       "    </tr>\n",
       "    <tr>\n",
       "      <th>3125</th>\n",
       "      <td>Covera Ventures</td>\n",
       "      <td>8.0</td>\n",
       "      <td>4.0</td>\n",
       "      <td>1.0</td>\n",
       "      <td>7.0</td>\n",
       "      <td>0.050000</td>\n",
       "      <td>0.400000</td>\n",
       "      <td>0.200000</td>\n",
       "    </tr>\n",
       "    <tr>\n",
       "      <th>7906</th>\n",
       "      <td>Latterell Venture Partners</td>\n",
       "      <td>1.0</td>\n",
       "      <td>3.0</td>\n",
       "      <td>2.0</td>\n",
       "      <td>9.0</td>\n",
       "      <td>0.133333</td>\n",
       "      <td>0.066667</td>\n",
       "      <td>0.200000</td>\n",
       "    </tr>\n",
       "    <tr>\n",
       "      <th>9169</th>\n",
       "      <td>Mission Ventures</td>\n",
       "      <td>10.0</td>\n",
       "      <td>9.0</td>\n",
       "      <td>3.0</td>\n",
       "      <td>23.0</td>\n",
       "      <td>0.066667</td>\n",
       "      <td>0.222222</td>\n",
       "      <td>0.200000</td>\n",
       "    </tr>\n",
       "  </tbody>\n",
       "</table>\n",
       "</div>"
      ],
      "text/plain": [
       "status               investor_name  acquired  closed  ipo  operating  \\\n",
       "10926              Quester Capital       1.0     5.0  2.0        6.0   \n",
       "13814                  TransCosmos       1.0     6.0  2.0       10.0   \n",
       "9375                 NGEN Partners       1.0     7.0  1.0       16.0   \n",
       "942      Anthem Capital Management       1.0     2.0  1.0        4.0   \n",
       "711               American Capital       1.0     2.0  1.0        4.0   \n",
       "14811                  Yossi Vardi       3.0     3.0  1.0        6.0   \n",
       "10902           Quaker BioVentures       1.0     5.0  6.0       11.0   \n",
       "3125               Covera Ventures       8.0     4.0  1.0        7.0   \n",
       "7906    Latterell Venture Partners       1.0     3.0  2.0        9.0   \n",
       "9169              Mission Ventures      10.0     9.0  3.0       23.0   \n",
       "\n",
       "status  proportion_ipo  proportion_acquired  proportion_closed  \n",
       "10926         0.142857             0.071429           0.357143  \n",
       "13814         0.105263             0.052632           0.315789  \n",
       "9375          0.040000             0.040000           0.280000  \n",
       "942           0.125000             0.125000           0.250000  \n",
       "711           0.125000             0.125000           0.250000  \n",
       "14811         0.076923             0.230769           0.230769  \n",
       "10902         0.260870             0.043478           0.217391  \n",
       "3125          0.050000             0.400000           0.200000  \n",
       "7906          0.133333             0.066667           0.200000  \n",
       "9169          0.066667             0.222222           0.200000  "
      ]
     },
     "execution_count": 61,
     "metadata": {},
     "output_type": "execute_result"
    }
   ],
   "source": [
    "investor_vs_status.sort_values('proportion_closed', ascending = False).head(10)"
   ]
  },
  {
   "cell_type": "markdown",
   "metadata": {
    "collapsed": true
   },
   "source": [
    "My hypothesis is that the choice of an investor (which can be a proxy for the quality of the start-up or its management in some cases) does influence the success or failure of start-ups, along with the level and timing of funding. The data story does point out some differences in these factors for closed and acquired/listed companies. So in the capstone project I will attempt to predict the success of a start-up using all of these factors from these two datasets. There is one more dataset, acquisitions.csv, which is not as essential to the present analysis and which I won't explore today, but which might add further variables to our prediction model in the future."
   ]
  },
  {
   "cell_type": "markdown",
   "metadata": {
    "collapsed": true
   },
   "source": [
    "### Inferential statistics\n",
    "#### Testing the difference in means for average funding rounds between successful and unsuccessful companies"
   ]
  },
  {
   "cell_type": "markdown",
   "metadata": {
    "collapsed": true
   },
   "source": [
    "Now that we have a sense for the data and the dataset has more or less been cleaned up, it's time to test a few of our hypotheses.<br></br><br></br>The first hypothesis that we will test is whether there is a significant difference in the average funding round size for start-ups that were acquired and start-ups that closed and, similarly, between start-ups that got listed and start-ups that had to shut down."
   ]
  },
  {
   "cell_type": "markdown",
   "metadata": {},
   "source": [
    "To implement that, first we will create a column within the companies dataset for the average funding round size, by dividing total funding received by the total number of funding rounds."
   ]
  },
  {
   "cell_type": "code",
   "execution_count": 62,
   "metadata": {
    "collapsed": false
   },
   "outputs": [],
   "source": [
    "companies['average_funding_round'] = companies['funding_total_usd']/companies['funding_rounds']"
   ]
  },
  {
   "cell_type": "markdown",
   "metadata": {},
   "source": [
    "Then we have to separate average funding rounds for companies that closed from average funding rounds for companies that got acquired and for companies that got listed. We can also analyze the average number of funding rounds undergone by each type of start-up."
   ]
  },
  {
   "cell_type": "code",
   "execution_count": 63,
   "metadata": {
    "collapsed": true
   },
   "outputs": [],
   "source": [
    "avg_funding_round_acquired = companies[companies.status == 'acquired'].average_funding_round.dropna()\n",
    "avg_funding_round_closed = companies[companies.status == 'closed'].average_funding_round.dropna()\n",
    "avg_funding_round_ipo = companies[companies.status == 'ipo'].average_funding_round.dropna()"
   ]
  },
  {
   "cell_type": "code",
   "execution_count": 64,
   "metadata": {
    "collapsed": false
   },
   "outputs": [],
   "source": [
    "num_of_funding_rounds = {'ipo': np.mean(companies[companies.status == 'ipo'].funding_rounds),\n",
    "                        'acquired': np.mean(companies[companies.status == 'acquired'].funding_rounds),\n",
    "                        'closed': np.mean(companies[companies.status == 'closed'].funding_rounds)}"
   ]
  },
  {
   "cell_type": "code",
   "execution_count": 65,
   "metadata": {
    "collapsed": false
   },
   "outputs": [
    {
     "data": {
      "text/plain": [
       "{'acquired': 1.9338235294117647,\n",
       " 'closed': 1.3980492336274966,\n",
       " 'ipo': 2.557894736842105}"
      ]
     },
     "execution_count": 65,
     "metadata": {},
     "output_type": "execute_result"
    }
   ],
   "source": [
    "num_of_funding_rounds"
   ]
  },
  {
   "cell_type": "markdown",
   "metadata": {},
   "source": [
    "Let's visualize the three average funding series in a boxplot."
   ]
  },
  {
   "cell_type": "code",
   "execution_count": 66,
   "metadata": {
    "collapsed": false
   },
   "outputs": [],
   "source": [
    "df_avg_funding_round = pd.DataFrame({'ipo': avg_funding_round_ipo, 'acquired': avg_funding_round_acquired, 'closed': avg_funding_round_closed})"
   ]
  },
  {
   "cell_type": "code",
   "execution_count": 67,
   "metadata": {
    "collapsed": false,
    "scrolled": true
   },
   "outputs": [
    {
     "data": {
      "image/png": "[encoded data removed]",
      "text/plain": [
       "<matplotlib.figure.Figure at 0x20368ffa438>"
      ]
     },
     "metadata": {},
     "output_type": "display_data"
    }
   ],
   "source": [
    "fig, ax = plt.subplots()\n",
    "ax = sb.boxplot(data = df_avg_funding_round, orient = 'h', order = ['ipo', 'acquired', 'closed'], palette = 'Oranges_d')\n",
    "ax.set_xlim(left = 0, right = 40000000)\n",
    "ax.set_title('Average funding per round: acquired, closed and listed start-ups')\n",
    "ax.set_xlabel('Average funding amount per round')\n",
    "plt.savefig('Average funding.png', bbox_inches='tight')"
   ]
  },
  {
   "cell_type": "markdown",
   "metadata": {},
   "source": [
    "To be able to test any hypothesis, we need to ascertain that some underlying assumptions are satisfied. First, we need to figure out if the sample is large enough. If so, to be able to assume that the sampling distribution of the sample proportion is approximately normal (based on the CLT theorem), we need to assure to the best of our ability that the data was sampled randomly and that each observation was sampled independently from the other observations. The main assumption that I will make with this dataset is that Crunchbase data is comprehensive, i.e. we are actually dealing with the entire population of start-ups at the given moment. We also probably don't have to worry about the independence of observations, given that, supposedly, funding rounds within one company should not influence the size of a funding round in another company."
   ]
  },
  {
   "cell_type": "markdown",
   "metadata": {},
   "source": [
    "However, to visualize the average funding distribution, let's plot the distribution of the average funding rounds."
   ]
  },
  {
   "cell_type": "code",
   "execution_count": 68,
   "metadata": {
    "collapsed": false
   },
   "outputs": [
    {
     "data": {
      "text/plain": [
       "<matplotlib.text.Text at 0x20368c27b70>"
      ]
     },
     "execution_count": 68,
     "metadata": {},
     "output_type": "execute_result"
    },
    {
     "data": {
      "image/png": "[encoded data removed]",
      "text/plain": [
       "<matplotlib.figure.Figure at 0x20368be7a58>"
      ]
     },
     "metadata": {},
     "output_type": "display_data"
    }
   ],
   "source": [
    "fig, ax = plt.subplots()\n",
    "\n",
    "nbins = 100\n",
    "xmin = 0\n",
    "xmax = 20000000\n",
    "\n",
    "ax = plt.hist(avg_funding_round_acquired, bins = nbins, range = [xmin, xmax])\n",
    "plt.xlabel(\"Average funding round\")\n",
    "plt.ylabel(\"Distribution\")\n",
    "plt.title(\"Average funding round distribution\")"
   ]
  },
  {
   "cell_type": "code",
   "execution_count": 69,
   "metadata": {
    "collapsed": false
   },
   "outputs": [
    {
     "name": "stdout",
     "output_type": "stream",
     "text": [
      "Mean of the average funding round for acquired companies is: 10566621.570428\n",
      "Standard deviation of the average funding round for acquired companies is: 37678829.603529\n"
     ]
    }
   ],
   "source": [
    "print('Mean of the average funding round for acquired companies is: {:2f}'.format(np.mean(avg_funding_round_acquired)))\n",
    "print('Standard deviation of the average funding round for acquired companies is: {:2f}'.format(np.std(avg_funding_round_acquired)))"
   ]
  },
  {
   "cell_type": "markdown",
   "metadata": {},
   "source": [
    "On average, each funding round for acquired companies was around USD 10.6m, with a standard deviation of USD 37.7m"
   ]
  },
  {
   "cell_type": "markdown",
   "metadata": {},
   "source": [
    "What about listed companies?"
   ]
  },
  {
   "cell_type": "code",
   "execution_count": 70,
   "metadata": {
    "collapsed": false
   },
   "outputs": [
    {
     "name": "stdout",
     "output_type": "stream",
     "text": [
      "Mean of the average funding round for acquired companies is: 45705770.382869\n",
      "Standard deviation of the average funding round for acquired companies is: 124327935.569257\n"
     ]
    }
   ],
   "source": [
    "print('Mean of the average funding round for acquired companies is: {:2f}'.format(np.mean(avg_funding_round_ipo)))\n",
    "print('Standard deviation of the average funding round for acquired companies is: {:2f}'.format(np.std(avg_funding_round_ipo)))"
   ]
  },
  {
   "cell_type": "markdown",
   "metadata": {},
   "source": [
    "Listed companies seem to receive even more money per funding round, USD 45.7m. So what about closed companies?"
   ]
  },
  {
   "cell_type": "code",
   "execution_count": 71,
   "metadata": {
    "collapsed": false
   },
   "outputs": [
    {
     "name": "stdout",
     "output_type": "stream",
     "text": [
      "Mean of the average funding round for acquired companies is: 4270461.191927\n",
      "Standard deviation of the average funding round for acquired companies is: 11203593.007527\n"
     ]
    }
   ],
   "source": [
    "print('Mean of the average funding round for acquired companies is: {:2f}'.format(np.mean(avg_funding_round_closed)))\n",
    "print('Standard deviation of the average funding round for acquired companies is: {:2f}'.format(np.std(avg_funding_round_closed)))"
   ]
  },
  {
   "cell_type": "markdown",
   "metadata": {},
   "source": [
    "The average funding round seems to be much lower in this case. But is it significantly lower?"
   ]
  },
  {
   "cell_type": "markdown",
   "metadata": {},
   "source": [
    "Before we test it, let's see how big our sample sizes are for each of the company types:"
   ]
  },
  {
   "cell_type": "code",
   "execution_count": 72,
   "metadata": {
    "collapsed": false
   },
   "outputs": [
    {
     "name": "stdout",
     "output_type": "stream",
     "text": [
      "The sample size for closed companies is 1807.000000\n",
      "The sample size for acquired companies is 1964.000000\n",
      "The sample size for listed companies is 453.000000\n"
     ]
    }
   ],
   "source": [
    "print('The sample size for closed companies is {:2f}'.format(len(avg_funding_round_closed)))\n",
    "print('The sample size for acquired companies is {:2f}'.format(len(avg_funding_round_acquired)))\n",
    "print('The sample size for listed companies is {:2f}'.format(len(avg_funding_round_ipo)))"
   ]
  },
  {
   "cell_type": "markdown",
   "metadata": {},
   "source": [
    "The samples sizes are sufficiently large, which should allow us to rely on the CLT theorem to assume that the sampling distribtion of the sample mean is approximately normally distributed."
   ]
  },
  {
   "cell_type": "markdown",
   "metadata": {},
   "source": [
    "We are ready to test the difference in means then. "
   ]
  },
  {
   "cell_type": "markdown",
   "metadata": {},
   "source": [
    "Ho: difference in an average funding round for acquired and closed companies = 0<br></br>\n",
    "Ha: difference in an average funding round for aqcuired and closed companies is greater than or less than 0"
   ]
  },
  {
   "cell_type": "code",
   "execution_count": 73,
   "metadata": {
    "collapsed": false
   },
   "outputs": [
    {
     "data": {
      "text/plain": [
       "Ttest_indResult(statistic=6.8290439255951414, pvalue=9.9234542036418469e-12)"
      ]
     },
     "execution_count": 73,
     "metadata": {},
     "output_type": "execute_result"
    }
   ],
   "source": [
    "import scipy.stats as stats\n",
    "stats.ttest_ind(avg_funding_round_acquired, avg_funding_round_closed)"
   ]
  },
  {
   "cell_type": "markdown",
   "metadata": {},
   "source": [
    "With a such a small p-value, we can reject the null hypothesis at the lowest, 1% significance level. This analysis seems to suggest that, on average, companies that will eventually close down receive less money from investors in each funding round, which is especially interesting given that the two sample sizes were approximately the same to begin with."
   ]
  },
  {
   "cell_type": "markdown",
   "metadata": {},
   "source": [
    "Now for comparison purposes let's test whether there is a significant diffence in the average size of funding rounds for listed and acquired companies. "
   ]
  },
  {
   "cell_type": "code",
   "execution_count": 74,
   "metadata": {
    "collapsed": false
   },
   "outputs": [
    {
     "data": {
      "text/plain": [
       "Ttest_indResult(statistic=-10.588365809502781, pvalue=1.2195277964942263e-25)"
      ]
     },
     "execution_count": 74,
     "metadata": {},
     "output_type": "execute_result"
    }
   ],
   "source": [
    "stats.ttest_ind(avg_funding_round_acquired, avg_funding_round_ipo)"
   ]
  },
  {
   "cell_type": "markdown",
   "metadata": {},
   "source": [
    "In this case, the p-value is even smaller, which seems to imply that even for acquired and listed companies (i.e. the successful companies in our analysis) the difference in the average funding round size is significant. <br></br><br></br>At the same time, it is also important to understand the limitations of hypothesis testing, so, while it's an interesting result, it should only be used as an additional factor to consider as opposed to concrete evidence that the two types of start-ups are inherently different."
   ]
  },
  {
   "cell_type": "markdown",
   "metadata": {},
   "source": [
    "##### Looking only at successful vs. unsuccessful companies"
   ]
  },
  {
   "cell_type": "markdown",
   "metadata": {},
   "source": [
    "Before we begin the modelling part, let's go back to the thesis of this project: we are looking to learn if we can predict company's success or failure through our available features. Of course, the biggest challenge of the project is the time component: at what point in company's development are we interested in such a prediction, i.e. at the point when a company is just founded, or when it got its first funding round, or when it received its last funding round? The problem is that the earlier we know the better, but, at the same time, we don't have enough information at that point to make a determination. Most of our available information is at Series A funding round. However, some of our features will be focused on the big-picture, such the total funding received."
   ]
  },
  {
   "cell_type": "markdown",
   "metadata": {},
   "source": [
    "Because we are only interested in successful vs. unsuccessful companies, we don't particularly care about companies that are still operating, so we will remove those from our dataframe."
   ]
  },
  {
   "cell_type": "code",
   "execution_count": 75,
   "metadata": {
    "collapsed": false
   },
   "outputs": [],
   "source": [
    "companies_of_interest = companies_investments[companies_investments.status != 'operating']"
   ]
  },
  {
   "cell_type": "markdown",
   "metadata": {},
   "source": [
    "### Clustering"
   ]
  },
  {
   "cell_type": "markdown",
   "metadata": {},
   "source": [
    "Prior to model selection, we will do some clustering, to learn more about our data and to reduce dimensionality.<br></br><br></br>To accomplish that, let's create a pivot table from the merged companies + investments dataframe to generate one table of companies as rows vs. investors as columns. Each cell in the table will represent the number of funding rounds that a specific investor participated in for a given company. <br></br> <br></br>But to begin with, we will add an extra column of 1's to our dataframe companies_of_interest -- this will become our tally."
   ]
  },
  {
   "cell_type": "code",
   "execution_count": 76,
   "metadata": {
    "collapsed": false
   },
   "outputs": [
    {
     "name": "stderr",
     "output_type": "stream",
     "text": [
      "C:\\Users\\Lana\\Anaconda3\\lib\\site-packages\\ipykernel\\__main__.py:1: SettingWithCopyWarning: \n",
      "A value is trying to be set on a copy of a slice from a DataFrame.\n",
      "Try using .loc[row_indexer,col_indexer] = value instead\n",
      "\n",
      "See the caveats in the documentation: http://pandas.pydata.org/pandas-docs/stable/indexing.html#indexing-view-versus-copy\n",
      "  if __name__ == '__main__':\n"
     ]
    }
   ],
   "source": [
    "companies_of_interest['n']= 1\n",
    "companies_pivoted = pd.pivot_table(companies_of_interest, values = \n",
    "                                         'n', index = 'permalink', columns = 'investor_name', aggfunc = np.count_nonzero, fill_value = 0)"
   ]
  },
  {
   "cell_type": "markdown",
   "metadata": {},
   "source": [
    "Let's double check that our code has worked. We will use Y Combinator as an example. "
   ]
  },
  {
   "cell_type": "code",
   "execution_count": 77,
   "metadata": {
    "collapsed": false
   },
   "outputs": [
    {
     "name": "stdout",
     "output_type": "stream",
     "text": [
      "Total number of funding rounds for Y Combinator: 102.000000\n"
     ]
    }
   ],
   "source": [
    "print('Total number of funding rounds for Y Combinator: {:2f}'.format(companies_of_interest[companies_of_interest.investor_name == 'Y Combinator'].permalink.count()))"
   ]
  },
  {
   "cell_type": "markdown",
   "metadata": {},
   "source": [
    "Based on this we know that there should be 102 funding rounds combined for Y Combinator. Let's check what we have for the pivoted table."
   ]
  },
  {
   "cell_type": "code",
   "execution_count": 78,
   "metadata": {
    "collapsed": false
   },
   "outputs": [
    {
     "name": "stdout",
     "output_type": "stream",
     "text": [
      "102\n"
     ]
    }
   ],
   "source": [
    "sum = 0 \n",
    "for x in range (1,10):\n",
    "    sum = sum + x * np.sum(companies_pivoted['Y Combinator'] == x)\n",
    "    \n",
    "print(sum)"
   ]
  },
  {
   "cell_type": "markdown",
   "metadata": {
    "collapsed": true
   },
   "source": [
    "This quick check shows us that our transformation is working, we are indeed getting a table where the number for each row vs. column is either the total number of funding rounds that the investor participated in for this company or 0 if the investor wasn't involved with the company at all."
   ]
  },
  {
   "cell_type": "markdown",
   "metadata": {
    "collapsed": true
   },
   "source": [
    "The best way to visualize our clustering will be through PCA. Reducing the dimensionality with PCA should also help us when we try different models on the data. In our current companies vs. investors dataframe we have more than 3500 rows and close to 4500 columns to process. If we can reduce the number of features, it will save us time and processing power later as well. "
   ]
  },
  {
   "cell_type": "markdown",
   "metadata": {},
   "source": [
    "So first, let's create a matrix out of our dataframe for clustering purposes:"
   ]
  },
  {
   "cell_type": "code",
   "execution_count": 79,
   "metadata": {
    "collapsed": false
   },
   "outputs": [],
   "source": [
    "x_cols = np.matrix(companies_pivoted)"
   ]
  },
  {
   "cell_type": "markdown",
   "metadata": {},
   "source": [
    "We will now quickly visualize our matrix through PCA (looking at just the first two components during the visualization process)."
   ]
  },
  {
   "cell_type": "code",
   "execution_count": 80,
   "metadata": {
    "collapsed": true
   },
   "outputs": [],
   "source": [
    "import sklearn\n",
    "from sklearn.decomposition import PCA\n",
    "clusterer = PCA(n_components = 20)"
   ]
  },
  {
   "cell_type": "code",
   "execution_count": 81,
   "metadata": {
    "collapsed": false
   },
   "outputs": [],
   "source": [
    "X_new = clusterer.fit_transform(x_cols)"
   ]
  },
  {
   "cell_type": "markdown",
   "metadata": {},
   "source": [
    "We'll also create a cluster ID column that will come in handy later as we try different clustering models. As mentioned before, we will first visualize our data with just the first two components  -- it's more interpretable that way."
   ]
  },
  {
   "cell_type": "code",
   "execution_count": 82,
   "metadata": {
    "collapsed": false,
    "scrolled": true
   },
   "outputs": [],
   "source": [
    "companies_name = companies_of_interest.permalink.unique()"
   ]
  },
  {
   "cell_type": "code",
   "execution_count": 83,
   "metadata": {
    "collapsed": false
   },
   "outputs": [
    {
     "data": {
      "text/html": [
       "<div>\n",
       "<style>\n",
       "    .dataframe thead tr:only-child th {\n",
       "        text-align: right;\n",
       "    }\n",
       "\n",
       "    .dataframe thead th {\n",
       "        text-align: left;\n",
       "    }\n",
       "\n",
       "    .dataframe tbody tr th {\n",
       "        vertical-align: top;\n",
       "    }\n",
       "</style>\n",
       "<table border=\"1\" class=\"dataframe\">\n",
       "  <thead>\n",
       "    <tr style=\"text-align: right;\">\n",
       "      <th></th>\n",
       "      <th>X</th>\n",
       "      <th>Y</th>\n",
       "      <th>cluster ID</th>\n",
       "      <th>company_name</th>\n",
       "    </tr>\n",
       "  </thead>\n",
       "  <tbody>\n",
       "    <tr>\n",
       "      <th>0</th>\n",
       "      <td>0.08302</td>\n",
       "      <td>-0.149058</td>\n",
       "      <td>1</td>\n",
       "      <td>/company/fox-networks</td>\n",
       "    </tr>\n",
       "    <tr>\n",
       "      <th>1</th>\n",
       "      <td>0.02042</td>\n",
       "      <td>-0.075379</td>\n",
       "      <td>1</td>\n",
       "      <td>/company/waywire</td>\n",
       "    </tr>\n",
       "  </tbody>\n",
       "</table>\n",
       "</div>"
      ],
      "text/plain": [
       "         X         Y  cluster ID           company_name\n",
       "0  0.08302 -0.149058           1  /company/fox-networks\n",
       "1  0.02042 -0.075379           1       /company/waywire"
      ]
     },
     "execution_count": 83,
     "metadata": {},
     "output_type": "execute_result"
    }
   ],
   "source": [
    "df_PCA = pd.DataFrame({'company_name': companies_name,'X': X_new[:,0], 'Y': X_new[:,1], 'cluster ID': 1})\n",
    "df_PCA.head(2)"
   ]
  },
  {
   "cell_type": "code",
   "execution_count": 84,
   "metadata": {
    "collapsed": false
   },
   "outputs": [
    {
     "data": {
      "text/plain": [
       "<matplotlib.text.Text at 0x2030f51a2b0>"
      ]
     },
     "execution_count": 84,
     "metadata": {},
     "output_type": "execute_result"
    },
    {
     "data": {
      "image/png": "[encoded data removed]",
      "text/plain": [
       "<matplotlib.figure.Figure at 0x2030f4ef588>"
      ]
     },
     "metadata": {},
     "output_type": "display_data"
    }
   ],
   "source": [
    "fig, ax = plt.subplots()\n",
    "\n",
    "ax.scatter(df_PCA.X, df_PCA.Y, alpha=0.5)\n",
    "plt.xlabel(\"X component\")\n",
    "plt.ylabel(\"Y component\")\n",
    "plt.title(\"Clustering with PCA\")"
   ]
  },
  {
   "cell_type": "markdown",
   "metadata": {
    "collapsed": true
   },
   "source": [
    "The scatter plot has an interesting V shape, which is hard to interpret at the moment, but which might point to a substantial skew in the data, which means that it might be wise to log-transform our data first. "
   ]
  },
  {
   "cell_type": "code",
   "execution_count": 85,
   "metadata": {
    "collapsed": false
   },
   "outputs": [],
   "source": [
    "x_cols = np.log(x_cols + 1)"
   ]
  },
  {
   "cell_type": "code",
   "execution_count": 86,
   "metadata": {
    "collapsed": false
   },
   "outputs": [],
   "source": [
    "X_new = clusterer.fit_transform(x_cols)"
   ]
  },
  {
   "cell_type": "code",
   "execution_count": 87,
   "metadata": {
    "collapsed": false
   },
   "outputs": [
    {
     "data": {
      "text/html": [
       "<div>\n",
       "<style>\n",
       "    .dataframe thead tr:only-child th {\n",
       "        text-align: right;\n",
       "    }\n",
       "\n",
       "    .dataframe thead th {\n",
       "        text-align: left;\n",
       "    }\n",
       "\n",
       "    .dataframe tbody tr th {\n",
       "        vertical-align: top;\n",
       "    }\n",
       "</style>\n",
       "<table border=\"1\" class=\"dataframe\">\n",
       "  <thead>\n",
       "    <tr style=\"text-align: right;\">\n",
       "      <th></th>\n",
       "      <th>X</th>\n",
       "      <th>Y</th>\n",
       "      <th>cluster ID</th>\n",
       "      <th>company_name</th>\n",
       "    </tr>\n",
       "  </thead>\n",
       "  <tbody>\n",
       "    <tr>\n",
       "      <th>0</th>\n",
       "      <td>0.242166</td>\n",
       "      <td>-0.386255</td>\n",
       "      <td>1</td>\n",
       "      <td>/company/fox-networks</td>\n",
       "    </tr>\n",
       "    <tr>\n",
       "      <th>1</th>\n",
       "      <td>0.084675</td>\n",
       "      <td>-0.094903</td>\n",
       "      <td>1</td>\n",
       "      <td>/company/waywire</td>\n",
       "    </tr>\n",
       "  </tbody>\n",
       "</table>\n",
       "</div>"
      ],
      "text/plain": [
       "          X         Y  cluster ID           company_name\n",
       "0  0.242166 -0.386255           1  /company/fox-networks\n",
       "1  0.084675 -0.094903           1       /company/waywire"
      ]
     },
     "execution_count": 87,
     "metadata": {},
     "output_type": "execute_result"
    }
   ],
   "source": [
    "df_PCA = pd.DataFrame({'company_name': companies_name,'X': X_new[:,0], 'Y': X_new[:,1], 'cluster ID': 1})\n",
    "df_PCA.head(2)"
   ]
  },
  {
   "cell_type": "code",
   "execution_count": 88,
   "metadata": {
    "collapsed": false,
    "scrolled": false
   },
   "outputs": [
    {
     "data": {
      "text/plain": [
       "<matplotlib.text.Text at 0x2030ff82eb8>"
      ]
     },
     "execution_count": 88,
     "metadata": {},
     "output_type": "execute_result"
    },
    {
     "data": {
      "image/png": "[encoded data removed]",
      "text/plain": [
       "<matplotlib.figure.Figure at 0x2030f4e0e80>"
      ]
     },
     "metadata": {},
     "output_type": "display_data"
    }
   ],
   "source": [
    "fig, ax = plt.subplots()\n",
    "\n",
    "ax.scatter(df_PCA.X, df_PCA.Y, alpha=0.5)\n",
    "plt.xlabel(\"X component\")\n",
    "plt.ylabel(\"Y component\")\n",
    "plt.title(\"Clustering with PCA\")"
   ]
  },
  {
   "cell_type": "markdown",
   "metadata": {},
   "source": [
    "I am curious to know what the cumulative explained variance for our model is."
   ]
  },
  {
   "cell_type": "code",
   "execution_count": 89,
   "metadata": {
    "collapsed": false,
    "scrolled": false
   },
   "outputs": [
    {
     "name": "stdout",
     "output_type": "stream",
     "text": [
      "Cumulative explained variance for the PCA model with 20 components is: 0.142194\n"
     ]
    }
   ],
   "source": [
    "print('Cumulative explained variance for the PCA model with 20 components is: {:2f}'.format(np.cumsum(clusterer.explained_variance_ratio_)[19]))"
   ]
  },
  {
   "cell_type": "markdown",
   "metadata": {},
   "source": [
    "The 14.2% explained total variance is not very high, so let's try different number of components to see how we can improve the PCA."
   ]
  },
  {
   "cell_type": "code",
   "execution_count": 90,
   "metadata": {
    "collapsed": false
   },
   "outputs": [],
   "source": [
    "range_values = [500,750, 1000, 1250, 1500]\n",
    "i = 2\n",
    "best_var = 0 \n",
    "array_var = []\n",
    "for i in range_values:\n",
    "    clusterer = PCA(n_components = i)\n",
    "    X_new = clusterer.fit_transform(x_cols)\n",
    "    exp_var = np.cumsum(clusterer.explained_variance_ratio_)[i-1]\n",
    "    array_var.append(exp_var)"
   ]
  },
  {
   "cell_type": "code",
   "execution_count": 91,
   "metadata": {
    "collapsed": false,
    "scrolled": true
   },
   "outputs": [
    {
     "data": {
      "text/plain": [
       "<matplotlib.text.Text at 0x2030796ecf8>"
      ]
     },
     "execution_count": 91,
     "metadata": {},
     "output_type": "execute_result"
    },
    {
     "data": {
      "image/png": "[encoded data removed]",
      "text/plain": [
       "<matplotlib.figure.Figure at 0x2030ff631d0>"
      ]
     },
     "metadata": {},
     "output_type": "display_data"
    }
   ],
   "source": [
    "fig, ax = plt.subplots()\n",
    "\n",
    "ax.plot(range_values, array_var)\n",
    "plt.xlabel(\"Number of components\")\n",
    "plt.ylabel(\"Explained variance\")\n",
    "plt.title(\"Num of components vs. explained variance\")"
   ]
  },
  {
   "cell_type": "markdown",
   "metadata": {},
   "source": [
    "Since we are looking to capture at least 70%-80% of the variance, ~600 components should be good for our analysis. In this case, we will be capturing the following percentage of the total variance:"
   ]
  },
  {
   "cell_type": "code",
   "execution_count": 92,
   "metadata": {
    "collapsed": false
   },
   "outputs": [
    {
     "data": {
      "text/plain": [
       "0.76613871952042745"
      ]
     },
     "execution_count": 92,
     "metadata": {},
     "output_type": "execute_result"
    }
   ],
   "source": [
    "clusterer = PCA(n_components = 600)\n",
    "X_new = clusterer.fit_transform(x_cols)\n",
    "exp_var = np.cumsum(clusterer.explained_variance_ratio_)[599]\n",
    "exp_var"
   ]
  },
  {
   "cell_type": "markdown",
   "metadata": {},
   "source": [
    "Having reduced the dimensions to 600 columns, we can now apply kmeans clustering."
   ]
  },
  {
   "cell_type": "markdown",
   "metadata": {},
   "source": [
    "But first, we need to find the optimal number of clusters for our data, which we will do based on the silhouette score. We will try 2-7 clusters for our analysis."
   ]
  },
  {
   "cell_type": "code",
   "execution_count": 93,
   "metadata": {
    "collapsed": true
   },
   "outputs": [],
   "source": [
    "from sklearn.cluster import KMeans\n",
    "from sklearn.metrics import silhouette_score"
   ]
  },
  {
   "cell_type": "code",
   "execution_count": 94,
   "metadata": {
    "collapsed": false
   },
   "outputs": [],
   "source": [
    "range_values = [2,3,4,5,6,7]\n",
    "i = 2\n",
    "best_sil_score = 0 \n",
    "for i in range_values:\n",
    "    clusterer_kmeans = KMeans(n_clusters = i, random_state = 10)\n",
    "    x_kmeans = clusterer_kmeans.fit_transform(X_new)\n",
    "    predicted_labels = clusterer_kmeans.predict(X_new)\n",
    "    sil_score = silhouette_score(X_new, predicted_labels)\n",
    "    if i == 3:\n",
    "        sil_score_3 = sil_score\n",
    "    if sil_score > best_sil_score:\n",
    "        best_sil_score = sil_score\n",
    "        best_num_clusters = i"
   ]
  },
  {
   "cell_type": "code",
   "execution_count": 95,
   "metadata": {
    "collapsed": false,
    "scrolled": true
   },
   "outputs": [
    {
     "name": "stdout",
     "output_type": "stream",
     "text": [
      "The optimal number of clusters is 3.000000\n",
      "The corresponding silhouette score is 0.299024\n"
     ]
    }
   ],
   "source": [
    "print('The optimal number of clusters is {:2f}'.format(best_num_clusters))\n",
    "print('The corresponding silhouette score is {:2f}'.format(best_sil_score))"
   ]
  },
  {
   "cell_type": "markdown",
   "metadata": {},
   "source": [
    "Thanks to reduced dimensions, our kmeans clustering analysis ran much quicker. Doing it without PCA first would have required much more time."
   ]
  },
  {
   "cell_type": "markdown",
   "metadata": {},
   "source": [
    "Now we know that the optimal number of clusters is 3. Let's explore and visualize those clusters."
   ]
  },
  {
   "cell_type": "code",
   "execution_count": 96,
   "metadata": {
    "collapsed": false
   },
   "outputs": [],
   "source": [
    "clusterer_kmeans = KMeans(n_clusters = 3)\n",
    "x_kmeans = clusterer_kmeans.fit_transform(X_new)\n",
    "array_labels = clusterer_kmeans.labels_"
   ]
  },
  {
   "cell_type": "code",
   "execution_count": 97,
   "metadata": {
    "collapsed": false
   },
   "outputs": [
    {
     "data": {
      "text/plain": [
       "3527"
      ]
     },
     "execution_count": 97,
     "metadata": {},
     "output_type": "execute_result"
    }
   ],
   "source": [
    "len(array_labels)"
   ]
  },
  {
   "cell_type": "code",
   "execution_count": 98,
   "metadata": {
    "collapsed": false,
    "scrolled": true
   },
   "outputs": [
    {
     "data": {
      "text/html": [
       "<div>\n",
       "<style>\n",
       "    .dataframe thead tr:only-child th {\n",
       "        text-align: right;\n",
       "    }\n",
       "\n",
       "    .dataframe thead th {\n",
       "        text-align: left;\n",
       "    }\n",
       "\n",
       "    .dataframe tbody tr th {\n",
       "        vertical-align: top;\n",
       "    }\n",
       "</style>\n",
       "<table border=\"1\" class=\"dataframe\">\n",
       "  <thead>\n",
       "    <tr style=\"text-align: right;\">\n",
       "      <th></th>\n",
       "      <th>X</th>\n",
       "      <th>Y</th>\n",
       "      <th>cluster ID</th>\n",
       "      <th>company_name</th>\n",
       "    </tr>\n",
       "  </thead>\n",
       "  <tbody>\n",
       "    <tr>\n",
       "      <th>0</th>\n",
       "      <td>0.242174</td>\n",
       "      <td>-0.386262</td>\n",
       "      <td>0</td>\n",
       "      <td>/company/fox-networks</td>\n",
       "    </tr>\n",
       "    <tr>\n",
       "      <th>1</th>\n",
       "      <td>0.084674</td>\n",
       "      <td>-0.094929</td>\n",
       "      <td>0</td>\n",
       "      <td>/company/waywire</td>\n",
       "    </tr>\n",
       "  </tbody>\n",
       "</table>\n",
       "</div>"
      ],
      "text/plain": [
       "          X         Y  cluster ID           company_name\n",
       "0  0.242174 -0.386262           0  /company/fox-networks\n",
       "1  0.084674 -0.094929           0       /company/waywire"
      ]
     },
     "execution_count": 98,
     "metadata": {},
     "output_type": "execute_result"
    }
   ],
   "source": [
    "df_kmeans_for_viz = pd.DataFrame({'company_name': companies_name,'X': X_new[:,0], 'Y': X_new[:,1], 'cluster ID': array_labels})\n",
    "df_kmeans_for_viz.head(2)"
   ]
  },
  {
   "cell_type": "markdown",
   "metadata": {},
   "source": [
    "We will visualize our clusters, again using just the first two components, X and Y:"
   ]
  },
  {
   "cell_type": "code",
   "execution_count": 99,
   "metadata": {
    "collapsed": false
   },
   "outputs": [
    {
     "data": {
      "image/png": "[encoded data removed]",
      "text/plain": [
       "<matplotlib.figure.Figure at 0x2030ff63cf8>"
      ]
     },
     "metadata": {},
     "output_type": "display_data"
    }
   ],
   "source": [
    "col = {0:'yellow', 1:'maroon', 2:'green'}\n",
    "\n",
    "cluster_col = df_kmeans_for_viz['cluster ID']\n",
    "\n",
    "fig, ax = plt.subplots()\n",
    "\n",
    "ax.scatter(df_kmeans_for_viz.X, df_kmeans_for_viz.Y, c=cluster_col.apply(lambda x: col[x]), alpha = 0.5)\n",
    "plt.xlabel(\"X component\")\n",
    "plt.ylabel(\"Y component\")\n",
    "plt.title(\"Clustering with kmeans (3 clusters)\")\n",
    "\n",
    "plt.savefig('Clustered.png', bbox_inches='tight')"
   ]
  },
  {
   "cell_type": "markdown",
   "metadata": {
    "collapsed": true
   },
   "source": [
    "An interesting pattern emerges when looking at the chart this way. However, we have to remember that we are looking at just the first two components out of 600 possible components. It is too difficult to interpret the clusters in the current situation. Some further exploration might reveal the following:"
   ]
  },
  {
   "cell_type": "code",
   "execution_count": 100,
   "metadata": {
    "collapsed": true
   },
   "outputs": [],
   "source": [
    "df_components = pd.DataFrame(X_new)\n",
    "df_components['clusters'] = array_labels\n",
    "df_components['permalink'] = companies_name"
   ]
  },
  {
   "cell_type": "code",
   "execution_count": 101,
   "metadata": {
    "collapsed": false
   },
   "outputs": [
    {
     "data": {
      "text/html": [
       "<div>\n",
       "<style>\n",
       "    .dataframe thead tr:only-child th {\n",
       "        text-align: right;\n",
       "    }\n",
       "\n",
       "    .dataframe thead th {\n",
       "        text-align: left;\n",
       "    }\n",
       "\n",
       "    .dataframe tbody tr th {\n",
       "        vertical-align: top;\n",
       "    }\n",
       "</style>\n",
       "<table border=\"1\" class=\"dataframe\">\n",
       "  <thead>\n",
       "    <tr style=\"text-align: right;\">\n",
       "      <th></th>\n",
       "      <th>0</th>\n",
       "      <th>1</th>\n",
       "      <th>2</th>\n",
       "      <th>3</th>\n",
       "      <th>4</th>\n",
       "      <th>5</th>\n",
       "      <th>6</th>\n",
       "      <th>7</th>\n",
       "      <th>8</th>\n",
       "      <th>9</th>\n",
       "      <th>...</th>\n",
       "      <th>investor_region</th>\n",
       "      <th>investor_city</th>\n",
       "      <th>funding_round_type</th>\n",
       "      <th>funded_at</th>\n",
       "      <th>funded_month</th>\n",
       "      <th>funded_quarter</th>\n",
       "      <th>funded_year</th>\n",
       "      <th>raised_amount_usd</th>\n",
       "      <th>id_y</th>\n",
       "      <th>n</th>\n",
       "    </tr>\n",
       "  </thead>\n",
       "  <tbody>\n",
       "    <tr>\n",
       "      <th>0</th>\n",
       "      <td>0.242174</td>\n",
       "      <td>-0.386262</td>\n",
       "      <td>0.507051</td>\n",
       "      <td>-0.426760</td>\n",
       "      <td>-0.129286</td>\n",
       "      <td>-0.106019</td>\n",
       "      <td>0.173786</td>\n",
       "      <td>-0.365940</td>\n",
       "      <td>0.386647</td>\n",
       "      <td>0.153517</td>\n",
       "      <td>...</td>\n",
       "      <td>United Kingdom - Other</td>\n",
       "      <td>NaN</td>\n",
       "      <td>venture</td>\n",
       "      <td>1/16/2007</td>\n",
       "      <td>2007-01</td>\n",
       "      <td>2007-Q1</td>\n",
       "      <td>2007.0</td>\n",
       "      <td>4912394.0</td>\n",
       "      <td>27550</td>\n",
       "      <td>1</td>\n",
       "    </tr>\n",
       "    <tr>\n",
       "      <th>1</th>\n",
       "      <td>0.084674</td>\n",
       "      <td>-0.094929</td>\n",
       "      <td>0.135520</td>\n",
       "      <td>-0.076579</td>\n",
       "      <td>-0.032685</td>\n",
       "      <td>-0.036322</td>\n",
       "      <td>0.070389</td>\n",
       "      <td>0.064017</td>\n",
       "      <td>0.043984</td>\n",
       "      <td>-0.065816</td>\n",
       "      <td>...</td>\n",
       "      <td>SF Bay</td>\n",
       "      <td>San Francisco</td>\n",
       "      <td>series-a</td>\n",
       "      <td>6/30/2012</td>\n",
       "      <td>2012-06</td>\n",
       "      <td>2012-Q2</td>\n",
       "      <td>2012.0</td>\n",
       "      <td>1750000.0</td>\n",
       "      <td>26643</td>\n",
       "      <td>1</td>\n",
       "    </tr>\n",
       "    <tr>\n",
       "      <th>2</th>\n",
       "      <td>0.084674</td>\n",
       "      <td>-0.094929</td>\n",
       "      <td>0.135520</td>\n",
       "      <td>-0.076579</td>\n",
       "      <td>-0.032685</td>\n",
       "      <td>-0.036322</td>\n",
       "      <td>0.070389</td>\n",
       "      <td>0.064017</td>\n",
       "      <td>0.043984</td>\n",
       "      <td>-0.065816</td>\n",
       "      <td>...</td>\n",
       "      <td>SF Bay</td>\n",
       "      <td>Palo Alto</td>\n",
       "      <td>series-a</td>\n",
       "      <td>6/30/2012</td>\n",
       "      <td>2012-06</td>\n",
       "      <td>2012-Q2</td>\n",
       "      <td>2012.0</td>\n",
       "      <td>1750000.0</td>\n",
       "      <td>35830</td>\n",
       "      <td>1</td>\n",
       "    </tr>\n",
       "    <tr>\n",
       "      <th>3</th>\n",
       "      <td>0.084674</td>\n",
       "      <td>-0.094929</td>\n",
       "      <td>0.135520</td>\n",
       "      <td>-0.076579</td>\n",
       "      <td>-0.032685</td>\n",
       "      <td>-0.036322</td>\n",
       "      <td>0.070389</td>\n",
       "      <td>0.064017</td>\n",
       "      <td>0.043984</td>\n",
       "      <td>-0.065816</td>\n",
       "      <td>...</td>\n",
       "      <td>unknown</td>\n",
       "      <td>NaN</td>\n",
       "      <td>series-a</td>\n",
       "      <td>6/30/2012</td>\n",
       "      <td>2012-06</td>\n",
       "      <td>2012-Q2</td>\n",
       "      <td>2012.0</td>\n",
       "      <td>1750000.0</td>\n",
       "      <td>76118</td>\n",
       "      <td>1</td>\n",
       "    </tr>\n",
       "    <tr>\n",
       "      <th>4</th>\n",
       "      <td>0.084674</td>\n",
       "      <td>-0.094929</td>\n",
       "      <td>0.135520</td>\n",
       "      <td>-0.076579</td>\n",
       "      <td>-0.032685</td>\n",
       "      <td>-0.036322</td>\n",
       "      <td>0.070389</td>\n",
       "      <td>0.064017</td>\n",
       "      <td>0.043984</td>\n",
       "      <td>-0.065816</td>\n",
       "      <td>...</td>\n",
       "      <td>unknown</td>\n",
       "      <td>NaN</td>\n",
       "      <td>series-a</td>\n",
       "      <td>6/30/2012</td>\n",
       "      <td>2012-06</td>\n",
       "      <td>2012-Q2</td>\n",
       "      <td>2012.0</td>\n",
       "      <td>1750000.0</td>\n",
       "      <td>79822</td>\n",
       "      <td>1</td>\n",
       "    </tr>\n",
       "    <tr>\n",
       "      <th>5</th>\n",
       "      <td>0.084674</td>\n",
       "      <td>-0.094929</td>\n",
       "      <td>0.135520</td>\n",
       "      <td>-0.076579</td>\n",
       "      <td>-0.032685</td>\n",
       "      <td>-0.036322</td>\n",
       "      <td>0.070389</td>\n",
       "      <td>0.064017</td>\n",
       "      <td>0.043984</td>\n",
       "      <td>-0.065816</td>\n",
       "      <td>...</td>\n",
       "      <td>unknown</td>\n",
       "      <td>NaN</td>\n",
       "      <td>series-a</td>\n",
       "      <td>6/30/2012</td>\n",
       "      <td>2012-06</td>\n",
       "      <td>2012-Q2</td>\n",
       "      <td>2012.0</td>\n",
       "      <td>1750000.0</td>\n",
       "      <td>83304</td>\n",
       "      <td>1</td>\n",
       "    </tr>\n",
       "    <tr>\n",
       "      <th>6</th>\n",
       "      <td>-0.060065</td>\n",
       "      <td>-0.026364</td>\n",
       "      <td>-0.035254</td>\n",
       "      <td>0.008618</td>\n",
       "      <td>0.002679</td>\n",
       "      <td>-0.018481</td>\n",
       "      <td>-0.001709</td>\n",
       "      <td>-0.013150</td>\n",
       "      <td>-0.017285</td>\n",
       "      <td>0.004529</td>\n",
       "      <td>...</td>\n",
       "      <td>SF Bay</td>\n",
       "      <td>Mountain View</td>\n",
       "      <td>angel</td>\n",
       "      <td>1/1/2010</td>\n",
       "      <td>2010-01</td>\n",
       "      <td>2010-Q1</td>\n",
       "      <td>2010.0</td>\n",
       "      <td>15000.0</td>\n",
       "      <td>6074</td>\n",
       "      <td>1</td>\n",
       "    </tr>\n",
       "    <tr>\n",
       "      <th>7</th>\n",
       "      <td>-0.060065</td>\n",
       "      <td>-0.026364</td>\n",
       "      <td>-0.035254</td>\n",
       "      <td>0.008618</td>\n",
       "      <td>0.002679</td>\n",
       "      <td>-0.018481</td>\n",
       "      <td>-0.001709</td>\n",
       "      <td>-0.013150</td>\n",
       "      <td>-0.017285</td>\n",
       "      <td>0.004529</td>\n",
       "      <td>...</td>\n",
       "      <td>SF Bay</td>\n",
       "      <td>Palo Alto</td>\n",
       "      <td>series-a</td>\n",
       "      <td>2/16/2011</td>\n",
       "      <td>2011-02</td>\n",
       "      <td>2011-Q1</td>\n",
       "      <td>2011.0</td>\n",
       "      <td>2520000.0</td>\n",
       "      <td>25763</td>\n",
       "      <td>1</td>\n",
       "    </tr>\n",
       "    <tr>\n",
       "      <th>8</th>\n",
       "      <td>-0.060065</td>\n",
       "      <td>-0.026364</td>\n",
       "      <td>-0.035254</td>\n",
       "      <td>0.008618</td>\n",
       "      <td>0.002679</td>\n",
       "      <td>-0.018481</td>\n",
       "      <td>-0.001709</td>\n",
       "      <td>-0.013150</td>\n",
       "      <td>-0.017285</td>\n",
       "      <td>0.004529</td>\n",
       "      <td>...</td>\n",
       "      <td>SF Bay</td>\n",
       "      <td>Palo Alto</td>\n",
       "      <td>series-a</td>\n",
       "      <td>2/16/2011</td>\n",
       "      <td>2011-02</td>\n",
       "      <td>2011-Q1</td>\n",
       "      <td>2011.0</td>\n",
       "      <td>2520000.0</td>\n",
       "      <td>27087</td>\n",
       "      <td>1</td>\n",
       "    </tr>\n",
       "    <tr>\n",
       "      <th>9</th>\n",
       "      <td>-0.060065</td>\n",
       "      <td>-0.026364</td>\n",
       "      <td>-0.035254</td>\n",
       "      <td>0.008618</td>\n",
       "      <td>0.002679</td>\n",
       "      <td>-0.018481</td>\n",
       "      <td>-0.001709</td>\n",
       "      <td>-0.013150</td>\n",
       "      <td>-0.017285</td>\n",
       "      <td>0.004529</td>\n",
       "      <td>...</td>\n",
       "      <td>New York</td>\n",
       "      <td>New York</td>\n",
       "      <td>angel</td>\n",
       "      <td>1/1/2010</td>\n",
       "      <td>2010-01</td>\n",
       "      <td>2010-Q1</td>\n",
       "      <td>2010.0</td>\n",
       "      <td>15000.0</td>\n",
       "      <td>27980</td>\n",
       "      <td>1</td>\n",
       "    </tr>\n",
       "  </tbody>\n",
       "</table>\n",
       "<p>10 rows × 636 columns</p>\n",
       "</div>"
      ],
      "text/plain": [
       "          0         1         2         3         4         5         6  \\\n",
       "0  0.242174 -0.386262  0.507051 -0.426760 -0.129286 -0.106019  0.173786   \n",
       "1  0.084674 -0.094929  0.135520 -0.076579 -0.032685 -0.036322  0.070389   \n",
       "2  0.084674 -0.094929  0.135520 -0.076579 -0.032685 -0.036322  0.070389   \n",
       "3  0.084674 -0.094929  0.135520 -0.076579 -0.032685 -0.036322  0.070389   \n",
       "4  0.084674 -0.094929  0.135520 -0.076579 -0.032685 -0.036322  0.070389   \n",
       "5  0.084674 -0.094929  0.135520 -0.076579 -0.032685 -0.036322  0.070389   \n",
       "6 -0.060065 -0.026364 -0.035254  0.008618  0.002679 -0.018481 -0.001709   \n",
       "7 -0.060065 -0.026364 -0.035254  0.008618  0.002679 -0.018481 -0.001709   \n",
       "8 -0.060065 -0.026364 -0.035254  0.008618  0.002679 -0.018481 -0.001709   \n",
       "9 -0.060065 -0.026364 -0.035254  0.008618  0.002679 -0.018481 -0.001709   \n",
       "\n",
       "          7         8         9 ...         investor_region  investor_city  \\\n",
       "0 -0.365940  0.386647  0.153517 ...  United Kingdom - Other            NaN   \n",
       "1  0.064017  0.043984 -0.065816 ...                  SF Bay  San Francisco   \n",
       "2  0.064017  0.043984 -0.065816 ...                  SF Bay      Palo Alto   \n",
       "3  0.064017  0.043984 -0.065816 ...                 unknown            NaN   \n",
       "4  0.064017  0.043984 -0.065816 ...                 unknown            NaN   \n",
       "5  0.064017  0.043984 -0.065816 ...                 unknown            NaN   \n",
       "6 -0.013150 -0.017285  0.004529 ...                  SF Bay  Mountain View   \n",
       "7 -0.013150 -0.017285  0.004529 ...                  SF Bay      Palo Alto   \n",
       "8 -0.013150 -0.017285  0.004529 ...                  SF Bay      Palo Alto   \n",
       "9 -0.013150 -0.017285  0.004529 ...                New York       New York   \n",
       "\n",
       "   funding_round_type  funded_at  funded_month  funded_quarter  funded_year  \\\n",
       "0             venture  1/16/2007       2007-01         2007-Q1       2007.0   \n",
       "1            series-a  6/30/2012       2012-06         2012-Q2       2012.0   \n",
       "2            series-a  6/30/2012       2012-06         2012-Q2       2012.0   \n",
       "3            series-a  6/30/2012       2012-06         2012-Q2       2012.0   \n",
       "4            series-a  6/30/2012       2012-06         2012-Q2       2012.0   \n",
       "5            series-a  6/30/2012       2012-06         2012-Q2       2012.0   \n",
       "6               angel   1/1/2010       2010-01         2010-Q1       2010.0   \n",
       "7            series-a  2/16/2011       2011-02         2011-Q1       2011.0   \n",
       "8            series-a  2/16/2011       2011-02         2011-Q1       2011.0   \n",
       "9               angel   1/1/2010       2010-01         2010-Q1       2010.0   \n",
       "\n",
       "   raised_amount_usd   id_y  n  \n",
       "0          4912394.0  27550  1  \n",
       "1          1750000.0  26643  1  \n",
       "2          1750000.0  35830  1  \n",
       "3          1750000.0  76118  1  \n",
       "4          1750000.0  79822  1  \n",
       "5          1750000.0  83304  1  \n",
       "6            15000.0   6074  1  \n",
       "7          2520000.0  25763  1  \n",
       "8          2520000.0  27087  1  \n",
       "9            15000.0  27980  1  \n",
       "\n",
       "[10 rows x 636 columns]"
      ]
     },
     "execution_count": 101,
     "metadata": {},
     "output_type": "execute_result"
    }
   ],
   "source": [
    "df_clustered = df_components.merge(companies_of_interest)\n",
    "df_clustered.head(10)"
   ]
  },
  {
   "cell_type": "code",
   "execution_count": 102,
   "metadata": {
    "collapsed": true
   },
   "outputs": [],
   "source": [
    "df_clustered['average_funding_round'] = df_clustered['funding_total_usd']/df_clustered['funding_rounds']"
   ]
  },
  {
   "cell_type": "code",
   "execution_count": 103,
   "metadata": {
    "collapsed": false
   },
   "outputs": [],
   "source": [
    "cluster_1_df = df_clustered[df_clustered['clusters'] == 0]"
   ]
  },
  {
   "cell_type": "code",
   "execution_count": 104,
   "metadata": {
    "collapsed": true
   },
   "outputs": [],
   "source": [
    "cluster_2_df = df_clustered[df_clustered['clusters'] == 1]"
   ]
  },
  {
   "cell_type": "code",
   "execution_count": 105,
   "metadata": {
    "collapsed": false
   },
   "outputs": [
    {
     "name": "stdout",
     "output_type": "stream",
     "text": [
      "The average funding per round raised for cluster 1 start-ups: 15575563.719802\n",
      "The average funding per round raised for cluster 2 start-ups: 26955367.814101\n"
     ]
    }
   ],
   "source": [
    "print('The average funding per round raised for cluster 1 start-ups: {:2f}'.format(np.mean(cluster_1_df.average_funding_round)))\n",
    "print('The average funding per round raised for cluster 2 start-ups: {:2f}'.format(np.mean(cluster_2_df.average_funding_round)))"
   ]
  },
  {
   "cell_type": "code",
   "execution_count": 106,
   "metadata": {
    "collapsed": false
   },
   "outputs": [
    {
     "name": "stdout",
     "output_type": "stream",
     "text": [
      "The average number of funding rounds for cluster 1 start-ups: 2.888460\n",
      "The average number of funding rounds for cluster 2 start-ups: 3.161572\n"
     ]
    }
   ],
   "source": [
    "print('The average number of funding rounds for cluster 1 start-ups: {:2f}'.format(np.mean(cluster_1_df.funding_rounds)))\n",
    "print('The average number of funding rounds for cluster 2 start-ups: {:2f}'.format(np.mean(cluster_2_df.funding_rounds)))"
   ]
  },
  {
   "cell_type": "markdown",
   "metadata": {},
   "source": [
    "What is also interesting is grouping the companies in the clusters by status."
   ]
  },
  {
   "cell_type": "code",
   "execution_count": 107,
   "metadata": {
    "collapsed": false
   },
   "outputs": [
    {
     "name": "stdout",
     "output_type": "stream",
     "text": [
      "Cluster 1\n"
     ]
    },
    {
     "data": {
      "text/html": [
       "<div>\n",
       "<style>\n",
       "    .dataframe thead tr:only-child th {\n",
       "        text-align: right;\n",
       "    }\n",
       "\n",
       "    .dataframe thead th {\n",
       "        text-align: left;\n",
       "    }\n",
       "\n",
       "    .dataframe tbody tr th {\n",
       "        vertical-align: top;\n",
       "    }\n",
       "</style>\n",
       "<table border=\"1\" class=\"dataframe\">\n",
       "  <thead>\n",
       "    <tr style=\"text-align: right;\">\n",
       "      <th></th>\n",
       "      <th>clusters</th>\n",
       "    </tr>\n",
       "    <tr>\n",
       "      <th>status</th>\n",
       "      <th></th>\n",
       "    </tr>\n",
       "  </thead>\n",
       "  <tbody>\n",
       "    <tr>\n",
       "      <th>acquired</th>\n",
       "      <td>1862</td>\n",
       "    </tr>\n",
       "    <tr>\n",
       "      <th>closed</th>\n",
       "      <td>1304</td>\n",
       "    </tr>\n",
       "    <tr>\n",
       "      <th>ipo</th>\n",
       "      <td>270</td>\n",
       "    </tr>\n",
       "  </tbody>\n",
       "</table>\n",
       "</div>"
      ],
      "text/plain": [
       "          clusters\n",
       "status            \n",
       "acquired      1862\n",
       "closed        1304\n",
       "ipo            270"
      ]
     },
     "execution_count": 107,
     "metadata": {},
     "output_type": "execute_result"
    }
   ],
   "source": [
    "identifying_status_by_cluster_df = df_clustered.loc[:,['permalink','status','clusters']]\n",
    "identifying_status_by_cluster_df = identifying_status_by_cluster_df.drop_duplicates()\n",
    "\n",
    "#focusing only on the status and cluster ID columns\n",
    "identifying_status_by_cluster_df = identifying_status_by_cluster_df.loc[:,['status', 'clusters']]\n",
    "\n",
    "#for the first cluster:\n",
    "cluster_1_status_df = identifying_status_by_cluster_df[identifying_status_by_cluster_df['clusters'] == 0]\n",
    "\n",
    "print('Cluster 1')\n",
    "cluster_1_status_df.groupby('status').count()\n"
   ]
  },
  {
   "cell_type": "code",
   "execution_count": 108,
   "metadata": {
    "collapsed": false
   },
   "outputs": [
    {
     "name": "stdout",
     "output_type": "stream",
     "text": [
      "Cluster 2\n"
     ]
    },
    {
     "data": {
      "text/html": [
       "<div>\n",
       "<style>\n",
       "    .dataframe thead tr:only-child th {\n",
       "        text-align: right;\n",
       "    }\n",
       "\n",
       "    .dataframe thead th {\n",
       "        text-align: left;\n",
       "    }\n",
       "\n",
       "    .dataframe tbody tr th {\n",
       "        vertical-align: top;\n",
       "    }\n",
       "</style>\n",
       "<table border=\"1\" class=\"dataframe\">\n",
       "  <thead>\n",
       "    <tr style=\"text-align: right;\">\n",
       "      <th></th>\n",
       "      <th>clusters</th>\n",
       "    </tr>\n",
       "    <tr>\n",
       "      <th>status</th>\n",
       "      <th></th>\n",
       "    </tr>\n",
       "  </thead>\n",
       "  <tbody>\n",
       "    <tr>\n",
       "      <th>acquired</th>\n",
       "      <td>53</td>\n",
       "    </tr>\n",
       "    <tr>\n",
       "      <th>closed</th>\n",
       "      <td>27</td>\n",
       "    </tr>\n",
       "    <tr>\n",
       "      <th>ipo</th>\n",
       "      <td>10</td>\n",
       "    </tr>\n",
       "  </tbody>\n",
       "</table>\n",
       "</div>"
      ],
      "text/plain": [
       "          clusters\n",
       "status            \n",
       "acquired        53\n",
       "closed          27\n",
       "ipo             10"
      ]
     },
     "execution_count": 108,
     "metadata": {},
     "output_type": "execute_result"
    }
   ],
   "source": [
    "cluster_2_status_df = identifying_status_by_cluster_df[identifying_status_by_cluster_df['clusters'] == 1]\n",
    "print('Cluster 2')\n",
    "cluster_2_status_df.groupby('status').count()"
   ]
  },
  {
   "cell_type": "markdown",
   "metadata": {},
   "source": [
    "There does not seem to be much meaning on the status-level, however. What is worth noting here is that the second cluster is much smaller than the first, which does not explain much, unfortunately."
   ]
  },
  {
   "cell_type": "markdown",
   "metadata": {},
   "source": [
    "### <i> Clustering: summary </i>"
   ]
  },
  {
   "cell_type": "markdown",
   "metadata": {},
   "source": [
    "Clustering analysis of start-ups vs. investors with kmeans (3 clusters) yielded little in this case. The silhouette score of 0.3 suggests that the structure is weak and could be artificial. While there was some difference between the two clusters around average number of funding rounds and total funding raised, this particular clustering analysis (of positioning start-up data with investor data) provided no insight into whether successful start-ups are different from non-successful start-ups at an investor level.<br></br><br></br>In the future, it will be worth trying different clustering methods and not just focusing on kmeans. Also, analyzing investors (based on companies invested into), i.e. the reverse of the current matrix structure, might be interesting as well.<br></br><br></br>Even though clustering results might not have yielded much, it was still an important step towards the prediction part. Transforming investor data into a format more appropriate for processing and reducing dimensionality will prove useful below."
   ]
  },
  {
   "cell_type": "markdown",
   "metadata": {},
   "source": [
    "### Determining the best prediction model to identify start-up success"
   ]
  },
  {
   "cell_type": "markdown",
   "metadata": {},
   "source": [
    "Having cleaned the data and having gained insight into the structure of the data and some of the patterns behind it, we have now reached the most important stage of the project: using machine-learning to be able to predict start-up success given observed information."
   ]
  },
  {
   "cell_type": "markdown",
   "metadata": {},
   "source": [
    "But first, let's look at our start-up data once again, to keep only those columns that we will need for our analysis. The newly created df_clustered dataframe with the 600 components is too big, so we will look at the companies_investments columns to decide what else needs to be modified."
   ]
  },
  {
   "cell_type": "code",
   "execution_count": 109,
   "metadata": {
    "collapsed": false
   },
   "outputs": [
    {
     "name": "stdout",
     "output_type": "stream",
     "text": [
      "<class 'pandas.core.frame.DataFrame'>\n",
      "Int64Index: 66847 entries, 0 to 66846\n",
      "Data columns (total 34 columns):\n",
      "permalink                            66847 non-null object\n",
      "homepage_url                         64803 non-null object\n",
      "funding_total_usd                    62534 non-null float64\n",
      "status                               66847 non-null object\n",
      "funding_rounds                       66847 non-null int64\n",
      "founded_at                           57262 non-null datetime64[ns]\n",
      "founded_month                        57262 non-null object\n",
      "founded_quarter                      57262 non-null object\n",
      "founded_year                         57262 non-null float64\n",
      "first_funding_at                     66847 non-null datetime64[ns]\n",
      "last_funding_at                      66847 non-null object\n",
      "last_milestone_at                    49668 non-null object\n",
      "id_x                                 66847 non-null int64\n",
      "days_between_funding_and_founding    57262 non-null float64\n",
      "company_name                         66847 non-null object\n",
      "company_category_code                65527 non-null object\n",
      "company_country_code                 64437 non-null object\n",
      "company_state_code                   47165 non-null object\n",
      "company_region                       66847 non-null object\n",
      "company_city                         62958 non-null object\n",
      "investor_permalink                   66847 non-null object\n",
      "investor_name                        66847 non-null object\n",
      "investor_category_code               3590 non-null object\n",
      "investor_country_code                51003 non-null object\n",
      "investor_state_code                  36303 non-null object\n",
      "investor_region                      66847 non-null object\n",
      "investor_city                        50016 non-null object\n",
      "funding_round_type                   66846 non-null object\n",
      "funded_at                            66846 non-null object\n",
      "funded_month                         66846 non-null object\n",
      "funded_quarter                       66846 non-null object\n",
      "funded_year                          66846 non-null float64\n",
      "raised_amount_usd                    60261 non-null float64\n",
      "id_y                                 66847 non-null int64\n",
      "dtypes: datetime64[ns](2), float64(5), int64(3), object(24)\n",
      "memory usage: 17.9+ MB\n"
     ]
    }
   ],
   "source": [
    "companies_investments.info()"
   ]
  },
  {
   "cell_type": "markdown",
   "metadata": {},
   "source": [
    "Of this information, permalink, homepage_url, founded_quarter, id_x, last_milestone_at, investor_permailnk, funded_quarter, id_y, and n are not particularly informative factors, they do not represent an intrinsic feature of a specific company, so we will remove them from the dataframe.\n",
    "\n",
    "Also, instead of the first_funding_at, we'll just keep the days_between_funding_and_founding, to make our dataframe time-agnostic."
   ]
  },
  {
   "cell_type": "code",
   "execution_count": 110,
   "metadata": {
    "collapsed": false
   },
   "outputs": [],
   "source": [
    "df_ready_for_model = df_clustered.drop(['permalink', 'homepage_url', 'id_x', 'founded_at', 'founded_month', 'founded_quarter', 'first_funding_at', 'last_funding_at', 'last_milestone_at', 'investor_permalink', 'funded_quarter','id_y', 'n'],1)"
   ]
  },
  {
   "cell_type": "markdown",
   "metadata": {},
   "source": [
    "As mentioned earlier, for this specific project I will only focus on the Series A funding round and will ignore information about further funding rounds. Also, we have already transformed our investor data into data that can be processed by our model, so we will remove investor information from the dataframe used in our model."
   ]
  },
  {
   "cell_type": "code",
   "execution_count": 111,
   "metadata": {
    "collapsed": false
   },
   "outputs": [],
   "source": [
    "df_ready_for_model = df_ready_for_model.drop(['investor_name', 'investor_category_code', 'investor_country_code', 'investor_state_code', 'investor_region', 'investor_city', 'funding_round_type', 'funded_at', 'funded_month', 'funded_year', 'raised_amount_usd'],1)"
   ]
  },
  {
   "cell_type": "markdown",
   "metadata": {},
   "source": [
    "Now that we have removed all of the extraneous columns, what information do we have left? First, we have information about the start-up itself (sector, geography). We also have information about its investors, as transformed through PCA previously. Finally, we have information about the total amount that the company raised and the time lapse between founding date and first funding round. "
   ]
  },
  {
   "cell_type": "markdown",
   "metadata": {},
   "source": [
    "Since the merged file has more than one line per company, corresponding to each investor per each funding round per each start-up, we will have to drill down to have only one start-up per row. "
   ]
  },
  {
   "cell_type": "code",
   "execution_count": 112,
   "metadata": {
    "collapsed": true
   },
   "outputs": [],
   "source": [
    "df_ready_for_model = df_ready_for_model.drop_duplicates()"
   ]
  },
  {
   "cell_type": "code",
   "execution_count": 113,
   "metadata": {
    "collapsed": false
   },
   "outputs": [
    {
     "data": {
      "text/plain": [
       "3527"
      ]
     },
     "execution_count": 113,
     "metadata": {},
     "output_type": "execute_result"
    }
   ],
   "source": [
    "len(df_ready_for_model)"
   ]
  },
  {
   "cell_type": "markdown",
   "metadata": {},
   "source": [
    "It's the same number of companies as we had in our matrix for clustering, so I know that all of the clean-ups were done correctly."
   ]
  },
  {
   "cell_type": "markdown",
   "metadata": {},
   "source": [
    "Now we will classify our companies in the dataframe as either successful or not based on their status: 0 will refer to closed or unsuccessful companies, while 1 will refer to companies that were acquired or got listed, i.e. successful companies."
   ]
  },
  {
   "cell_type": "code",
   "execution_count": 114,
   "metadata": {
    "collapsed": false,
    "scrolled": true
   },
   "outputs": [],
   "source": [
    "df_ready_for_model = df_ready_for_model.reset_index()\n",
    "array_of_success = []\n",
    "\n",
    "num_of_rows = len(df_ready_for_model)\n",
    "i=0\n",
    "\n",
    "for i in range(0, num_of_rows):\n",
    "    if df_ready_for_model.status[i] == 'closed':\n",
    "        array_of_success.append(0)\n",
    "    elif df_ready_for_model.status[i] == 'ipo' or df_ready_for_model.status[i] == 'acquired':\n",
    "        array_of_success.append(1)"
   ]
  },
  {
   "cell_type": "code",
   "execution_count": 115,
   "metadata": {
    "collapsed": false
   },
   "outputs": [],
   "source": [
    "df_ready_for_model['success'] = array_of_success"
   ]
  },
  {
   "cell_type": "code",
   "execution_count": 116,
   "metadata": {
    "collapsed": false
   },
   "outputs": [],
   "source": [
    "#we can delete the status column now\n",
    "df_ready_for_model = df_ready_for_model.drop(['status'],1)"
   ]
  },
  {
   "cell_type": "markdown",
   "metadata": {},
   "source": [
    "The very last thing that we will have to do before we apply different models to our data is convert any categorical variables into dummy variables, because logistic regression, for example, does not accept any categorical variables as features."
   ]
  },
  {
   "cell_type": "markdown",
   "metadata": {},
   "source": [
    "What are the categorical variables that we have? They are company_category_code, company_country_code, company_state_code, company_region, and company_city."
   ]
  },
  {
   "cell_type": "code",
   "execution_count": 117,
   "metadata": {
    "collapsed": true
   },
   "outputs": [],
   "source": [
    "company_names_to_store = df_ready_for_model.company_name"
   ]
  },
  {
   "cell_type": "code",
   "execution_count": 118,
   "metadata": {
    "collapsed": true
   },
   "outputs": [],
   "source": [
    "df_ready_for_model = df_ready_for_model.drop('company_name',1)"
   ]
  },
  {
   "cell_type": "code",
   "execution_count": 119,
   "metadata": {
    "collapsed": false
   },
   "outputs": [],
   "source": [
    "df_final = pd.get_dummies(df_ready_for_model, columns = ['company_category_code', 'company_country_code','company_state_code',\n",
    "                                              'company_region', 'company_city'], prefix = ['company_category_code', \n",
    "                                              'company_country_code','company_state_code', 'company_region', 'company_city'])"
   ]
  },
  {
   "cell_type": "markdown",
   "metadata": {},
   "source": [
    "There are three more columns that we might need to modify to enable modelling: funding_total_usd, funding_rounds, days_between_funding_and_founding, founded_year, and average_funding_round. What we need to do here is take care of NaN's, which won't allow us to run our model. We will substitute NaN's with the mean value for that column, but other ways, such as median or conditional mean, might be considered as well."
   ]
  },
  {
   "cell_type": "code",
   "execution_count": 120,
   "metadata": {
    "collapsed": false
   },
   "outputs": [],
   "source": [
    "df_final.funding_total_usd.fillna((df_final.funding_total_usd.mean()), inplace = True)\n",
    "df_final.funding_rounds.fillna((df_final.funding_rounds.mean()), inplace = True)\n",
    "df_final.days_between_funding_and_founding.fillna((df_final.days_between_funding_and_founding.mean()), inplace = True)\n",
    "df_final.founded_year.fillna((df_final.founded_year.mean()), inplace = True)\n",
    "df_final.average_funding_round.fillna((df_final.average_funding_round.mean()), inplace = True)"
   ]
  },
  {
   "cell_type": "markdown",
   "metadata": {},
   "source": [
    "And now our dataframe is fully ready for further analysis."
   ]
  },
  {
   "cell_type": "code",
   "execution_count": 121,
   "metadata": {
    "collapsed": false
   },
   "outputs": [],
   "source": [
    "from sklearn.linear_model import LogisticRegression\n",
    "from sklearn.ensemble import RandomForestClassifier"
   ]
  },
  {
   "cell_type": "markdown",
   "metadata": {
    "collapsed": false
   },
   "source": [
    "The next step will be breaking down our dataframe into training/cross-validation, validation, and prediction subsets. We will use the first subset to train our data and find the best hyperparameters, the second subset (the validation one) will be used to find the best-performing model for our analysis, and the last subset -- to predict and analyze results. Before that last step we will use the combined first and second subset to train the data before the final testing. "
   ]
  },
  {
   "cell_type": "markdown",
   "metadata": {},
   "source": [
    "Our features will be stored in a dataframe X and the labels will be stored in an array named y."
   ]
  },
  {
   "cell_type": "code",
   "execution_count": 122,
   "metadata": {
    "collapsed": true
   },
   "outputs": [],
   "source": [
    "y = df_final.success\n",
    "X = df_final.drop(['success'], 1)"
   ]
  },
  {
   "cell_type": "markdown",
   "metadata": {},
   "source": [
    "Let's split the data into \"training\" and testing first, putting 70% of the data in training and 30% of the data in testing. We will then split the \"training\" set into two more subsets, training and validation, with 40% of the original data going into training and 30% of the original data going into validation."
   ]
  },
  {
   "cell_type": "code",
   "execution_count": 123,
   "metadata": {
    "collapsed": true
   },
   "outputs": [],
   "source": [
    "from sklearn.model_selection import train_test_split"
   ]
  },
  {
   "cell_type": "code",
   "execution_count": 124,
   "metadata": {
    "collapsed": true
   },
   "outputs": [],
   "source": [
    "X_intermediate, X_test, y_intermediate, y_test = train_test_split(X, y, test_size = 0.3, random_state = 10)"
   ]
  },
  {
   "cell_type": "code",
   "execution_count": 125,
   "metadata": {
    "collapsed": true
   },
   "outputs": [],
   "source": [
    "X_train, X_validation, y_train, y_validation = train_test_split(X_intermediate, y_intermediate, test_size = 0.3, random_state = 10)"
   ]
  },
  {
   "cell_type": "code",
   "execution_count": 126,
   "metadata": {
    "collapsed": false,
    "scrolled": true
   },
   "outputs": [
    {
     "name": "stdout",
     "output_type": "stream",
     "text": [
      "We have 1727.000000 entries in the training set, 741.000000 entries in the validation set, and 1059.000000 rows in the testing set\n"
     ]
    }
   ],
   "source": [
    "print('We have {:2f}'.format(len(X_train)) + ' entries in the training set, {:2f}'.format(len(X_validation)) + ' entries in the validation set, and {:2f}'.format(len(X_test)) + ' rows in the testing set')"
   ]
  },
  {
   "cell_type": "markdown",
   "metadata": {},
   "source": [
    "Because our dependent variable is binary, linear regression would not be best and the most interpretable option. Instead, I will use Logistic Regression and Random Forest to develop a predictive mechanism."
   ]
  },
  {
   "cell_type": "markdown",
   "metadata": {},
   "source": [
    "#### Cross-validation"
   ]
  },
  {
   "cell_type": "markdown",
   "metadata": {},
   "source": [
    "For logistic regression, the hyperparameter that we need to determine is regularization parameter C."
   ]
  },
  {
   "cell_type": "code",
   "execution_count": 127,
   "metadata": {
    "collapsed": true
   },
   "outputs": [],
   "source": [
    "#the grid of parameters to test:\n",
    "\n",
    "Cs = [0.0000001, 0.00001, 0.0001, 0.001, 0.1, 1, 10, 100]"
   ]
  },
  {
   "cell_type": "markdown",
   "metadata": {},
   "source": [
    "We will use GridSearchCV to perform cross-validation."
   ]
  },
  {
   "cell_type": "code",
   "execution_count": 128,
   "metadata": {
    "collapsed": false
   },
   "outputs": [
    {
     "data": {
      "text/plain": [
       "GridSearchCV(cv=None, error_score='raise',\n",
       "       estimator=LogisticRegression(C=1.0, class_weight=None, dual=False, fit_intercept=True,\n",
       "          intercept_scaling=1, max_iter=100, multi_class='ovr', n_jobs=1,\n",
       "          penalty='l2', random_state=None, solver='liblinear', tol=0.0001,\n",
       "          verbose=0, warm_start=False),\n",
       "       fit_params={}, iid=True, n_jobs=1,\n",
       "       param_grid={'C': [1e-07, 1e-05, 0.0001, 0.001, 0.1, 1, 10, 100]},\n",
       "       pre_dispatch='2*n_jobs', refit=True, return_train_score=True,\n",
       "       scoring=None, verbose=0)"
      ]
     },
     "execution_count": 128,
     "metadata": {},
     "output_type": "execute_result"
    }
   ],
   "source": [
    "from sklearn.model_selection import GridSearchCV\n",
    "parameters = {'C': Cs}\n",
    "lr = LogisticRegression()\n",
    "clf_train_lr = GridSearchCV(lr, parameters)\n",
    "clf_train_lr.fit(X_train, y_train)"
   ]
  },
  {
   "cell_type": "code",
   "execution_count": 129,
   "metadata": {
    "collapsed": false,
    "scrolled": true
   },
   "outputs": [
    {
     "data": {
      "text/plain": [
       "{'C': 1e-07}"
      ]
     },
     "execution_count": 129,
     "metadata": {},
     "output_type": "execute_result"
    }
   ],
   "source": [
    "clf_train_lr.best_params_"
   ]
  },
  {
   "cell_type": "markdown",
   "metadata": {},
   "source": [
    "For the Random Forest model I will tune the n_estimators parameter, although it is also possible to tune max_features and max_depth, in addition to a few other parameters."
   ]
  },
  {
   "cell_type": "code",
   "execution_count": 130,
   "metadata": {
    "collapsed": false
   },
   "outputs": [
    {
     "data": {
      "text/plain": [
       "GridSearchCV(cv=None, error_score='raise',\n",
       "       estimator=RandomForestClassifier(bootstrap=True, class_weight=None, criterion='gini',\n",
       "            max_depth=None, max_features='auto', max_leaf_nodes=None,\n",
       "            min_impurity_split=1e-07, min_samples_leaf=1,\n",
       "            min_samples_split=2, min_weight_fraction_leaf=0.0,\n",
       "            n_estimators=10, n_jobs=1, oob_score=False, random_state=10,\n",
       "            verbose=0, warm_start=False),\n",
       "       fit_params={}, iid=True, n_jobs=1,\n",
       "       param_grid={'n_estimators': [100, 200]}, pre_dispatch='2*n_jobs',\n",
       "       refit=True, return_train_score=True, scoring=None, verbose=0)"
      ]
     },
     "execution_count": 130,
     "metadata": {},
     "output_type": "execute_result"
    }
   ],
   "source": [
    "parameters_RF = {'n_estimators': [100,200]}\n",
    "rf = RandomForestClassifier(random_state = 10)\n",
    "clf_train_rf = GridSearchCV(rf, parameters_RF)\n",
    "clf_train_rf.fit(X_train, y_train)"
   ]
  },
  {
   "cell_type": "code",
   "execution_count": 131,
   "metadata": {
    "collapsed": false
   },
   "outputs": [
    {
     "data": {
      "text/plain": [
       "{'n_estimators': 200}"
      ]
     },
     "execution_count": 131,
     "metadata": {},
     "output_type": "execute_result"
    }
   ],
   "source": [
    "clf_train_rf.best_params_"
   ]
  },
  {
   "cell_type": "markdown",
   "metadata": {},
   "source": [
    "This was to be expected -- the more estimators there are, the better the model should do. We could have skipped this step, but it was useful for demonstration purposes nonetheless."
   ]
  },
  {
   "cell_type": "markdown",
   "metadata": {},
   "source": [
    "#### Validation"
   ]
  },
  {
   "cell_type": "markdown",
   "metadata": {},
   "source": [
    "Now let's test our data on the validation subset and see which model does best."
   ]
  },
  {
   "cell_type": "code",
   "execution_count": 132,
   "metadata": {
    "collapsed": true
   },
   "outputs": [],
   "source": [
    "from sklearn.metrics import accuracy_score"
   ]
  },
  {
   "cell_type": "code",
   "execution_count": 133,
   "metadata": {
    "collapsed": false
   },
   "outputs": [],
   "source": [
    "score_lr = accuracy_score(y_validation, clf_train_lr.predict(X_validation))"
   ]
  },
  {
   "cell_type": "code",
   "execution_count": 134,
   "metadata": {
    "collapsed": true
   },
   "outputs": [],
   "source": [
    "score_rf = accuracy_score(y_validation, clf_train_rf.predict(X_validation))"
   ]
  },
  {
   "cell_type": "code",
   "execution_count": 135,
   "metadata": {
    "collapsed": false,
    "scrolled": true
   },
   "outputs": [
    {
     "name": "stdout",
     "output_type": "stream",
     "text": [
      "The accuracy score for logistic regression is 0.593792\n",
      "The accuracy score for random forest is 0.632928\n"
     ]
    }
   ],
   "source": [
    "print(\"The accuracy score for logistic regression is {:2f}\".format(score_lr))\n",
    "print(\"The accuracy score for random forest is {:2f}\".format(score_rf))"
   ]
  },
  {
   "cell_type": "markdown",
   "metadata": {},
   "source": [
    "Let's compare is to the baseline, which is the percentage of 1's in our y_validation array"
   ]
  },
  {
   "cell_type": "code",
   "execution_count": 136,
   "metadata": {
    "collapsed": false
   },
   "outputs": [
    {
     "name": "stdout",
     "output_type": "stream",
     "text": [
      "There are 440.000000 entries out of 741.000000 entries that are successful\n"
     ]
    }
   ],
   "source": [
    "print(\"There are {:2f}\".format((y_validation == 1).sum()) + \" entries out of {:2f}\".format(len(y_validation)) + \" entries that are successful\")"
   ]
  },
  {
   "cell_type": "code",
   "execution_count": 149,
   "metadata": {
    "collapsed": false
   },
   "outputs": [
    {
     "name": "stdout",
     "output_type": "stream",
     "text": [
      "The baseline is 0.593792\n"
     ]
    }
   ],
   "source": [
    "print(\"The baseline is {:2f}\".format(440/741))"
   ]
  },
  {
   "cell_type": "markdown",
   "metadata": {},
   "source": [
    "This means that our logistic regression is right at the baseline, while Random Forest is doing a better job predicting the right outcome."
   ]
  },
  {
   "cell_type": "markdown",
   "metadata": {},
   "source": [
    "Let's look at other measures to determine how good our models are, in particular the Random Forest model:"
   ]
  },
  {
   "cell_type": "markdown",
   "metadata": {},
   "source": [
    "Confusion matrix for logistic regression:"
   ]
  },
  {
   "cell_type": "code",
   "execution_count": 138,
   "metadata": {
    "collapsed": true
   },
   "outputs": [],
   "source": [
    "from sklearn.metrics import confusion_matrix\n",
    "cm_lr = confusion_matrix(y_validation, clf_train_lr.predict(X_validation))"
   ]
  },
  {
   "cell_type": "code",
   "execution_count": 139,
   "metadata": {
    "collapsed": false,
    "scrolled": false
   },
   "outputs": [
    {
     "data": {
      "text/plain": [
       "array([[  0, 301],\n",
       "       [  0, 440]])"
      ]
     },
     "execution_count": 139,
     "metadata": {},
     "output_type": "execute_result"
    }
   ],
   "source": [
    "cm_lr"
   ]
  },
  {
   "cell_type": "markdown",
   "metadata": {},
   "source": [
    "Basically, logistic regression is only predicting 1's and no 0's. It is definitely not a good fit for our analysis."
   ]
  },
  {
   "cell_type": "markdown",
   "metadata": {},
   "source": [
    "We can also do a classification report on the logistic model. "
   ]
  },
  {
   "cell_type": "code",
   "execution_count": 150,
   "metadata": {
    "collapsed": false,
    "scrolled": true
   },
   "outputs": [
    {
     "name": "stdout",
     "output_type": "stream",
     "text": [
      "Classification report for the logistic model\n",
      "              precision    recall  f1-score   support\n",
      "\n",
      "unsuccessful       0.00      0.00      0.00       301\n",
      "  successful       0.59      1.00      0.75       440\n",
      "\n",
      " avg / total       0.35      0.59      0.44       741\n",
      "\n"
     ]
    },
    {
     "name": "stderr",
     "output_type": "stream",
     "text": [
      "C:\\Users\\Lana\\Anaconda3\\lib\\site-packages\\sklearn\\metrics\\classification.py:1113: UndefinedMetricWarning: Precision and F-score are ill-defined and being set to 0.0 in labels with no predicted samples.\n",
      "  'precision', 'predicted', average, warn_for)\n"
     ]
    }
   ],
   "source": [
    "from sklearn.metrics import classification_report\n",
    "print(\"Classification report for the logistic model\")\n",
    "print(classification_report(y_validation, clf_train_lr.predict(X_validation), target_names=['unsuccessful', 'successful']))"
   ]
  },
  {
   "cell_type": "markdown",
   "metadata": {},
   "source": [
    "Let's consider confusion matrix for the Random Forest now."
   ]
  },
  {
   "cell_type": "code",
   "execution_count": 152,
   "metadata": {
    "collapsed": false
   },
   "outputs": [
    {
     "name": "stdout",
     "output_type": "stream",
     "text": [
      "Confusion matrix for Random Forest\n"
     ]
    },
    {
     "data": {
      "text/plain": [
       "array([[ 63, 238],\n",
       "       [ 34, 406]])"
      ]
     },
     "execution_count": 152,
     "metadata": {},
     "output_type": "execute_result"
    }
   ],
   "source": [
    "cm_rf = confusion_matrix(y_validation, clf_train_rf.predict(X_validation))\n",
    "TP = cm_rf[0][0]\n",
    "FN = cm_rf[0][1]\n",
    "FP = cm_rf[1][0]\n",
    "TN = cm_rf[1][1]\n",
    "print(\"Confusion matrix for Random Forest\")\n",
    "cm_rf"
   ]
  },
  {
   "cell_type": "code",
   "execution_count": 142,
   "metadata": {
    "collapsed": false
   },
   "outputs": [
    {
     "name": "stdout",
     "output_type": "stream",
     "text": [
      "Specificity for the Random Forest model is 0.209302\n",
      "Sensitivity for the Random Forest model is 0.922727\n"
     ]
    }
   ],
   "source": [
    "print(\"Specificity for the Random Forest model is {:2f}\".format(TP/(TP+FN)))\n",
    "print(\"Sensitivity for the Random Forest model is {:2f}\".format(TN/(FP+TN)))"
   ]
  },
  {
   "cell_type": "code",
   "execution_count": 153,
   "metadata": {
    "collapsed": false,
    "scrolled": true
   },
   "outputs": [
    {
     "name": "stdout",
     "output_type": "stream",
     "text": [
      "Classification report for Random Forest\n",
      "              precision    recall  f1-score   support\n",
      "\n",
      "unsuccessful       0.65      0.21      0.32       301\n",
      "  successful       0.63      0.92      0.75       440\n",
      "\n",
      " avg / total       0.64      0.63      0.57       741\n",
      "\n"
     ]
    }
   ],
   "source": [
    "print(\"Classification report for Random Forest\")\n",
    "print(classification_report(y_validation, clf_train_rf.predict(X_validation), target_names=['unsuccessful', 'successful']))"
   ]
  },
  {
   "cell_type": "markdown",
   "metadata": {},
   "source": [
    "#### Training"
   ]
  },
  {
   "cell_type": "code",
   "execution_count": 144,
   "metadata": {
    "collapsed": false
   },
   "outputs": [],
   "source": [
    "rf = RandomForestClassifier(n_estimators = 200, random_state = 10)\n",
    "clf_final_training_rf = rf.fit(X_intermediate, y_intermediate)"
   ]
  },
  {
   "cell_type": "markdown",
   "metadata": {},
   "source": [
    "The full training on the combined new training data (cross-validation + validation) using RF is done, so let's test it on the final testing set:"
   ]
  },
  {
   "cell_type": "markdown",
   "metadata": {},
   "source": [
    "#### Testing"
   ]
  },
  {
   "cell_type": "code",
   "execution_count": 145,
   "metadata": {
    "collapsed": false
   },
   "outputs": [],
   "source": [
    "score_rf_final_testing = accuracy_score(clf_final_training_rf.predict(X_test), y_test)"
   ]
  },
  {
   "cell_type": "code",
   "execution_count": 146,
   "metadata": {
    "collapsed": false
   },
   "outputs": [
    {
     "name": "stdout",
     "output_type": "stream",
     "text": [
      "The accuracy score for the testing set is 0.665722\n"
     ]
    }
   ],
   "source": [
    "print(\"The accuracy score for the testing set is {:2f}\".format(score_rf_final_testing))"
   ]
  },
  {
   "cell_type": "code",
   "execution_count": 147,
   "metadata": {
    "collapsed": false
   },
   "outputs": [
    {
     "name": "stdout",
     "output_type": "stream",
     "text": [
      "Baseline: 0.631728\n"
     ]
    }
   ],
   "source": [
    "print(\"Baseline: {:2f}\".format((y_test == 1).sum()/(len(y_test))))"
   ]
  },
  {
   "cell_type": "markdown",
   "metadata": {},
   "source": [
    "This is interesting, because even though the difference is not large, RF still manages to outperform baseline on the data that the model has never seen before."
   ]
  },
  {
   "cell_type": "markdown",
   "metadata": {},
   "source": [
    "Let's create a classification report to analyze full results:"
   ]
  },
  {
   "cell_type": "code",
   "execution_count": 148,
   "metadata": {
    "collapsed": false,
    "scrolled": false
   },
   "outputs": [
    {
     "name": "stdout",
     "output_type": "stream",
     "text": [
      "              precision    recall  f1-score   support\n",
      "\n",
      "unsuccessful       0.61      0.25      0.36       390\n",
      "  successful       0.68      0.91      0.77       669\n",
      "\n",
      " avg / total       0.65      0.67      0.62      1059\n",
      "\n"
     ]
    }
   ],
   "source": [
    "print(classification_report(y_test, clf_final_training_rf.predict(X_test), target_names=['unsuccessful', 'successful']))"
   ]
  },
  {
   "cell_type": "markdown",
   "metadata": {},
   "source": [
    "Even though our model could not achieve at least 70% accuracy, it still performs better than the baseline, even if marginally so. There is a lot we can improve in the future, which I will touch upon in my recommendations and suggestions for further research."
   ]
  },
  {
   "cell_type": "markdown",
   "metadata": {
    "collapsed": true
   },
   "source": [
    "### Recommendations"
   ]
  },
  {
   "cell_type": "markdown",
   "metadata": {
    "collapsed": true
   },
   "source": [
    "1. For investors looking to invest in a start-up, this model can be used as early as Series A funding round to identify potential successful and unsuccessful candidates. At the same time, the model uses total amount of funding and total number of funding rounds -- elements that can only be observed at the end of a start-up cycle -- as its features. Hence, the more funding rounds a company has gone through, the more information we have for the model, which should in theory improve the prediction for that specific start-up.<br></br><br></br>\n",
    "2. At a more granular level, investors are encouraged to consider individual features, such as days/years before the company got its first funding, selection of investors in each round, or average amount of funding per round, to raise concerns about a potential investment. For example, the study showed that, on average, start-ups wait 1500 days before getting their first round. Unsuccessful companies, on the other hand, wait on average only about 1000 days before the first round. While this criterion should be used carefully to judge any future performance, it may serve as a red flag when looking at a potential investment.<br></br><br></br>\n",
    "3. Finally, while the model showed improved performance over a baseline model, the number of features used in the model was limited by available data. Hence, it would be ideal to invest into acquisition of further start-up data, e.g. information on founders (age, education, number of successful start-ups created prior to this start-up), start-up financial information, PR and marketing information (i.e. number of times the company was  mentioned in the news in the first year), etc. This information will not only shed some more light on what defines start-up success, but may also lead to more accurate prediction at Series A funding round.\n"
   ]
  },
  {
   "cell_type": "markdown",
   "metadata": {
    "collapsed": true
   },
   "source": [
    "#### Suggestions for further research and improvements to the current study"
   ]
  },
  {
   "cell_type": "markdown",
   "metadata": {},
   "source": [
    "Our model did slightly better than the baseline, but it was still below the accepted accuracy of 70%. Hence, there is a lot of work ahead to improve the model. Here just a few suggestions for improvement:"
   ]
  },
  {
   "cell_type": "markdown",
   "metadata": {},
   "source": [
    "<b>Features:</b>\n",
    "\n",
    "a. The study was based on Crunchbase data downloaded in 2015, which means that some of this information might be outdated. Working with the most recent dataset is the first improvement that can be done for this study. Ideally, such model should be trained in real-time, given that Crunchbase is a dynamic database.<br></br><br></br>\n",
    "b. The next step would be to utilize the acquisitions dataset to add more features to the model. This is an improvement that can easily be implemented even with the current resources.<br></br><br></br>\n",
    "c. As mentioned in the recommendation section above, a more expensive improvement would be to acquire additional data pertaining to start-ups. Scraping websites such techcrunch for certain PR information, such as the number of time a company was mentioned in the new, is one possibility. Potentially looking to acquire data on founders or private financial information for each start-up would be another possibility. These should theoretically improve the performance of the model. \n",
    "\n",
    "When it comes to features, we want to make sure that those additional variables pertain to the early stages of company development, so that we could predict start-up success at Series A funding round at the latest. "
   ]
  },
  {
   "cell_type": "markdown",
   "metadata": {
    "collapsed": true
   },
   "source": [
    "<b>Model:</b><br></br>\n",
    "\n",
    "The model itself is quite basic at the moment. We only considered Logistic Regression and Random Forest as potential models. However, other models could be considered as well. Support Vector Machines, other binary classifiers, or a combination of different models might ultimately yield better results.<br></br>\n",
    "\n",
    "In addition, we can also venture beyond predicting successful vs. unsuccessful outcome but can attempt to predict whether a company will end up getting listed or will get acquired. The latter information might be especially interesting and actionable for the advisory community or potential bidders.<br></br><br></br>\n",
    "\n",
    "What is important to remember is that this study was intended to start the conversation on applying machine-learning to start-up succes -- there is plenty of opportunity to build on the insights -- as well as the limitations -- of the current study.\n",
    "\n",
    "\n"
   ]
  },
  {
   "cell_type": "code",
   "execution_count": null,
   "metadata": {
    "collapsed": true
   },
   "outputs": [],
   "source": []
  },
  {
   "cell_type": "code",
   "execution_count": null,
   "metadata": {
    "collapsed": true
   },
   "outputs": [],
   "source": []
  }
 ],
 "metadata": {
  "anaconda-cloud": {},
  "celltoolbar": "Raw Cell Format",
  "kernelspec": {
   "display_name": "Python [default]",
   "language": "python",
   "name": "python3"
  },
  "language_info": {
   "codemirror_mode": {
    "name": "ipython",
    "version": 3
   },
   "file_extension": ".py",
   "mimetype": "text/x-python",
   "name": "python",
   "nbconvert_exporter": "python",
   "pygments_lexer": "ipython3",
   "version": "3.5.2"
  }
 },
 "nbformat": 4,
 "nbformat_minor": 1
}
